{
 "cells": [
  {
   "cell_type": "markdown",
   "metadata": {},
   "source": [
    " ## Seattle - Airbnb Data Set.\n",
    "\n"
   ]
  },
  {
   "cell_type": "markdown",
   "metadata": {},
   "source": [
    "#### In order to get a better grip over the Airbnb data set. Lets wrangle it to get a better understanding, and prepare it to solve the Business Questions.\n"
   ]
  },
  {
   "cell_type": "markdown",
   "metadata": {},
   "source": [
    "#### Business Questions:\n",
    "\n",
    "##### How does number of reviews drive the Airbnb Prices in Seattle?\n",
    "##### How competent and stable are the Airbnb prices dependent on popularity of a place?"
   ]
  },
  {
   "cell_type": "code",
   "execution_count": 3,
   "metadata": {},
   "outputs": [],
   "source": [
    "import time\n",
    "\n",
    "import numpy as np\n",
    "import pandas as pd\n",
    "import matplotlib.pyplot as plt\n",
    "from IPython import display\n",
    "%matplotlib inline\n",
    "\n",
    "import seaborn as sns\n",
    "\n",
    "import numba\n",
    "from numba import cuda\n",
    "\n",
    "from sklearn.preprocessing import MinMaxScaler\n",
    "\n",
    "from sklearn.model_selection import train_test_split\n",
    "\n",
    "from sklearn.metrics import fbeta_score, accuracy_score\n",
    "\n",
    "from sklearn.linear_model import LinearRegression\n",
    "\n",
    "from sklearn.naive_bayes import GaussianNB\n",
    "from sklearn.ensemble import RandomForestClassifier, AdaBoostClassifier\n",
    "from sklearn.tree import DecisionTreeClassifier\n",
    "from sklearn.svm import SVC\n",
    "from sklearn.neighbors import KNeighborsRegressor, KNeighborsClassifier\n",
    "\n",
    "from sklearn.metrics import r2_score, mean_squared_error\n",
    "\n",
    "from sklearn.model_selection import GridSearchCV,cross_val_score\n",
    "from sklearn.metrics import fbeta_score, make_scorer"
   ]
  },
  {
   "cell_type": "markdown",
   "metadata": {},
   "source": [
    "#### Loading the Datasets"
   ]
  },
  {
   "cell_type": "code",
   "execution_count": 4,
   "metadata": {},
   "outputs": [],
   "source": [
    "airbnb_listing_df = pd.read_csv('Data/Airbnb_Seattle/seattle_airbnb_listing.csv')\n",
    "\n",
    "airbnb_neighbourhood_df = pd.read_csv('Data/Airbnb_Seattle/seattle_airbnb_neighbourhoods.csv')\n",
    "\n",
    "airbnb_neighbourhood_geojson_df = pd.read_csv('Data/Airbnb_Seattle/seattle_airbnb_neighbourhoods_geojson.csv')\n",
    "\n",
    "airbnb_reviews_df = pd.read_csv('Data/Airbnb_Seattle/seattle_airbnb_reviews.csv')"
   ]
  },
  {
   "cell_type": "markdown",
   "metadata": {},
   "source": [
    "#### Finding the Rows and Columns in the Dataframes"
   ]
  },
  {
   "cell_type": "code",
   "execution_count": 9,
   "metadata": {},
   "outputs": [
    {
     "data": {
      "text/plain": [
       "(8740, 16)"
      ]
     },
     "execution_count": 9,
     "metadata": {},
     "output_type": "execute_result"
    }
   ],
   "source": [
    "airbnb_listing_df.shape"
   ]
  },
  {
   "cell_type": "code",
   "execution_count": 10,
   "metadata": {},
   "outputs": [
    {
     "data": {
      "text/plain": [
       "(90, 2)"
      ]
     },
     "execution_count": 10,
     "metadata": {},
     "output_type": "execute_result"
    }
   ],
   "source": [
    "airbnb_neighbourhood_df.shape"
   ]
  },
  {
   "cell_type": "code",
   "execution_count": 11,
   "metadata": {},
   "outputs": [
    {
     "data": {
      "text/plain": [
       "(90, 2)"
      ]
     },
     "execution_count": 11,
     "metadata": {},
     "output_type": "execute_result"
    }
   ],
   "source": [
    "airbnb_neighbourhood_geojson_df.shape"
   ]
  },
  {
   "cell_type": "code",
   "execution_count": 12,
   "metadata": {},
   "outputs": [
    {
     "data": {
      "text/plain": [
       "(373096, 2)"
      ]
     },
     "execution_count": 12,
     "metadata": {},
     "output_type": "execute_result"
    }
   ],
   "source": [
    "airbnb_reviews_df.shape"
   ]
  },
  {
   "cell_type": "markdown",
   "metadata": {},
   "source": [
    "#### Examning the dataframes"
   ]
  },
  {
   "cell_type": "code",
   "execution_count": 13,
   "metadata": {},
   "outputs": [
    {
     "data": {
      "text/html": [
       "<div>\n",
       "<style scoped>\n",
       "    .dataframe tbody tr th:only-of-type {\n",
       "        vertical-align: middle;\n",
       "    }\n",
       "\n",
       "    .dataframe tbody tr th {\n",
       "        vertical-align: top;\n",
       "    }\n",
       "\n",
       "    .dataframe thead th {\n",
       "        text-align: right;\n",
       "    }\n",
       "</style>\n",
       "<table border=\"1\" class=\"dataframe\">\n",
       "  <thead>\n",
       "    <tr style=\"text-align: right;\">\n",
       "      <th></th>\n",
       "      <th>id</th>\n",
       "      <th>name</th>\n",
       "      <th>host_id</th>\n",
       "      <th>host_name</th>\n",
       "      <th>neighbourhood_group</th>\n",
       "      <th>neighbourhood</th>\n",
       "      <th>latitude</th>\n",
       "      <th>longitude</th>\n",
       "      <th>room_type</th>\n",
       "      <th>price</th>\n",
       "      <th>minimum_nights</th>\n",
       "      <th>number_of_reviews</th>\n",
       "      <th>last_review</th>\n",
       "      <th>reviews_per_month</th>\n",
       "      <th>calculated_host_listings_count</th>\n",
       "      <th>availability_365</th>\n",
       "    </tr>\n",
       "  </thead>\n",
       "  <tbody>\n",
       "    <tr>\n",
       "      <th>0</th>\n",
       "      <td>2318</td>\n",
       "      <td>Casa Madrona - Urban Oasis, 1 block from the P...</td>\n",
       "      <td>2536</td>\n",
       "      <td>Megan</td>\n",
       "      <td>Central Area</td>\n",
       "      <td>Madrona</td>\n",
       "      <td>47.610819</td>\n",
       "      <td>-122.290816</td>\n",
       "      <td>Entire home/apt</td>\n",
       "      <td>296</td>\n",
       "      <td>4</td>\n",
       "      <td>20</td>\n",
       "      <td>9/18/2018</td>\n",
       "      <td>0.16</td>\n",
       "      <td>3</td>\n",
       "      <td>345</td>\n",
       "    </tr>\n",
       "    <tr>\n",
       "      <th>1</th>\n",
       "      <td>4291</td>\n",
       "      <td>Sunrise in Seattle Master Suite</td>\n",
       "      <td>35749</td>\n",
       "      <td>Jess &amp; Joey</td>\n",
       "      <td>Other neighborhoods</td>\n",
       "      <td>Roosevelt</td>\n",
       "      <td>47.687801</td>\n",
       "      <td>-122.313427</td>\n",
       "      <td>Private room</td>\n",
       "      <td>82</td>\n",
       "      <td>2</td>\n",
       "      <td>63</td>\n",
       "      <td>10/6/2018</td>\n",
       "      <td>0.96</td>\n",
       "      <td>5</td>\n",
       "      <td>365</td>\n",
       "    </tr>\n",
       "    <tr>\n",
       "      <th>2</th>\n",
       "      <td>5682</td>\n",
       "      <td>Cozy Studio, min. to downtown -WiFi</td>\n",
       "      <td>8993</td>\n",
       "      <td>Maddy</td>\n",
       "      <td>Delridge</td>\n",
       "      <td>South Delridge</td>\n",
       "      <td>47.523979</td>\n",
       "      <td>-122.359891</td>\n",
       "      <td>Entire home/apt</td>\n",
       "      <td>48</td>\n",
       "      <td>3</td>\n",
       "      <td>461</td>\n",
       "      <td>11/2/2018</td>\n",
       "      <td>4.37</td>\n",
       "      <td>1</td>\n",
       "      <td>24</td>\n",
       "    </tr>\n",
       "    <tr>\n",
       "      <th>3</th>\n",
       "      <td>6606</td>\n",
       "      <td>Fab, private seattle urban cottage!</td>\n",
       "      <td>14942</td>\n",
       "      <td>Joyce</td>\n",
       "      <td>Other neighborhoods</td>\n",
       "      <td>Wallingford</td>\n",
       "      <td>47.654109</td>\n",
       "      <td>-122.337605</td>\n",
       "      <td>Entire home/apt</td>\n",
       "      <td>90</td>\n",
       "      <td>2</td>\n",
       "      <td>134</td>\n",
       "      <td>10/21/2018</td>\n",
       "      <td>1.18</td>\n",
       "      <td>3</td>\n",
       "      <td>287</td>\n",
       "    </tr>\n",
       "    <tr>\n",
       "      <th>4</th>\n",
       "      <td>9419</td>\n",
       "      <td>Glorious sun room w/ memory foambed</td>\n",
       "      <td>30559</td>\n",
       "      <td>Angielena</td>\n",
       "      <td>Other neighborhoods</td>\n",
       "      <td>Georgetown</td>\n",
       "      <td>47.550620</td>\n",
       "      <td>-122.320135</td>\n",
       "      <td>Private room</td>\n",
       "      <td>65</td>\n",
       "      <td>2</td>\n",
       "      <td>130</td>\n",
       "      <td>9/9/2018</td>\n",
       "      <td>1.29</td>\n",
       "      <td>5</td>\n",
       "      <td>336</td>\n",
       "    </tr>\n",
       "  </tbody>\n",
       "</table>\n",
       "</div>"
      ],
      "text/plain": [
       "     id                                               name  host_id  \\\n",
       "0  2318  Casa Madrona - Urban Oasis, 1 block from the P...     2536   \n",
       "1  4291                    Sunrise in Seattle Master Suite    35749   \n",
       "2  5682                Cozy Studio, min. to downtown -WiFi     8993   \n",
       "3  6606                Fab, private seattle urban cottage!    14942   \n",
       "4  9419                Glorious sun room w/ memory foambed    30559   \n",
       "\n",
       "     host_name  neighbourhood_group   neighbourhood   latitude   longitude  \\\n",
       "0        Megan         Central Area         Madrona  47.610819 -122.290816   \n",
       "1  Jess & Joey  Other neighborhoods       Roosevelt  47.687801 -122.313427   \n",
       "2        Maddy             Delridge  South Delridge  47.523979 -122.359891   \n",
       "3        Joyce  Other neighborhoods     Wallingford  47.654109 -122.337605   \n",
       "4    Angielena  Other neighborhoods      Georgetown  47.550620 -122.320135   \n",
       "\n",
       "         room_type  price  minimum_nights  number_of_reviews last_review  \\\n",
       "0  Entire home/apt    296               4                 20   9/18/2018   \n",
       "1     Private room     82               2                 63   10/6/2018   \n",
       "2  Entire home/apt     48               3                461   11/2/2018   \n",
       "3  Entire home/apt     90               2                134  10/21/2018   \n",
       "4     Private room     65               2                130    9/9/2018   \n",
       "\n",
       "   reviews_per_month  calculated_host_listings_count  availability_365  \n",
       "0               0.16                               3               345  \n",
       "1               0.96                               5               365  \n",
       "2               4.37                               1                24  \n",
       "3               1.18                               3               287  \n",
       "4               1.29                               5               336  "
      ]
     },
     "execution_count": 13,
     "metadata": {},
     "output_type": "execute_result"
    }
   ],
   "source": [
    "airbnb_listing_df.head()"
   ]
  },
  {
   "cell_type": "code",
   "execution_count": null,
   "metadata": {},
   "outputs": [],
   "source": []
  },
  {
   "cell_type": "code",
   "execution_count": 8,
   "metadata": {},
   "outputs": [
    {
     "data": {
      "text/html": [
       "<div>\n",
       "<style scoped>\n",
       "    .dataframe tbody tr th:only-of-type {\n",
       "        vertical-align: middle;\n",
       "    }\n",
       "\n",
       "    .dataframe tbody tr th {\n",
       "        vertical-align: top;\n",
       "    }\n",
       "\n",
       "    .dataframe thead th {\n",
       "        text-align: right;\n",
       "    }\n",
       "</style>\n",
       "<table border=\"1\" class=\"dataframe\">\n",
       "  <thead>\n",
       "    <tr style=\"text-align: right;\">\n",
       "      <th></th>\n",
       "      <th>neighbourhood_group</th>\n",
       "      <th>neighbourhood</th>\n",
       "    </tr>\n",
       "  </thead>\n",
       "  <tbody>\n",
       "    <tr>\n",
       "      <th>0</th>\n",
       "      <td>Ballard</td>\n",
       "      <td>Adams</td>\n",
       "    </tr>\n",
       "    <tr>\n",
       "      <th>1</th>\n",
       "      <td>Ballard</td>\n",
       "      <td>Loyal Heights</td>\n",
       "    </tr>\n",
       "    <tr>\n",
       "      <th>2</th>\n",
       "      <td>Ballard</td>\n",
       "      <td>Sunset Hill</td>\n",
       "    </tr>\n",
       "    <tr>\n",
       "      <th>3</th>\n",
       "      <td>Ballard</td>\n",
       "      <td>West Woodland</td>\n",
       "    </tr>\n",
       "    <tr>\n",
       "      <th>4</th>\n",
       "      <td>Ballard</td>\n",
       "      <td>Whittier Heights</td>\n",
       "    </tr>\n",
       "  </tbody>\n",
       "</table>\n",
       "</div>"
      ],
      "text/plain": [
       "  neighbourhood_group     neighbourhood\n",
       "0             Ballard             Adams\n",
       "1             Ballard     Loyal Heights\n",
       "2             Ballard       Sunset Hill\n",
       "3             Ballard     West Woodland\n",
       "4             Ballard  Whittier Heights"
      ]
     },
     "execution_count": 8,
     "metadata": {},
     "output_type": "execute_result"
    }
   ],
   "source": [
    "airbnb_neighbourhood_df.head()"
   ]
  },
  {
   "cell_type": "code",
   "execution_count": 9,
   "metadata": {},
   "outputs": [
    {
     "data": {
      "text/html": [
       "<div>\n",
       "<style scoped>\n",
       "    .dataframe tbody tr th:only-of-type {\n",
       "        vertical-align: middle;\n",
       "    }\n",
       "\n",
       "    .dataframe tbody tr th {\n",
       "        vertical-align: top;\n",
       "    }\n",
       "\n",
       "    .dataframe thead th {\n",
       "        text-align: right;\n",
       "    }\n",
       "</style>\n",
       "<table border=\"1\" class=\"dataframe\">\n",
       "  <thead>\n",
       "    <tr style=\"text-align: right;\">\n",
       "      <th></th>\n",
       "      <th>neighbourhood_group</th>\n",
       "      <th>neighbourhood</th>\n",
       "    </tr>\n",
       "  </thead>\n",
       "  <tbody>\n",
       "    <tr>\n",
       "      <th>0</th>\n",
       "      <td>Ballard</td>\n",
       "      <td>Adams</td>\n",
       "    </tr>\n",
       "    <tr>\n",
       "      <th>1</th>\n",
       "      <td>Ballard</td>\n",
       "      <td>Loyal Heights</td>\n",
       "    </tr>\n",
       "    <tr>\n",
       "      <th>2</th>\n",
       "      <td>Ballard</td>\n",
       "      <td>Sunset Hill</td>\n",
       "    </tr>\n",
       "    <tr>\n",
       "      <th>3</th>\n",
       "      <td>Ballard</td>\n",
       "      <td>West Woodland</td>\n",
       "    </tr>\n",
       "    <tr>\n",
       "      <th>4</th>\n",
       "      <td>Ballard</td>\n",
       "      <td>Whittier Heights</td>\n",
       "    </tr>\n",
       "  </tbody>\n",
       "</table>\n",
       "</div>"
      ],
      "text/plain": [
       "  neighbourhood_group     neighbourhood\n",
       "0             Ballard             Adams\n",
       "1             Ballard     Loyal Heights\n",
       "2             Ballard       Sunset Hill\n",
       "3             Ballard     West Woodland\n",
       "4             Ballard  Whittier Heights"
      ]
     },
     "execution_count": 9,
     "metadata": {},
     "output_type": "execute_result"
    }
   ],
   "source": [
    "airbnb_neighbourhood_geojson_df.head()"
   ]
  },
  {
   "cell_type": "code",
   "execution_count": 10,
   "metadata": {},
   "outputs": [
    {
     "data": {
      "text/html": [
       "<div>\n",
       "<style scoped>\n",
       "    .dataframe tbody tr th:only-of-type {\n",
       "        vertical-align: middle;\n",
       "    }\n",
       "\n",
       "    .dataframe tbody tr th {\n",
       "        vertical-align: top;\n",
       "    }\n",
       "\n",
       "    .dataframe thead th {\n",
       "        text-align: right;\n",
       "    }\n",
       "</style>\n",
       "<table border=\"1\" class=\"dataframe\">\n",
       "  <thead>\n",
       "    <tr style=\"text-align: right;\">\n",
       "      <th></th>\n",
       "      <th>listing_id</th>\n",
       "      <th>date</th>\n",
       "    </tr>\n",
       "  </thead>\n",
       "  <tbody>\n",
       "    <tr>\n",
       "      <th>0</th>\n",
       "      <td>2318</td>\n",
       "      <td>2008-09-15</td>\n",
       "    </tr>\n",
       "    <tr>\n",
       "      <th>1</th>\n",
       "      <td>2318</td>\n",
       "      <td>2017-01-10</td>\n",
       "    </tr>\n",
       "    <tr>\n",
       "      <th>2</th>\n",
       "      <td>2318</td>\n",
       "      <td>2017-04-01</td>\n",
       "    </tr>\n",
       "    <tr>\n",
       "      <th>3</th>\n",
       "      <td>2318</td>\n",
       "      <td>2017-04-25</td>\n",
       "    </tr>\n",
       "    <tr>\n",
       "      <th>4</th>\n",
       "      <td>2318</td>\n",
       "      <td>2017-06-18</td>\n",
       "    </tr>\n",
       "  </tbody>\n",
       "</table>\n",
       "</div>"
      ],
      "text/plain": [
       "   listing_id        date\n",
       "0        2318  2008-09-15\n",
       "1        2318  2017-01-10\n",
       "2        2318  2017-04-01\n",
       "3        2318  2017-04-25\n",
       "4        2318  2017-06-18"
      ]
     },
     "execution_count": 10,
     "metadata": {},
     "output_type": "execute_result"
    }
   ],
   "source": [
    "airbnb_reviews_df.head()"
   ]
  },
  {
   "cell_type": "markdown",
   "metadata": {},
   "source": [
    "#### Testing Numba Library for GPU processing"
   ]
  },
  {
   "cell_type": "code",
   "execution_count": 11,
   "metadata": {},
   "outputs": [
    {
     "name": "stdout",
     "output_type": "stream",
     "text": [
      "<Managed Device 0>\n"
     ]
    }
   ],
   "source": [
    "print(cuda.gpus)"
   ]
  },
  {
   "cell_type": "code",
   "execution_count": 12,
   "metadata": {},
   "outputs": [
    {
     "name": "stdout",
     "output_type": "stream",
     "text": [
      "<class 'numba.cuda.stubs.blockDim'>\n"
     ]
    }
   ],
   "source": [
    "#thread id in 1D block\n",
    "\n",
    "# blockwidth = number of threads per block\n",
    "bw = cuda.blockDim\n",
    "print(bw)\n"
   ]
  },
  {
   "cell_type": "code",
   "execution_count": 13,
   "metadata": {},
   "outputs": [
    {
     "data": {
      "text/plain": [
       "{'availability_365',\n",
       " 'calculated_host_listings_count',\n",
       " 'host_id',\n",
       " 'host_name',\n",
       " 'id',\n",
       " 'latitude',\n",
       " 'longitude',\n",
       " 'minimum_nights',\n",
       " 'name',\n",
       " 'neighbourhood',\n",
       " 'neighbourhood_group',\n",
       " 'number_of_reviews',\n",
       " 'price',\n",
       " 'room_type'}"
      ]
     },
     "execution_count": 13,
     "metadata": {},
     "output_type": "execute_result"
    }
   ],
   "source": [
    "no_nulls = set(airbnb_listing_df.columns[np.sum(airbnb_listing_df.isnull()) == 0])\n",
    "\n",
    "no_nulls"
   ]
  },
  {
   "cell_type": "markdown",
   "metadata": {},
   "source": [
    "#### A Set Columns Names missing more than 10% of their values missing."
   ]
  },
  {
   "cell_type": "code",
   "execution_count": 14,
   "metadata": {},
   "outputs": [
    {
     "data": {
      "text/plain": [
       "{'last_review', 'reviews_per_month'}"
      ]
     },
     "execution_count": 14,
     "metadata": {},
     "output_type": "execute_result"
    }
   ],
   "source": [
    "set(airbnb_listing_df.columns[airbnb_listing_df.isnull().mean() > .1])"
   ]
  },
  {
   "cell_type": "code",
   "execution_count": 15,
   "metadata": {},
   "outputs": [
    {
     "data": {
      "text/plain": [
       "id                                0.000000\n",
       "name                              0.000000\n",
       "host_id                           0.000000\n",
       "host_name                         0.000000\n",
       "neighbourhood_group               0.000000\n",
       "neighbourhood                     0.000000\n",
       "latitude                          0.000000\n",
       "longitude                         0.000000\n",
       "room_type                         0.000000\n",
       "price                             0.000000\n",
       "minimum_nights                    0.000000\n",
       "number_of_reviews                 0.000000\n",
       "last_review                       0.119908\n",
       "reviews_per_month                 0.120023\n",
       "calculated_host_listings_count    0.000000\n",
       "availability_365                  0.000000\n",
       "dtype: float64"
      ]
     },
     "execution_count": 15,
     "metadata": {},
     "output_type": "execute_result"
    }
   ],
   "source": [
    "airbnb_listing_df.isnull().mean()"
   ]
  },
  {
   "cell_type": "markdown",
   "metadata": {},
   "source": [
    "#### Histogram Distribution of Neighbourhood Groups"
   ]
  },
  {
   "cell_type": "code",
   "execution_count": 16,
   "metadata": {},
   "outputs": [
    {
     "name": "stdout",
     "output_type": "stream",
     "text": [
      "Other neighborhoods    1641\n",
      "Downtown               1509\n",
      "Capitol Hill           1024\n",
      "Central Area            762\n",
      "Queen Anne              645\n",
      "Ballard                 492\n",
      "West Seattle            460\n",
      "Rainier Valley          421\n",
      "Beacon Hill             335\n",
      "Cascade                 325\n",
      "University District     247\n",
      "Delridge                247\n",
      "Northgate               214\n",
      "Magnolia                164\n",
      "Lake City               155\n",
      "Seward Park              83\n",
      "Interbay                 16\n",
      "Name: neighbourhood_group, dtype: int64\n",
      "Other neighborhoods    96.529412\n",
      "Downtown               88.764706\n",
      "Capitol Hill           60.235294\n",
      "Central Area           44.823529\n",
      "Queen Anne             37.941176\n",
      "Ballard                28.941176\n",
      "West Seattle           27.058824\n",
      "Rainier Valley         24.764706\n",
      "Beacon Hill            19.705882\n",
      "Cascade                19.117647\n",
      "University District    14.529412\n",
      "Delridge               14.529412\n",
      "Northgate              12.588235\n",
      "Magnolia                9.647059\n",
      "Lake City               9.117647\n",
      "Seward Park             4.882353\n",
      "Interbay                0.941176\n",
      "Name: neighbourhood_group, dtype: float64\n"
     ]
    },
    {
     "data": {
      "text/plain": [
       "Text(0.5, 1.0, '# of Airbnb Listings in Neighbourhood Groups')"
      ]
     },
     "execution_count": 16,
     "metadata": {},
     "output_type": "execute_result"
    },
    {
     "data": {
      "image/png": "[encoded data removed]",
      "text/plain": [
       "<Figure size 1440x720 with 1 Axes>"
      ]
     },
     "metadata": {
      "needs_background": "light"
     },
     "output_type": "display_data"
    }
   ],
   "source": [
    "ngh_grp = airbnb_listing_df.neighbourhood_group.value_counts().sort_values(ascending = False)\n",
    "print(ngh_grp)\n",
    "\n",
    "print(ngh_grp/ngh_grp.shape[0])\n",
    "\n",
    "(ngh_grp/ngh_grp.shape[0]).plot(kind = \"bar\", figsize = (20,10), legend = True)\n",
    "plt.title(\"# of Airbnb Listings in Neighbourhood Groups\")"
   ]
  },
  {
   "cell_type": "markdown",
   "metadata": {},
   "source": [
    "#### Understanding the Listing Data\n",
    "###### List of neighbourhoods with highest Airbnb reviews in Seattle,WA"
   ]
  },
  {
   "cell_type": "code",
   "execution_count": 17,
   "metadata": {},
   "outputs": [
    {
     "name": "stdout",
     "output_type": "stream",
     "text": [
      "                   neighbourhood_group              neighbourhood\n",
      "number_of_reviews                                                \n",
      "717                           Downtown     International District\n",
      "703                           Downtown     International District\n",
      "683                            Ballard           Whittier Heights\n",
      "636                            Ballard           Whittier Heights\n",
      "513                     Rainier Valley                Mount Baker\n",
      "481                            Ballard                      Adams\n",
      "479                            Ballard                      Adams\n",
      "478                           Downtown  Central Business District\n",
      "477                Other neighborhoods                    Fremont\n",
      "476                       Central Area      Harrison/Denny-Blaine\n",
      "461                           Delridge             South Delridge\n",
      "453                           Downtown                   Belltown\n",
      "448                Other neighborhoods                    Fremont\n",
      "446                     Rainier Valley              Columbia City\n",
      "439                           Interbay                   Interbay\n",
      "434                            Ballard              West Woodland\n",
      "427                       Central Area                      Minor\n",
      "420                            Ballard                      Adams\n",
      "409                       Central Area                   Atlantic\n",
      "406                Other neighborhoods                Sunset Hill\n",
      "403                       Central Area                      Minor\n",
      "399                           Downtown                 First Hill\n",
      "398                            Ballard              Loyal Heights\n",
      "394                         Queen Anne           Lower Queen Anne\n",
      "383                       Central Area                      Minor\n",
      "380                            Cascade                    Stevens\n",
      "376                Other neighborhoods                    Ravenna\n",
      "375                          Northgate              Loyal Heights\n",
      "369                       Capitol Hill                   Broadway\n",
      "366                            Ballard              West Woodland\n",
      "...                                ...                        ...\n",
      "29                        West Seattle             Yesler Terrace\n",
      "28                        West Seattle             Yesler Terrace\n",
      "27                        West Seattle              West Woodland\n",
      "26                        West Seattle             Yesler Terrace\n",
      "25                        West Seattle                   Westlake\n",
      "24                        West Seattle              West Woodland\n",
      "23                        West Seattle           Whittier Heights\n",
      "22                        West Seattle             Yesler Terrace\n",
      "21                        West Seattle           Whittier Heights\n",
      "20                        West Seattle                   Westlake\n",
      "19                        West Seattle           Whittier Heights\n",
      "18                        West Seattle           Whittier Heights\n",
      "17                        West Seattle                   Westlake\n",
      "16                        West Seattle             Yesler Terrace\n",
      "15                        West Seattle           Whittier Heights\n",
      "14                        West Seattle           Whittier Heights\n",
      "13                        West Seattle           Whittier Heights\n",
      "12                        West Seattle             Yesler Terrace\n",
      "11                        West Seattle             Yesler Terrace\n",
      "10                        West Seattle             Yesler Terrace\n",
      "9                         West Seattle             Yesler Terrace\n",
      "8                         West Seattle           Whittier Heights\n",
      "7                         West Seattle           Whittier Heights\n",
      "6                         West Seattle             Yesler Terrace\n",
      "5                         West Seattle             Yesler Terrace\n",
      "4                         West Seattle             Yesler Terrace\n",
      "3                         West Seattle             Yesler Terrace\n",
      "2                         West Seattle             Yesler Terrace\n",
      "1                         West Seattle             Yesler Terrace\n",
      "0                         West Seattle             Yesler Terrace\n",
      "\n",
      "[354 rows x 2 columns]\n",
      "['Central Area', 'Other neighborhoods', 'Delridge', 'Downtown', 'West Seattle', 'Northgate', 'Ballard', 'Capitol Hill', 'Beacon Hill', 'Cascade', 'Seward Park', 'Queen Anne', 'Rainier Valley', 'Magnolia', 'Lake City', 'University District', 'Interbay']\n"
     ]
    }
   ],
   "source": [
    "areas_and_reviews = airbnb_listing_df.groupby(by = [\"number_of_reviews\"])[\"neighbourhood_group\",\"neighbourhood\"].max()[::-1]\n",
    "print(areas_and_reviews)\n",
    "\n",
    "\n",
    "print(airbnb_listing_df.neighbourhood_group.unique().tolist())\n"
   ]
  },
  {
   "cell_type": "markdown",
   "metadata": {},
   "source": [
    "#### Number of Reviews in Neighbourhood Groups  "
   ]
  },
  {
   "cell_type": "code",
   "execution_count": 18,
   "metadata": {},
   "outputs": [],
   "source": [
    "areas_and_reviews_2 = airbnb_listing_df.groupby(by = [\"neighbourhood_group\"])[\"number_of_reviews\"].sum()[::-1].sort_values(ascending = False)"
   ]
  },
  {
   "cell_type": "code",
   "execution_count": 19,
   "metadata": {},
   "outputs": [
    {
     "name": "stdout",
     "output_type": "stream",
     "text": [
      "neighbourhood_group\n",
      "Other neighborhoods    71443\n",
      "Downtown               51333\n",
      "Capitol Hill           50031\n",
      "Central Area           40932\n",
      "Queen Anne             28131\n",
      "Ballard                26850\n",
      "West Seattle           20644\n",
      "Rainier Valley         19982\n",
      "Beacon Hill            16947\n",
      "Delridge               10054\n",
      "Cascade                 7998\n",
      "Northgate               7537\n",
      "University District     6239\n",
      "Magnolia                5676\n",
      "Lake City               5181\n",
      "Seward Park             3917\n",
      "Interbay                 939\n",
      "Name: number_of_reviews, dtype: int64\n"
     ]
    },
    {
     "data": {
      "text/plain": [
       "Text(0.5, 1.0, '# of Airbnb Reviews in Seattle Neighbourhood Groups')"
      ]
     },
     "execution_count": 19,
     "metadata": {},
     "output_type": "execute_result"
    },
    {
     "data": {
      "image/png": "[encoded data removed]",
      "text/plain": [
       "<Figure size 1440x720 with 1 Axes>"
      ]
     },
     "metadata": {
      "needs_background": "light"
     },
     "output_type": "display_data"
    }
   ],
   "source": [
    "print(areas_and_reviews_2)\n",
    "\n",
    "areas_and_reviews_2.plot(kind = \"bar\", figsize = (20,10), legend = True)\n",
    "plt.title(\"# of Airbnb Reviews in Seattle Neighbourhood Groups\")"
   ]
  },
  {
   "cell_type": "markdown",
   "metadata": {},
   "source": [
    "#### Average Price of Airbnb Listing in Seattle Neighbourhood Groups"
   ]
  },
  {
   "cell_type": "code",
   "execution_count": 20,
   "metadata": {},
   "outputs": [],
   "source": [
    "areas_and_prices = airbnb_listing_df.groupby(by = [\"neighbourhood_group\"])[\"price\"].mean()[::-1].sort_values(ascending = False)"
   ]
  },
  {
   "cell_type": "code",
   "execution_count": 21,
   "metadata": {},
   "outputs": [
    {
     "name": "stdout",
     "output_type": "stream",
     "text": [
      "neighbourhood_group\n",
      "Downtown               204.373095\n",
      "Queen Anne             192.838760\n",
      "Cascade                179.384615\n",
      "Magnolia               164.676829\n",
      "Central Area           154.694226\n",
      "Seward Park            152.831325\n",
      "West Seattle           149.571739\n",
      "Capitol Hill           143.418945\n",
      "Ballard                142.504065\n",
      "Other neighborhoods    130.806825\n",
      "Lake City              121.567742\n",
      "Rainier Valley         120.344418\n",
      "University District    113.242915\n",
      "Beacon Hill            108.059701\n",
      "Interbay               104.625000\n",
      "Northgate              103.070093\n",
      "Delridge                97.113360\n",
      "Name: price, dtype: float64\n"
     ]
    },
    {
     "data": {
      "text/plain": [
       "Text(0.5, 1.0, 'Average Price of Airbnb Listing in Seattle Neighbour Groups')"
      ]
     },
     "execution_count": 21,
     "metadata": {},
     "output_type": "execute_result"
    },
    {
     "data": {
      "image/png": "[encoded data removed]",
      "text/plain": [
       "<Figure size 1440x720 with 1 Axes>"
      ]
     },
     "metadata": {
      "needs_background": "light"
     },
     "output_type": "display_data"
    }
   ],
   "source": [
    "print(areas_and_prices)\n",
    "\n",
    "areas_and_prices.plot(kind = \"bar\", figsize = (20,10), legend = True)\n",
    "plt.title(\"Average Price of Airbnb Listing in Seattle Neighbour Groups\")"
   ]
  },
  {
   "cell_type": "markdown",
   "metadata": {},
   "source": [
    "#### Average Prices and Number of Reviews on Airbnb Listings in Seattle Neighbour Groups"
   ]
  },
  {
   "cell_type": "code",
   "execution_count": 22,
   "metadata": {},
   "outputs": [],
   "source": [
    "price_and_review = pd.concat([areas_and_reviews_2,areas_and_prices], axis = 1, sort = True).sort_values(by=\"number_of_reviews\", ascending =  False)"
   ]
  },
  {
   "cell_type": "code",
   "execution_count": 23,
   "metadata": {},
   "outputs": [
    {
     "name": "stdout",
     "output_type": "stream",
     "text": [
      "                     number_of_reviews       price\n",
      "Other neighborhoods              71443  130.806825\n",
      "Downtown                         51333  204.373095\n",
      "Capitol Hill                     50031  143.418945\n",
      "Central Area                     40932  154.694226\n",
      "Queen Anne                       28131  192.838760\n",
      "Ballard                          26850  142.504065\n",
      "West Seattle                     20644  149.571739\n",
      "Rainier Valley                   19982  120.344418\n",
      "Beacon Hill                      16947  108.059701\n",
      "Delridge                         10054   97.113360\n",
      "Cascade                           7998  179.384615\n",
      "Northgate                         7537  103.070093\n",
      "University District               6239  113.242915\n",
      "Magnolia                          5676  164.676829\n",
      "Lake City                         5181  121.567742\n",
      "Seward Park                       3917  152.831325\n",
      "Interbay                           939  104.625000\n"
     ]
    }
   ],
   "source": [
    "print(price_and_review)\n"
   ]
  },
  {
   "cell_type": "markdown",
   "metadata": {},
   "source": [
    "#### Reviews per Month of different Neighbourhood Groups in Seattle\n"
   ]
  },
  {
   "cell_type": "code",
   "execution_count": 24,
   "metadata": {},
   "outputs": [],
   "source": [
    "reviews_per_month = airbnb_listing_df.groupby(by = [\"neighbourhood_group\"])[\"reviews_per_month\"].sum()[::-1].sort_values(ascending = False)"
   ]
  },
  {
   "cell_type": "code",
   "execution_count": 25,
   "metadata": {},
   "outputs": [
    {
     "data": {
      "text/plain": [
       "neighbourhood_group\n",
       "Other neighborhoods    3344.85\n",
       "Downtown               2689.21\n",
       "Capitol Hill           2499.18\n",
       "Central Area           2102.11\n",
       "Queen Anne             1458.07\n",
       "Ballard                1167.25\n",
       "West Seattle           1050.06\n",
       "Rainier Valley          985.72\n",
       "Beacon Hill             891.24\n",
       "Delridge                597.68\n",
       "Cascade                 530.29\n",
       "Northgate               443.68\n",
       "Magnolia                360.19\n",
       "University District     307.75\n",
       "Lake City               283.34\n",
       "Seward Park             166.93\n",
       "Interbay                 58.38\n",
       "Name: reviews_per_month, dtype: float64"
      ]
     },
     "execution_count": 25,
     "metadata": {},
     "output_type": "execute_result"
    }
   ],
   "source": [
    "reviews_per_month"
   ]
  },
  {
   "cell_type": "markdown",
   "metadata": {},
   "source": [
    "#### Finding the neighbourhoods associated with Other Neighbourhood Groups"
   ]
  },
  {
   "cell_type": "code",
   "execution_count": 26,
   "metadata": {},
   "outputs": [],
   "source": [
    "neighbourhoods = airbnb_listing_df.groupby(by = [\"neighbourhood_group\"])[\"neighbourhood\"]\n",
    "#[airbnb_listing_df.neighbourhood_group == \"Other neighborhoods\"]"
   ]
  },
  {
   "cell_type": "code",
   "execution_count": 27,
   "metadata": {},
   "outputs": [
    {
     "name": "stdout",
     "output_type": "stream",
     "text": [
      "Other neighborhoods 1                    Roosevelt\n",
      "3                  Wallingford\n",
      "4                   Georgetown\n",
      "8                  Wallingford\n",
      "13                 Wallingford\n",
      "15                  Green Lake\n",
      "16                  Green Lake\n",
      "17                  Green Lake\n",
      "31                 Wallingford\n",
      "33                 Wallingford\n",
      "34                    Wedgwood\n",
      "35                  Windermere\n",
      "37                    Wedgwood\n",
      "38               Phinney Ridge\n",
      "41                    Wedgwood\n",
      "42                    Wedgwood\n",
      "47                  Green Lake\n",
      "48                  Green Lake\n",
      "52                     Fremont\n",
      "54                     Fremont\n",
      "55                 Wallingford\n",
      "56                  Green Lake\n",
      "76               Phinney Ridge\n",
      "77                  View Ridge\n",
      "80                  Crown Hill\n",
      "84                     Fremont\n",
      "85               Phinney Ridge\n",
      "87               Phinney Ridge\n",
      "90                  Georgetown\n",
      "94                 Wallingford\n",
      "                 ...          \n",
      "8580             Phinney Ridge\n",
      "8583                 Greenwood\n",
      "8585                South Park\n",
      "8589                   Fremont\n",
      "8595                 Roosevelt\n",
      "8598             Phinney Ridge\n",
      "8599                   Fremont\n",
      "8601               Bitter Lake\n",
      "8603                 Greenwood\n",
      "8604                 Greenwood\n",
      "8605                 Greenwood\n",
      "8616               Bitter Lake\n",
      "8624               Wallingford\n",
      "8629                Crown Hill\n",
      "8633                   Fremont\n",
      "8638                   Fremont\n",
      "8640                Windermere\n",
      "8650                   Ravenna\n",
      "8654                   Ravenna\n",
      "8655                  Wedgwood\n",
      "8663                 Roosevelt\n",
      "8666                 Roosevelt\n",
      "8671               Wallingford\n",
      "8673    North Beach/Blue Ridge\n",
      "8674                  Wedgwood\n",
      "8678               Wallingford\n",
      "8682                Green Lake\n",
      "8696               Wallingford\n",
      "8713             Phinney Ridge\n",
      "8714               Wallingford\n",
      "Name: neighbourhood, Length: 1641, dtype: object\n"
     ]
    }
   ],
   "source": [
    "other_neighbourhood_list = []\n",
    "\n",
    "for key, item in neighbourhoods:\n",
    "    if key == \"Other neighborhoods\":\n",
    "        print(key,item)\n",
    "        other_neighborhoods = item\n",
    "        other_neighbourhood_list.append(item.tolist())"
   ]
  },
  {
   "cell_type": "markdown",
   "metadata": {},
   "source": [
    "##### List of the neighbourhoods in Seattle associated with Other Neighbourhood Groups"
   ]
  },
  {
   "cell_type": "code",
   "execution_count": 28,
   "metadata": {},
   "outputs": [
    {
     "data": {
      "text/plain": [
       "['Roosevelt',\n",
       " 'Wallingford',\n",
       " 'Georgetown',\n",
       " 'Green Lake',\n",
       " 'Wedgwood',\n",
       " 'Windermere',\n",
       " 'Phinney Ridge',\n",
       " 'Fremont',\n",
       " 'View Ridge',\n",
       " 'Crown Hill',\n",
       " 'North Beach/Blue Ridge',\n",
       " 'Greenwood',\n",
       " 'Ravenna',\n",
       " 'Broadview',\n",
       " 'Bitter Lake',\n",
       " 'Bryant',\n",
       " 'Industrial District',\n",
       " 'Laurelhurst',\n",
       " 'South Park']"
      ]
     },
     "execution_count": 28,
     "metadata": {},
     "output_type": "execute_result"
    }
   ],
   "source": [
    "other_neighborhoods.unique().tolist()"
   ]
  },
  {
   "cell_type": "code",
   "execution_count": 29,
   "metadata": {},
   "outputs": [
    {
     "data": {
      "text/plain": [
       "{'Bitter Lake',\n",
       " 'Broadview',\n",
       " 'Bryant',\n",
       " 'Crown Hill',\n",
       " 'Fremont',\n",
       " 'Georgetown',\n",
       " 'Green Lake',\n",
       " 'Greenwood',\n",
       " 'Industrial District',\n",
       " 'Laurelhurst',\n",
       " 'North Beach/Blue Ridge',\n",
       " 'Phinney Ridge',\n",
       " 'Ravenna',\n",
       " 'Roosevelt',\n",
       " 'South Park',\n",
       " 'View Ridge',\n",
       " 'Wallingford',\n",
       " 'Wedgwood',\n",
       " 'Windermere'}"
      ]
     },
     "execution_count": 29,
     "metadata": {},
     "output_type": "execute_result"
    }
   ],
   "source": [
    "other_neighbourhood_set = set(other_neighbourhood_list[0])\n",
    "\n",
    "other_neighbourhood_set"
   ]
  },
  {
   "cell_type": "markdown",
   "metadata": {},
   "source": [
    "#### Number of Reviews in all the neighbourhoods in Seattle"
   ]
  },
  {
   "cell_type": "code",
   "execution_count": 30,
   "metadata": {},
   "outputs": [],
   "source": [
    "areas_and_reviews_3 = airbnb_listing_df.groupby(by = [\"neighbourhood\"])[\"number_of_reviews\"].sum()[::-1].sort_values(ascending = False)"
   ]
  },
  {
   "cell_type": "code",
   "execution_count": 31,
   "metadata": {},
   "outputs": [
    {
     "data": {
      "text/plain": [
       "neighbourhood\n",
       "Broadway                     36780\n",
       "Belltown                     21987\n",
       "Minor                        19078\n",
       "Fremont                      16246\n",
       "Wallingford                  14994\n",
       "First Hill                   10496\n",
       "North Beacon Hill            10144\n",
       "Stevens                       8742\n",
       "Columbia City                 8145\n",
       "Lower Queen Anne              8080\n",
       "Greenwood                     8009\n",
       "Adams                         7742\n",
       "West Woodland                 7539\n",
       "East Queen Anne               7228\n",
       "Atlantic                      6927\n",
       "North Queen Anne              6907\n",
       "Mann                          6756\n",
       "University District           6239\n",
       "West Queen Anne               5916\n",
       "Green Lake                    5756\n",
       "Central Business District     5650\n",
       "Phinney Ridge                 5641\n",
       "Pike-Market                   5525\n",
       "Mount Baker                   5445\n",
       "North Admiral                 5385\n",
       "Mid-Beacon Hill               5001\n",
       "Loyal Heights                 4957\n",
       "Ravenna                       4479\n",
       "Whittier Heights              4439\n",
       "Alki                          4090\n",
       "                             ...  \n",
       "Georgetown                    1581\n",
       "Portage Bay                   1511\n",
       "Dunlap                        1478\n",
       "South Beacon Hill             1467\n",
       "Matthews Beach                1444\n",
       "High Point                    1434\n",
       "Victory Heights               1433\n",
       "Seaview                       1357\n",
       "Arbor Heights                 1291\n",
       "Fauntleroy                    1250\n",
       "Highland Park                 1207\n",
       "Bitter Lake                   1085\n",
       "View Ridge                    1000\n",
       "Wedgwood                       975\n",
       "North Beach/Blue Ridge         965\n",
       "Interbay                       939\n",
       "Yesler Terrace                 903\n",
       "Olympic Hills                  860\n",
       "Laurelhurst                    837\n",
       "Roxhill                        787\n",
       "Meadowbrook                    777\n",
       "Pinehurst                      702\n",
       "Rainier View                   692\n",
       "Cedar Park                     667\n",
       "South Park                     666\n",
       "Madison Park                   614\n",
       "Windermere                     557\n",
       "Briarcliff                     540\n",
       "Holly Park                     335\n",
       "Industrial District            161\n",
       "Name: number_of_reviews, Length: 88, dtype: int64"
      ]
     },
     "execution_count": 31,
     "metadata": {},
     "output_type": "execute_result"
    }
   ],
   "source": [
    "areas_and_reviews_3"
   ]
  },
  {
   "cell_type": "markdown",
   "metadata": {},
   "source": [
    "#### Number of Reviews in these neighbourhoods that make up Other Neighbourhood Group"
   ]
  },
  {
   "cell_type": "code",
   "execution_count": 32,
   "metadata": {},
   "outputs": [
    {
     "data": {
      "text/plain": [
       "neighbourhood\n",
       "Roosevelt                  2847\n",
       "Bitter Lake                1085\n",
       "Windermere                  557\n",
       "Phinney Ridge              5641\n",
       "Crown Hill                 2080\n",
       "South Park                  666\n",
       "Wedgwood                    975\n",
       "North Beach/Blue Ridge      965\n",
       "Greenwood                  8009\n",
       "Green Lake                 5756\n",
       "Fremont                   16246\n",
       "View Ridge                 1000\n",
       "Industrial District         161\n",
       "Broadview                  1799\n",
       "Laurelhurst                 837\n",
       "Ravenna                    4479\n",
       "Georgetown                 1581\n",
       "Wallingford               14994\n",
       "Bryant                     1765\n",
       "Name: number_of_reviews, dtype: int64"
      ]
     },
     "execution_count": 32,
     "metadata": {},
     "output_type": "execute_result"
    }
   ],
   "source": [
    "areas_and_reviews_3.loc[other_neighbourhood_set]"
   ]
  },
  {
   "cell_type": "markdown",
   "metadata": {},
   "source": [
    "#### Prices of Airbnb in all the Neighbourhoods in Seattle"
   ]
  },
  {
   "cell_type": "code",
   "execution_count": 33,
   "metadata": {},
   "outputs": [],
   "source": [
    "areas_and_prices_2 = airbnb_listing_df.groupby(by = [\"neighbourhood\"])[\"price\"].mean()[::-1].sort_values(ascending = False)"
   ]
  },
  {
   "cell_type": "code",
   "execution_count": 34,
   "metadata": {},
   "outputs": [
    {
     "data": {
      "text/plain": [
       "neighbourhood\n",
       "Harrison/Denny-Blaine        330.027778\n",
       "Central Business District    250.503676\n",
       "South Lake Union             245.850000\n",
       "West Queen Anne              244.689394\n",
       "Pike-Market                  236.748768\n",
       "Portage Bay                  228.533333\n",
       "Briarcliff                   212.478261\n",
       "Belltown                     195.643911\n",
       "Pioneer Square               193.537313\n",
       "Madison Park                 189.807692\n",
       "Sunset Hill                  189.290909\n",
       "Industrial District          186.333333\n",
       "Madrona                      185.619048\n",
       "First Hill                   182.413249\n",
       "North Beach/Blue Ridge       181.266667\n",
       "Fauntleroy                   181.062500\n",
       "Alki                         180.870000\n",
       "North Queen Anne             180.783439\n",
       "Cedar Park                   179.727273\n",
       "East Queen Anne              179.634483\n",
       "Lower Queen Anne             178.445498\n",
       "Holly Park                   172.250000\n",
       "Lawton Park                  165.146341\n",
       "Green Lake                   160.625000\n",
       "International District       158.602941\n",
       "Windermere                   157.545455\n",
       "North Admiral                154.352381\n",
       "Mann                         153.588235\n",
       "Seward Park                  152.831325\n",
       "Eastlake                     147.564356\n",
       "                                ...    \n",
       "Victory Heights              117.743590\n",
       "Atlantic                     117.609756\n",
       "Ravenna                      116.925926\n",
       "North Beacon Hill            116.285024\n",
       "Roosevelt                    115.035714\n",
       "Yesler Terrace               114.650000\n",
       "University District          113.242915\n",
       "Broadview                    110.450000\n",
       "Greenwood                    109.920398\n",
       "Crown Hill                   107.023810\n",
       "North Delridge               106.810345\n",
       "Interbay                     104.625000\n",
       "Brighton                     103.245614\n",
       "Haller Lake                  102.254545\n",
       "Wedgwood                     100.342105\n",
       "Rainier Beach                 97.142857\n",
       "Highland Park                 96.853659\n",
       "Riverview                     96.104167\n",
       "High Point                    93.878049\n",
       "Mid-Beacon Hill               91.035714\n",
       "Pinehurst                     90.735294\n",
       "Bitter Lake                   88.585366\n",
       "South Park                    87.666667\n",
       "Dunlap                        87.368421\n",
       "South Beacon Hill             86.222222\n",
       "North College Park            84.532258\n",
       "South Delridge                81.613636\n",
       "Meadowbrook                   81.388889\n",
       "Rainier View                  76.437500\n",
       "Olympic Hills                 76.392857\n",
       "Name: price, Length: 88, dtype: float64"
      ]
     },
     "execution_count": 34,
     "metadata": {},
     "output_type": "execute_result"
    }
   ],
   "source": [
    "areas_and_prices_2"
   ]
  },
  {
   "cell_type": "markdown",
   "metadata": {},
   "source": [
    "#### Prices of Airbnb in the Neighbourhoods that make up Other Neighbourhoods"
   ]
  },
  {
   "cell_type": "code",
   "execution_count": 35,
   "metadata": {},
   "outputs": [
    {
     "data": {
      "text/plain": [
       "neighbourhood\n",
       "Roosevelt                 115.035714\n",
       "Bitter Lake                88.585366\n",
       "Windermere                157.545455\n",
       "Phinney Ridge             131.157534\n",
       "Crown Hill                107.023810\n",
       "South Park                 87.666667\n",
       "Wedgwood                  100.342105\n",
       "North Beach/Blue Ridge    181.266667\n",
       "Greenwood                 109.920398\n",
       "Green Lake                160.625000\n",
       "Fremont                   144.244966\n",
       "View Ridge                124.272727\n",
       "Industrial District       186.333333\n",
       "Broadview                 110.450000\n",
       "Laurelhurst               134.235294\n",
       "Ravenna                   116.925926\n",
       "Georgetown                117.826087\n",
       "Wallingford               139.724458\n",
       "Bryant                    119.272727\n",
       "Name: price, dtype: float64"
      ]
     },
     "execution_count": 35,
     "metadata": {},
     "output_type": "execute_result"
    }
   ],
   "source": [
    "areas_and_prices_2.loc[other_neighbourhood_set]"
   ]
  },
  {
   "cell_type": "markdown",
   "metadata": {},
   "source": [
    "#### Dropping Other  Neighbourhoods and adding the individual neighbourhoods in that Group"
   ]
  },
  {
   "cell_type": "markdown",
   "metadata": {},
   "source": [
    "#### Reviews"
   ]
  },
  {
   "cell_type": "code",
   "execution_count": 36,
   "metadata": {},
   "outputs": [],
   "source": [
    "areas_and_reviews_cleaned = areas_and_reviews_2.copy(deep =True)"
   ]
  },
  {
   "cell_type": "code",
   "execution_count": 37,
   "metadata": {},
   "outputs": [
    {
     "data": {
      "text/plain": [
       "neighbourhood_group\n",
       "Downtown               51333\n",
       "Capitol Hill           50031\n",
       "Central Area           40932\n",
       "Queen Anne             28131\n",
       "Ballard                26850\n",
       "West Seattle           20644\n",
       "Rainier Valley         19982\n",
       "Beacon Hill            16947\n",
       "Delridge               10054\n",
       "Cascade                 7998\n",
       "Northgate               7537\n",
       "University District     6239\n",
       "Magnolia                5676\n",
       "Lake City               5181\n",
       "Seward Park             3917\n",
       "Interbay                 939\n",
       "Name: number_of_reviews, dtype: int64"
      ]
     },
     "execution_count": 37,
     "metadata": {},
     "output_type": "execute_result"
    }
   ],
   "source": [
    "\n",
    "areas_and_reviews_cleaned.drop(\"Other neighborhoods\", inplace = True)\n",
    "areas_and_reviews_cleaned"
   ]
  },
  {
   "cell_type": "code",
   "execution_count": 38,
   "metadata": {},
   "outputs": [],
   "source": [
    "areas_and_reviews_cleaned = areas_and_reviews_cleaned.append(areas_and_reviews_3.loc[other_neighbourhood_set]).sort_values(ascending = False)"
   ]
  },
  {
   "cell_type": "code",
   "execution_count": 39,
   "metadata": {},
   "outputs": [
    {
     "data": {
      "text/plain": [
       "Downtown                  51333\n",
       "Capitol Hill              50031\n",
       "Central Area              40932\n",
       "Queen Anne                28131\n",
       "Ballard                   26850\n",
       "West Seattle              20644\n",
       "Rainier Valley            19982\n",
       "Beacon Hill               16947\n",
       "Fremont                   16246\n",
       "Wallingford               14994\n",
       "Delridge                  10054\n",
       "Greenwood                  8009\n",
       "Cascade                    7998\n",
       "Northgate                  7537\n",
       "University District        6239\n",
       "Green Lake                 5756\n",
       "Magnolia                   5676\n",
       "Phinney Ridge              5641\n",
       "Lake City                  5181\n",
       "Ravenna                    4479\n",
       "Seward Park                3917\n",
       "Roosevelt                  2847\n",
       "Crown Hill                 2080\n",
       "Broadview                  1799\n",
       "Bryant                     1765\n",
       "Georgetown                 1581\n",
       "Bitter Lake                1085\n",
       "View Ridge                 1000\n",
       "Wedgwood                    975\n",
       "North Beach/Blue Ridge      965\n",
       "Interbay                    939\n",
       "Laurelhurst                 837\n",
       "South Park                  666\n",
       "Windermere                  557\n",
       "Industrial District         161\n",
       "Name: number_of_reviews, dtype: int64"
      ]
     },
     "execution_count": 39,
     "metadata": {},
     "output_type": "execute_result"
    }
   ],
   "source": [
    "areas_and_reviews_cleaned"
   ]
  },
  {
   "cell_type": "markdown",
   "metadata": {},
   "source": [
    "#### Prices "
   ]
  },
  {
   "cell_type": "code",
   "execution_count": 40,
   "metadata": {},
   "outputs": [],
   "source": [
    "areas_and_prices_cleaned = areas_and_prices.copy(deep =True)"
   ]
  },
  {
   "cell_type": "code",
   "execution_count": 41,
   "metadata": {},
   "outputs": [],
   "source": [
    "areas_and_prices_cleaned.drop(\"Other neighborhoods\", inplace = True)"
   ]
  },
  {
   "cell_type": "code",
   "execution_count": 42,
   "metadata": {},
   "outputs": [
    {
     "data": {
      "text/plain": [
       "neighbourhood_group\n",
       "Downtown               204.373095\n",
       "Queen Anne             192.838760\n",
       "Cascade                179.384615\n",
       "Magnolia               164.676829\n",
       "Central Area           154.694226\n",
       "Seward Park            152.831325\n",
       "West Seattle           149.571739\n",
       "Capitol Hill           143.418945\n",
       "Ballard                142.504065\n",
       "Lake City              121.567742\n",
       "Rainier Valley         120.344418\n",
       "University District    113.242915\n",
       "Beacon Hill            108.059701\n",
       "Interbay               104.625000\n",
       "Northgate              103.070093\n",
       "Delridge                97.113360\n",
       "Name: price, dtype: float64"
      ]
     },
     "execution_count": 42,
     "metadata": {},
     "output_type": "execute_result"
    }
   ],
   "source": [
    "areas_and_prices_cleaned"
   ]
  },
  {
   "cell_type": "code",
   "execution_count": 43,
   "metadata": {},
   "outputs": [],
   "source": [
    "areas_and_prices_cleaned = areas_and_prices_cleaned.append(areas_and_prices_2.loc[other_neighbourhood_set]).sort_values(ascending = False)"
   ]
  },
  {
   "cell_type": "code",
   "execution_count": 44,
   "metadata": {},
   "outputs": [
    {
     "data": {
      "text/plain": [
       "Downtown                  204.373095\n",
       "Queen Anne                192.838760\n",
       "Industrial District       186.333333\n",
       "North Beach/Blue Ridge    181.266667\n",
       "Cascade                   179.384615\n",
       "Magnolia                  164.676829\n",
       "Green Lake                160.625000\n",
       "Windermere                157.545455\n",
       "Central Area              154.694226\n",
       "Seward Park               152.831325\n",
       "West Seattle              149.571739\n",
       "Fremont                   144.244966\n",
       "Capitol Hill              143.418945\n",
       "Ballard                   142.504065\n",
       "Wallingford               139.724458\n",
       "Laurelhurst               134.235294\n",
       "Phinney Ridge             131.157534\n",
       "View Ridge                124.272727\n",
       "Lake City                 121.567742\n",
       "Rainier Valley            120.344418\n",
       "Bryant                    119.272727\n",
       "Georgetown                117.826087\n",
       "Ravenna                   116.925926\n",
       "Roosevelt                 115.035714\n",
       "University District       113.242915\n",
       "Broadview                 110.450000\n",
       "Greenwood                 109.920398\n",
       "Beacon Hill               108.059701\n",
       "Crown Hill                107.023810\n",
       "Interbay                  104.625000\n",
       "Northgate                 103.070093\n",
       "Wedgwood                  100.342105\n",
       "Delridge                   97.113360\n",
       "Bitter Lake                88.585366\n",
       "South Park                 87.666667\n",
       "Name: price, dtype: float64"
      ]
     },
     "execution_count": 44,
     "metadata": {},
     "output_type": "execute_result"
    }
   ],
   "source": [
    "areas_and_prices_cleaned "
   ]
  },
  {
   "cell_type": "markdown",
   "metadata": {},
   "source": [
    "#### Number of Reviews Per Month in all the neighbourhoods in Seattle"
   ]
  },
  {
   "cell_type": "code",
   "execution_count": 45,
   "metadata": {},
   "outputs": [],
   "source": [
    "reviews_per_month_2 = airbnb_listing_df.groupby(by = [\"neighbourhood\"])[\"reviews_per_month\"].sum()[::-1].sort_values(ascending = False)"
   ]
  },
  {
   "cell_type": "code",
   "execution_count": 46,
   "metadata": {},
   "outputs": [
    {
     "data": {
      "text/plain": [
       "neighbourhood\n",
       "Broadway                     1695.70\n",
       "Belltown                     1206.00\n",
       "Minor                         999.09\n",
       "Wallingford                   667.72\n",
       "Fremont                       662.71\n",
       "Stevens                       543.58\n",
       "North Beacon Hill             522.24\n",
       "First Hill                    470.34\n",
       "Lower Queen Anne              463.04\n",
       "Greenwood                     405.51\n",
       "Columbia City                 391.89\n",
       "North Queen Anne              373.54\n",
       "Atlantic                      363.70\n",
       "East Queen Anne               350.55\n",
       "Adams                         349.21\n",
       "Pike-Market                   338.14\n",
       "Mann                          337.43\n",
       "University District           307.75\n",
       "West Woodland                 302.10\n",
       "Central Business District     298.13\n",
       "Phinney Ridge                 285.21\n",
       "Green Lake                    279.99\n",
       "West Queen Anne               270.94\n",
       "North Admiral                 254.65\n",
       "Alki                          249.08\n",
       "Loyal Heights                 237.28\n",
       "Mid-Beacon Hill               233.02\n",
       "Leschi                        210.54\n",
       "Ravenna                       197.86\n",
       "Lawton Park                   197.37\n",
       "                              ...   \n",
       "Bryant                         90.39\n",
       "Crown Hill                     90.25\n",
       "Dunlap                         85.79\n",
       "Broadview                      84.16\n",
       "Georgetown                     82.34\n",
       "Seaview                        75.23\n",
       "Victory Heights                75.19\n",
       "Bitter Lake                    74.43\n",
       "Harrison/Denny-Blaine          71.98\n",
       "Arbor Heights                  69.24\n",
       "Rainier View                   66.58\n",
       "Matthews Beach                 66.58\n",
       "Olympic Hills                  62.66\n",
       "Fauntleroy                     58.57\n",
       "Interbay                       58.38\n",
       "Wedgwood                       57.87\n",
       "Portage Bay                    57.01\n",
       "Cedar Park                     49.85\n",
       "Pinehurst                      45.23\n",
       "North Beach/Blue Ridge         44.44\n",
       "Roxhill                        44.28\n",
       "Laurelhurst                    40.83\n",
       "View Ridge                     40.39\n",
       "Madison Park                   37.88\n",
       "South Park                     37.05\n",
       "Windermere                     30.51\n",
       "Meadowbrook                    29.06\n",
       "Briarcliff                     25.72\n",
       "Holly Park                     17.91\n",
       "Industrial District             7.94\n",
       "Name: reviews_per_month, Length: 88, dtype: float64"
      ]
     },
     "execution_count": 46,
     "metadata": {},
     "output_type": "execute_result"
    }
   ],
   "source": [
    "reviews_per_month_2"
   ]
  },
  {
   "cell_type": "markdown",
   "metadata": {},
   "source": [
    "#### Reviews Per Month in these neighbourhoods that make up Other Neighbourhood Group"
   ]
  },
  {
   "cell_type": "code",
   "execution_count": 47,
   "metadata": {},
   "outputs": [
    {
     "data": {
      "text/plain": [
       "neighbourhood\n",
       "Roosevelt                 165.25\n",
       "Bitter Lake                74.43\n",
       "Windermere                 30.51\n",
       "Phinney Ridge             285.21\n",
       "Crown Hill                 90.25\n",
       "South Park                 37.05\n",
       "Wedgwood                   57.87\n",
       "North Beach/Blue Ridge     44.44\n",
       "Greenwood                 405.51\n",
       "Green Lake                279.99\n",
       "Fremont                   662.71\n",
       "View Ridge                 40.39\n",
       "Industrial District         7.94\n",
       "Broadview                  84.16\n",
       "Laurelhurst                40.83\n",
       "Ravenna                   197.86\n",
       "Georgetown                 82.34\n",
       "Wallingford               667.72\n",
       "Bryant                     90.39\n",
       "Name: reviews_per_month, dtype: float64"
      ]
     },
     "execution_count": 47,
     "metadata": {},
     "output_type": "execute_result"
    }
   ],
   "source": [
    "reviews_per_month_2.loc[other_neighbourhood_set]"
   ]
  },
  {
   "cell_type": "markdown",
   "metadata": {},
   "source": [
    "#### Dropping Other Neighbourhoods and adding the individual neighbourhoods in that Group"
   ]
  },
  {
   "cell_type": "code",
   "execution_count": 48,
   "metadata": {},
   "outputs": [],
   "source": [
    "reviews_per_month_cleaned = reviews_per_month.copy(deep =True)"
   ]
  },
  {
   "cell_type": "code",
   "execution_count": 49,
   "metadata": {},
   "outputs": [],
   "source": [
    "reviews_per_month_cleaned.drop(\"Other neighborhoods\", inplace = True)"
   ]
  },
  {
   "cell_type": "code",
   "execution_count": 50,
   "metadata": {},
   "outputs": [
    {
     "data": {
      "text/plain": [
       "neighbourhood_group\n",
       "Downtown               2689.21\n",
       "Capitol Hill           2499.18\n",
       "Central Area           2102.11\n",
       "Queen Anne             1458.07\n",
       "Ballard                1167.25\n",
       "West Seattle           1050.06\n",
       "Rainier Valley          985.72\n",
       "Beacon Hill             891.24\n",
       "Delridge                597.68\n",
       "Cascade                 530.29\n",
       "Northgate               443.68\n",
       "Magnolia                360.19\n",
       "University District     307.75\n",
       "Lake City               283.34\n",
       "Seward Park             166.93\n",
       "Interbay                 58.38\n",
       "Name: reviews_per_month, dtype: float64"
      ]
     },
     "execution_count": 50,
     "metadata": {},
     "output_type": "execute_result"
    }
   ],
   "source": [
    "reviews_per_month_cleaned"
   ]
  },
  {
   "cell_type": "code",
   "execution_count": 51,
   "metadata": {},
   "outputs": [],
   "source": [
    "reviews_per_month_cleaned = reviews_per_month_cleaned.append(reviews_per_month_2.loc[other_neighbourhood_set]).sort_values(ascending = False)"
   ]
  },
  {
   "cell_type": "code",
   "execution_count": 52,
   "metadata": {},
   "outputs": [
    {
     "data": {
      "text/plain": [
       "Downtown                  2689.21\n",
       "Capitol Hill              2499.18\n",
       "Central Area              2102.11\n",
       "Queen Anne                1458.07\n",
       "Ballard                   1167.25\n",
       "West Seattle              1050.06\n",
       "Rainier Valley             985.72\n",
       "Beacon Hill                891.24\n",
       "Wallingford                667.72\n",
       "Fremont                    662.71\n",
       "Delridge                   597.68\n",
       "Cascade                    530.29\n",
       "Northgate                  443.68\n",
       "Greenwood                  405.51\n",
       "Magnolia                   360.19\n",
       "University District        307.75\n",
       "Phinney Ridge              285.21\n",
       "Lake City                  283.34\n",
       "Green Lake                 279.99\n",
       "Ravenna                    197.86\n",
       "Seward Park                166.93\n",
       "Roosevelt                  165.25\n",
       "Bryant                      90.39\n",
       "Crown Hill                  90.25\n",
       "Broadview                   84.16\n",
       "Georgetown                  82.34\n",
       "Bitter Lake                 74.43\n",
       "Interbay                    58.38\n",
       "Wedgwood                    57.87\n",
       "North Beach/Blue Ridge      44.44\n",
       "Laurelhurst                 40.83\n",
       "View Ridge                  40.39\n",
       "South Park                  37.05\n",
       "Windermere                  30.51\n",
       "Industrial District          7.94\n",
       "Name: reviews_per_month, dtype: float64"
      ]
     },
     "execution_count": 52,
     "metadata": {},
     "output_type": "execute_result"
    }
   ],
   "source": [
    "reviews_per_month_cleaned"
   ]
  },
  {
   "cell_type": "markdown",
   "metadata": {},
   "source": [
    "#### Revised Reviews of Neighbourhood Groups and Prices of Airbnb in Seattle"
   ]
  },
  {
   "cell_type": "markdown",
   "metadata": {},
   "source": [
    "#### Total Reviews"
   ]
  },
  {
   "cell_type": "code",
   "execution_count": 53,
   "metadata": {},
   "outputs": [
    {
     "data": {
      "text/plain": [
       "Text(0.5, 1.0, '# of Airbnb Reviews in Revised Seattle Neighbourhood Groups')"
      ]
     },
     "execution_count": 53,
     "metadata": {},
     "output_type": "execute_result"
    },
    {
     "data": {
      "image/png": "[encoded data removed]",
      "text/plain": [
       "<Figure size 1440x720 with 1 Axes>"
      ]
     },
     "metadata": {
      "needs_background": "light"
     },
     "output_type": "display_data"
    }
   ],
   "source": [
    "areas_and_reviews_cleaned.plot(kind = \"bar\", figsize = (20,10), legend = True)\n",
    "\n",
    "plt.title(\"# of Airbnb Reviews in Revised Seattle Neighbourhood Groups\")\n"
   ]
  },
  {
   "cell_type": "markdown",
   "metadata": {},
   "source": [
    "#### Reviews Per Month"
   ]
  },
  {
   "cell_type": "code",
   "execution_count": 54,
   "metadata": {},
   "outputs": [
    {
     "data": {
      "text/plain": [
       "Text(0.5, 1.0, 'Reviews Per Month of Revised Airbnb Listing in Seattle Neighbourhood Groups')"
      ]
     },
     "execution_count": 54,
     "metadata": {},
     "output_type": "execute_result"
    },
    {
     "data": {
      "image/png": "[encoded data removed]",
      "text/plain": [
       "<Figure size 1440x720 with 1 Axes>"
      ]
     },
     "metadata": {
      "needs_background": "light"
     },
     "output_type": "display_data"
    }
   ],
   "source": [
    "reviews_per_month_cleaned.plot(kind = \"bar\", figsize = (20,10), legend = True)\n",
    "plt.title(\"Reviews Per Month of Revised Airbnb Listing in Seattle Neighbourhood Groups\")"
   ]
  },
  {
   "cell_type": "markdown",
   "metadata": {},
   "source": [
    "#### Airbnb Prices"
   ]
  },
  {
   "cell_type": "code",
   "execution_count": 55,
   "metadata": {},
   "outputs": [
    {
     "data": {
      "text/plain": [
       "Text(0.5, 1.0, 'Average Price of Revised Airbnb Listing in Seattle Neighbourhood Groups')"
      ]
     },
     "execution_count": 55,
     "metadata": {},
     "output_type": "execute_result"
    },
    {
     "data": {
      "image/png": "[encoded data removed]",
      "text/plain": [
       "<Figure size 1440x720 with 1 Axes>"
      ]
     },
     "metadata": {
      "needs_background": "light"
     },
     "output_type": "display_data"
    }
   ],
   "source": [
    "areas_and_prices_cleaned.plot(kind = \"bar\", figsize = (20,10), legend = True)\n",
    "plt.title(\"Average Price of Revised Airbnb Listing in Seattle Neighbourhood Groups\")"
   ]
  },
  {
   "cell_type": "markdown",
   "metadata": {},
   "source": [
    "#### Airbnb Prices of the Highest Visited Neighbourhood Groups in Seattle"
   ]
  },
  {
   "cell_type": "code",
   "execution_count": 56,
   "metadata": {},
   "outputs": [
    {
     "data": {
      "text/plain": [
       "Text(0.5, 1.0, 'Average Price of Revised Airbnb Listing in Seattle Neighbourhoods with atleast 10,000 Reviews')"
      ]
     },
     "execution_count": 56,
     "metadata": {},
     "output_type": "execute_result"
    },
    {
     "data": {
      "image/png": "[encoded data removed]",
      "text/plain": [
       "<Figure size 1440x720 with 1 Axes>"
      ]
     },
     "metadata": {
      "needs_background": "light"
     },
     "output_type": "display_data"
    }
   ],
   "source": [
    "areas_and_prices_cleaned.where(areas_and_reviews_cleaned > 10000).plot(kind = \"bar\", figsize = (20,10), legend = True)\n",
    "plt.title(\"Average Price of Revised Airbnb Listing in Seattle Neighbourhoods with atleast 10,000 Reviews\")"
   ]
  },
  {
   "cell_type": "markdown",
   "metadata": {},
   "source": [
    "##### Prices are spread out from the top to the bottom of the spectrum."
   ]
  },
  {
   "cell_type": "markdown",
   "metadata": {},
   "source": [
    "##### Business Question:\n",
    "##### How does number of reviews drive the Airbnb Prices in Seattle?"
   ]
  },
  {
   "cell_type": "markdown",
   "metadata": {},
   "source": [
    "##### We are going to monitor standard deviation of Airbnb Prices in different Neighbour Groups to analyze how stable prices are in popular neighbourhood groups "
   ]
  },
  {
   "cell_type": "code",
   "execution_count": 57,
   "metadata": {},
   "outputs": [],
   "source": [
    "areas_and_prices_3_std = airbnb_listing_df.groupby(by = [\"neighbourhood_group\"])[\"price\"].std()[::-1].sort_values(ascending = False)"
   ]
  },
  {
   "cell_type": "code",
   "execution_count": 58,
   "metadata": {},
   "outputs": [
    {
     "data": {
      "text/plain": [
       "neighbourhood_group\n",
       "Central Area           264.360811\n",
       "Queen Anne             213.872775\n",
       "Seward Park            166.955947\n",
       "Magnolia               150.380864\n",
       "University District    130.444665\n",
       "Lake City              128.935654\n",
       "Cascade                121.790664\n",
       "Rainier Valley         118.107044\n",
       "Ballard                114.272809\n",
       "Capitol Hill           106.830272\n",
       "Other neighborhoods    103.457490\n",
       "West Seattle           103.104772\n",
       "Downtown               101.731055\n",
       "Northgate               82.423273\n",
       "Delridge                66.388143\n",
       "Beacon Hill             66.344113\n",
       "Interbay                48.515118\n",
       "Name: price, dtype: float64"
      ]
     },
     "execution_count": 58,
     "metadata": {},
     "output_type": "execute_result"
    }
   ],
   "source": [
    "areas_and_prices_3_std"
   ]
  },
  {
   "cell_type": "code",
   "execution_count": 59,
   "metadata": {},
   "outputs": [],
   "source": [
    "areas_and_prices_4_std = airbnb_listing_df.groupby(by = [\"neighbourhood\"])[\"price\"].std()[::-1].sort_values(ascending = False)"
   ]
  },
  {
   "cell_type": "code",
   "execution_count": 60,
   "metadata": {},
   "outputs": [
    {
     "data": {
      "text/plain": [
       "neighbourhood\n",
       "Roosevelt                  79.219756\n",
       "Bitter Lake                54.620956\n",
       "Windermere                156.052716\n",
       "Phinney Ridge             105.274399\n",
       "Crown Hill                 83.076365\n",
       "South Park                 43.812272\n",
       "Wedgwood                   73.870331\n",
       "North Beach/Blue Ridge    146.699066\n",
       "Greenwood                  82.563452\n",
       "Green Lake                141.925903\n",
       "Fremont                    98.393991\n",
       "View Ridge                 75.638351\n",
       "Industrial District       130.615211\n",
       "Broadview                  77.827538\n",
       "Laurelhurst                55.996126\n",
       "Ravenna                   103.783357\n",
       "Georgetown                 97.096322\n",
       "Wallingford               108.540179\n",
       "Bryant                     96.067194\n",
       "Name: price, dtype: float64"
      ]
     },
     "execution_count": 60,
     "metadata": {},
     "output_type": "execute_result"
    }
   ],
   "source": [
    "areas_and_prices_4_std.loc[other_neighbourhood_set]"
   ]
  },
  {
   "cell_type": "code",
   "execution_count": 61,
   "metadata": {},
   "outputs": [],
   "source": [
    "areas_and_prices_std_cleaned = areas_and_prices_3_std.copy(deep =True)"
   ]
  },
  {
   "cell_type": "code",
   "execution_count": 62,
   "metadata": {},
   "outputs": [],
   "source": [
    "areas_and_prices_std_cleaned.drop(\"Other neighborhoods\", inplace = True)"
   ]
  },
  {
   "cell_type": "code",
   "execution_count": 63,
   "metadata": {},
   "outputs": [
    {
     "data": {
      "text/plain": [
       "neighbourhood_group\n",
       "Central Area           264.360811\n",
       "Queen Anne             213.872775\n",
       "Seward Park            166.955947\n",
       "Magnolia               150.380864\n",
       "University District    130.444665\n",
       "Lake City              128.935654\n",
       "Cascade                121.790664\n",
       "Rainier Valley         118.107044\n",
       "Ballard                114.272809\n",
       "Capitol Hill           106.830272\n",
       "West Seattle           103.104772\n",
       "Downtown               101.731055\n",
       "Northgate               82.423273\n",
       "Delridge                66.388143\n",
       "Beacon Hill             66.344113\n",
       "Interbay                48.515118\n",
       "Name: price, dtype: float64"
      ]
     },
     "execution_count": 63,
     "metadata": {},
     "output_type": "execute_result"
    }
   ],
   "source": [
    "areas_and_prices_std_cleaned"
   ]
  },
  {
   "cell_type": "code",
   "execution_count": 64,
   "metadata": {},
   "outputs": [],
   "source": [
    "areas_and_prices_std_cleaned = areas_and_prices_std_cleaned.append(areas_and_prices_4_std.loc[other_neighbourhood_set]).sort_values(ascending = False)"
   ]
  },
  {
   "cell_type": "code",
   "execution_count": 65,
   "metadata": {},
   "outputs": [
    {
     "data": {
      "text/plain": [
       "Central Area              264.360811\n",
       "Queen Anne                213.872775\n",
       "Seward Park               166.955947\n",
       "Windermere                156.052716\n",
       "Magnolia                  150.380864\n",
       "North Beach/Blue Ridge    146.699066\n",
       "Green Lake                141.925903\n",
       "Industrial District       130.615211\n",
       "University District       130.444665\n",
       "Lake City                 128.935654\n",
       "Cascade                   121.790664\n",
       "Rainier Valley            118.107044\n",
       "Ballard                   114.272809\n",
       "Wallingford               108.540179\n",
       "Capitol Hill              106.830272\n",
       "Phinney Ridge             105.274399\n",
       "Ravenna                   103.783357\n",
       "West Seattle              103.104772\n",
       "Downtown                  101.731055\n",
       "Fremont                    98.393991\n",
       "Georgetown                 97.096322\n",
       "Bryant                     96.067194\n",
       "Crown Hill                 83.076365\n",
       "Greenwood                  82.563452\n",
       "Northgate                  82.423273\n",
       "Roosevelt                  79.219756\n",
       "Broadview                  77.827538\n",
       "View Ridge                 75.638351\n",
       "Wedgwood                   73.870331\n",
       "Delridge                   66.388143\n",
       "Beacon Hill                66.344113\n",
       "Laurelhurst                55.996126\n",
       "Bitter Lake                54.620956\n",
       "Interbay                   48.515118\n",
       "South Park                 43.812272\n",
       "Name: price, dtype: float64"
      ]
     },
     "execution_count": 65,
     "metadata": {},
     "output_type": "execute_result"
    }
   ],
   "source": [
    "areas_and_prices_std_cleaned"
   ]
  },
  {
   "cell_type": "code",
   "execution_count": 66,
   "metadata": {},
   "outputs": [
    {
     "data": {
      "text/plain": [
       "Text(0.5, 1.0, 'STD of Prices of Revised Airbnb Listing in Seattle Neighbourhood Groups')"
      ]
     },
     "execution_count": 66,
     "metadata": {},
     "output_type": "execute_result"
    },
    {
     "data": {
      "image/png": "[encoded data removed]",
      "text/plain": [
       "<Figure size 1440x720 with 1 Axes>"
      ]
     },
     "metadata": {
      "needs_background": "light"
     },
     "output_type": "display_data"
    }
   ],
   "source": [
    "areas_and_prices_std_cleaned.where(reviews_per_month_cleaned > 500).plot(kind = \"bar\", figsize = (20,10), legend = True)\n",
    "plt.title(\"STD of Prices of Revised Airbnb Listing in Seattle Neighbourhood Groups\")"
   ]
  },
  {
   "cell_type": "markdown",
   "metadata": {},
   "source": [
    "###### Airbnb host have are most comptitive in Central Area and Queen Anne Neighbourhood Groups, since the price variations is highest here.\n",
    "\n",
    "Although, the 3 highest priced areas includes Downtown apart from Central Area, and Queen Anne. \n",
    "\n",
    "The variation in prices here may be due to the fact that alot of listings are taken frequently off the market. \n",
    "This is just an initial hypothesis for high variation in prices or it is u just a high completive neighbour group since it is slightly off centered from the Downtown and host have to be very competitive in prices. "
   ]
  },
  {
   "cell_type": "code",
   "execution_count": 67,
   "metadata": {},
   "outputs": [],
   "source": [
    "max_prices = airbnb_listing_df.groupby(by = [\"neighbourhood_group\"])[\"price\"].quantile(q = .95, interpolation = 'linear')[::-1].sort_values(ascending = False)"
   ]
  },
  {
   "cell_type": "code",
   "execution_count": 68,
   "metadata": {},
   "outputs": [
    {
     "data": {
      "text/plain": [
       "neighbourhood_group\n",
       "Queen Anne             454.00\n",
       "Cascade                450.00\n",
       "Magnolia               393.50\n",
       "Downtown               352.00\n",
       "West Seattle           350.70\n",
       "Ballard                350.00\n",
       "Seward Park            338.10\n",
       "Lake City              332.50\n",
       "Central Area           327.85\n",
       "Other neighborhoods    325.00\n",
       "Capitol Hill           300.00\n",
       "University District    300.00\n",
       "Rainier Valley         299.00\n",
       "Northgate              267.15\n",
       "Beacon Hill            250.00\n",
       "Delridge               219.40\n",
       "Interbay               176.75\n",
       "Name: price, dtype: float64"
      ]
     },
     "execution_count": 68,
     "metadata": {},
     "output_type": "execute_result"
    }
   ],
   "source": [
    "max_prices"
   ]
  },
  {
   "cell_type": "code",
   "execution_count": 69,
   "metadata": {},
   "outputs": [],
   "source": [
    "mid_prices = airbnb_listing_df.groupby(by = [\"neighbourhood_group\"])[\"price\"].quantile(q = .5, interpolation = 'linear')[::-1].sort_values(ascending = False)"
   ]
  },
  {
   "cell_type": "code",
   "execution_count": 70,
   "metadata": {},
   "outputs": [
    {
     "data": {
      "text/plain": [
       "neighbourhood_group\n",
       "Downtown               189.0\n",
       "Cascade                142.0\n",
       "Queen Anne             137.0\n",
       "Magnolia               122.0\n",
       "Capitol Hill           119.0\n",
       "West Seattle           110.0\n",
       "Seward Park            105.0\n",
       "Ballard                105.0\n",
       "Other neighborhoods    100.0\n",
       "Central Area           100.0\n",
       "Interbay                96.0\n",
       "Beacon Hill             95.0\n",
       "University District     86.0\n",
       "Rainier Valley          85.0\n",
       "Northgate               81.0\n",
       "Delridge                79.0\n",
       "Lake City               78.0\n",
       "Name: price, dtype: float64"
      ]
     },
     "execution_count": 70,
     "metadata": {},
     "output_type": "execute_result"
    }
   ],
   "source": [
    "mid_prices"
   ]
  },
  {
   "cell_type": "markdown",
   "metadata": {},
   "source": [
    "###### After analyzing the data. \n",
    "\n",
    "Downtown is stable and completitive. \n",
    "\n",
    "The variation in prices between its max to mid in Queen Anne and Central Area is very high, it makes sense why standard deviation is very high in these areas. "
   ]
  },
  {
   "cell_type": "markdown",
   "metadata": {},
   "source": [
    "#### Analysis "
   ]
  },
  {
   "cell_type": "code",
   "execution_count": 71,
   "metadata": {},
   "outputs": [
    {
     "data": {
      "text/html": [
       "<div>\n",
       "<style scoped>\n",
       "    .dataframe tbody tr th:only-of-type {\n",
       "        vertical-align: middle;\n",
       "    }\n",
       "\n",
       "    .dataframe tbody tr th {\n",
       "        vertical-align: top;\n",
       "    }\n",
       "\n",
       "    .dataframe thead th {\n",
       "        text-align: right;\n",
       "    }\n",
       "</style>\n",
       "<table border=\"1\" class=\"dataframe\">\n",
       "  <thead>\n",
       "    <tr style=\"text-align: right;\">\n",
       "      <th></th>\n",
       "      <th>id</th>\n",
       "      <th>host_id</th>\n",
       "      <th>latitude</th>\n",
       "      <th>longitude</th>\n",
       "      <th>price</th>\n",
       "      <th>minimum_nights</th>\n",
       "      <th>number_of_reviews</th>\n",
       "      <th>reviews_per_month</th>\n",
       "      <th>calculated_host_listings_count</th>\n",
       "      <th>availability_365</th>\n",
       "    </tr>\n",
       "  </thead>\n",
       "  <tbody>\n",
       "    <tr>\n",
       "      <th>count</th>\n",
       "      <td>8.740000e+03</td>\n",
       "      <td>8.740000e+03</td>\n",
       "      <td>8740.000000</td>\n",
       "      <td>8740.000000</td>\n",
       "      <td>8740.000000</td>\n",
       "      <td>8740.000000</td>\n",
       "      <td>8740.000000</td>\n",
       "      <td>7691.000000</td>\n",
       "      <td>8740.000000</td>\n",
       "      <td>8740.000000</td>\n",
       "    </tr>\n",
       "    <tr>\n",
       "      <th>mean</th>\n",
       "      <td>1.685464e+07</td>\n",
       "      <td>4.878413e+07</td>\n",
       "      <td>47.626403</td>\n",
       "      <td>-122.333693</td>\n",
       "      <td>152.228375</td>\n",
       "      <td>3.691419</td>\n",
       "      <td>42.772769</td>\n",
       "      <td>2.462089</td>\n",
       "      <td>22.570252</td>\n",
       "      <td>138.483295</td>\n",
       "    </tr>\n",
       "    <tr>\n",
       "      <th>std</th>\n",
       "      <td>8.318420e+06</td>\n",
       "      <td>5.572707e+07</td>\n",
       "      <td>0.045696</td>\n",
       "      <td>0.031548</td>\n",
       "      <td>141.676868</td>\n",
       "      <td>13.235492</td>\n",
       "      <td>63.760075</td>\n",
       "      <td>2.427051</td>\n",
       "      <td>62.737811</td>\n",
       "      <td>130.909168</td>\n",
       "    </tr>\n",
       "    <tr>\n",
       "      <th>min</th>\n",
       "      <td>2.318000e+03</td>\n",
       "      <td>2.000000e+01</td>\n",
       "      <td>47.496037</td>\n",
       "      <td>-122.419637</td>\n",
       "      <td>0.000000</td>\n",
       "      <td>1.000000</td>\n",
       "      <td>0.000000</td>\n",
       "      <td>0.010000</td>\n",
       "      <td>1.000000</td>\n",
       "      <td>0.000000</td>\n",
       "    </tr>\n",
       "    <tr>\n",
       "      <th>25%</th>\n",
       "      <td>1.012474e+07</td>\n",
       "      <td>7.978940e+06</td>\n",
       "      <td>47.606366</td>\n",
       "      <td>-122.354144</td>\n",
       "      <td>80.000000</td>\n",
       "      <td>1.000000</td>\n",
       "      <td>3.000000</td>\n",
       "      <td>0.565000</td>\n",
       "      <td>1.000000</td>\n",
       "      <td>14.000000</td>\n",
       "    </tr>\n",
       "    <tr>\n",
       "      <th>50%</th>\n",
       "      <td>1.833052e+07</td>\n",
       "      <td>2.632438e+07</td>\n",
       "      <td>47.621423</td>\n",
       "      <td>-122.332098</td>\n",
       "      <td>119.000000</td>\n",
       "      <td>2.000000</td>\n",
       "      <td>17.000000</td>\n",
       "      <td>1.690000</td>\n",
       "      <td>1.000000</td>\n",
       "      <td>89.000000</td>\n",
       "    </tr>\n",
       "    <tr>\n",
       "      <th>75%</th>\n",
       "      <td>2.348393e+07</td>\n",
       "      <td>7.212044e+07</td>\n",
       "      <td>47.661255</td>\n",
       "      <td>-122.312031</td>\n",
       "      <td>189.000000</td>\n",
       "      <td>2.000000</td>\n",
       "      <td>55.000000</td>\n",
       "      <td>3.820000</td>\n",
       "      <td>5.000000</td>\n",
       "      <td>263.000000</td>\n",
       "    </tr>\n",
       "    <tr>\n",
       "      <th>max</th>\n",
       "      <td>3.005116e+07</td>\n",
       "      <td>2.250343e+08</td>\n",
       "      <td>47.736128</td>\n",
       "      <td>-122.234026</td>\n",
       "      <td>5400.000000</td>\n",
       "      <td>400.000000</td>\n",
       "      <td>717.000000</td>\n",
       "      <td>46.410000</td>\n",
       "      <td>311.000000</td>\n",
       "      <td>365.000000</td>\n",
       "    </tr>\n",
       "  </tbody>\n",
       "</table>\n",
       "</div>"
      ],
      "text/plain": [
       "                 id       host_id     latitude    longitude        price  \\\n",
       "count  8.740000e+03  8.740000e+03  8740.000000  8740.000000  8740.000000   \n",
       "mean   1.685464e+07  4.878413e+07    47.626403  -122.333693   152.228375   \n",
       "std    8.318420e+06  5.572707e+07     0.045696     0.031548   141.676868   \n",
       "min    2.318000e+03  2.000000e+01    47.496037  -122.419637     0.000000   \n",
       "25%    1.012474e+07  7.978940e+06    47.606366  -122.354144    80.000000   \n",
       "50%    1.833052e+07  2.632438e+07    47.621423  -122.332098   119.000000   \n",
       "75%    2.348393e+07  7.212044e+07    47.661255  -122.312031   189.000000   \n",
       "max    3.005116e+07  2.250343e+08    47.736128  -122.234026  5400.000000   \n",
       "\n",
       "       minimum_nights  number_of_reviews  reviews_per_month  \\\n",
       "count     8740.000000        8740.000000        7691.000000   \n",
       "mean         3.691419          42.772769           2.462089   \n",
       "std         13.235492          63.760075           2.427051   \n",
       "min          1.000000           0.000000           0.010000   \n",
       "25%          1.000000           3.000000           0.565000   \n",
       "50%          2.000000          17.000000           1.690000   \n",
       "75%          2.000000          55.000000           3.820000   \n",
       "max        400.000000         717.000000          46.410000   \n",
       "\n",
       "       calculated_host_listings_count  availability_365  \n",
       "count                     8740.000000       8740.000000  \n",
       "mean                        22.570252        138.483295  \n",
       "std                         62.737811        130.909168  \n",
       "min                          1.000000          0.000000  \n",
       "25%                          1.000000         14.000000  \n",
       "50%                          1.000000         89.000000  \n",
       "75%                          5.000000        263.000000  \n",
       "max                        311.000000        365.000000  "
      ]
     },
     "execution_count": 71,
     "metadata": {},
     "output_type": "execute_result"
    }
   ],
   "source": [
    "airbnb_listing_df.describe()"
   ]
  },
  {
   "cell_type": "code",
   "execution_count": 72,
   "metadata": {},
   "outputs": [
    {
     "data": {
      "image/png": "[encoded data removed]",
      "text/plain": [
       "<Figure size 432x288 with 12 Axes>"
      ]
     },
     "metadata": {
      "needs_background": "light"
     },
     "output_type": "display_data"
    }
   ],
   "source": [
    "airbnb_listing_df.hist();"
   ]
  },
  {
   "cell_type": "code",
   "execution_count": 73,
   "metadata": {},
   "outputs": [
    {
     "data": {
      "text/plain": [
       "<matplotlib.axes._subplots.AxesSubplot at 0x1d53c2559e8>"
      ]
     },
     "execution_count": 73,
     "metadata": {},
     "output_type": "execute_result"
    },
    {
     "data": {
      "image/png": "[encoded data removed]",
      "text/plain": [
       "<Figure size 432x288 with 2 Axes>"
      ]
     },
     "metadata": {
      "needs_background": "light"
     },
     "output_type": "display_data"
    }
   ],
   "source": [
    "sns.heatmap(airbnb_listing_df.corr(), annot = True, fmt = '.2f')"
   ]
  },
  {
   "cell_type": "code",
   "execution_count": 3,
   "metadata": {},
   "outputs": [
    {
     "data": {
      "text/html": [
       "<div>\n",
       "<style scoped>\n",
       "    .dataframe tbody tr th:only-of-type {\n",
       "        vertical-align: middle;\n",
       "    }\n",
       "\n",
       "    .dataframe tbody tr th {\n",
       "        vertical-align: top;\n",
       "    }\n",
       "\n",
       "    .dataframe thead th {\n",
       "        text-align: right;\n",
       "    }\n",
       "</style>\n",
       "<table border=\"1\" class=\"dataframe\">\n",
       "  <thead>\n",
       "    <tr style=\"text-align: right;\">\n",
       "      <th></th>\n",
       "      <th>id</th>\n",
       "      <th>host_id</th>\n",
       "      <th>latitude</th>\n",
       "      <th>longitude</th>\n",
       "      <th>price</th>\n",
       "      <th>minimum_nights</th>\n",
       "      <th>number_of_reviews</th>\n",
       "      <th>reviews_per_month</th>\n",
       "      <th>calculated_host_listings_count</th>\n",
       "      <th>availability_365</th>\n",
       "    </tr>\n",
       "  </thead>\n",
       "  <tbody>\n",
       "    <tr>\n",
       "      <th>count</th>\n",
       "      <td>8.740000e+03</td>\n",
       "      <td>8.740000e+03</td>\n",
       "      <td>8740.000000</td>\n",
       "      <td>8740.000000</td>\n",
       "      <td>8740.000000</td>\n",
       "      <td>8740.000000</td>\n",
       "      <td>8740.000000</td>\n",
       "      <td>7691.000000</td>\n",
       "      <td>8740.000000</td>\n",
       "      <td>8740.000000</td>\n",
       "    </tr>\n",
       "    <tr>\n",
       "      <th>mean</th>\n",
       "      <td>1.685464e+07</td>\n",
       "      <td>4.878413e+07</td>\n",
       "      <td>47.626403</td>\n",
       "      <td>-122.333693</td>\n",
       "      <td>152.228375</td>\n",
       "      <td>3.691419</td>\n",
       "      <td>42.772769</td>\n",
       "      <td>2.462089</td>\n",
       "      <td>22.570252</td>\n",
       "      <td>138.483295</td>\n",
       "    </tr>\n",
       "    <tr>\n",
       "      <th>std</th>\n",
       "      <td>8.318420e+06</td>\n",
       "      <td>5.572707e+07</td>\n",
       "      <td>0.045696</td>\n",
       "      <td>0.031548</td>\n",
       "      <td>141.676868</td>\n",
       "      <td>13.235492</td>\n",
       "      <td>63.760075</td>\n",
       "      <td>2.427051</td>\n",
       "      <td>62.737811</td>\n",
       "      <td>130.909168</td>\n",
       "    </tr>\n",
       "    <tr>\n",
       "      <th>min</th>\n",
       "      <td>2.318000e+03</td>\n",
       "      <td>2.000000e+01</td>\n",
       "      <td>47.496037</td>\n",
       "      <td>-122.419637</td>\n",
       "      <td>0.000000</td>\n",
       "      <td>1.000000</td>\n",
       "      <td>0.000000</td>\n",
       "      <td>0.010000</td>\n",
       "      <td>1.000000</td>\n",
       "      <td>0.000000</td>\n",
       "    </tr>\n",
       "    <tr>\n",
       "      <th>25%</th>\n",
       "      <td>1.012474e+07</td>\n",
       "      <td>7.978940e+06</td>\n",
       "      <td>47.606366</td>\n",
       "      <td>-122.354144</td>\n",
       "      <td>80.000000</td>\n",
       "      <td>1.000000</td>\n",
       "      <td>3.000000</td>\n",
       "      <td>0.565000</td>\n",
       "      <td>1.000000</td>\n",
       "      <td>14.000000</td>\n",
       "    </tr>\n",
       "    <tr>\n",
       "      <th>50%</th>\n",
       "      <td>1.833052e+07</td>\n",
       "      <td>2.632438e+07</td>\n",
       "      <td>47.621423</td>\n",
       "      <td>-122.332098</td>\n",
       "      <td>119.000000</td>\n",
       "      <td>2.000000</td>\n",
       "      <td>17.000000</td>\n",
       "      <td>1.690000</td>\n",
       "      <td>1.000000</td>\n",
       "      <td>89.000000</td>\n",
       "    </tr>\n",
       "    <tr>\n",
       "      <th>75%</th>\n",
       "      <td>2.348393e+07</td>\n",
       "      <td>7.212044e+07</td>\n",
       "      <td>47.661255</td>\n",
       "      <td>-122.312031</td>\n",
       "      <td>189.000000</td>\n",
       "      <td>2.000000</td>\n",
       "      <td>55.000000</td>\n",
       "      <td>3.820000</td>\n",
       "      <td>5.000000</td>\n",
       "      <td>263.000000</td>\n",
       "    </tr>\n",
       "    <tr>\n",
       "      <th>max</th>\n",
       "      <td>3.005116e+07</td>\n",
       "      <td>2.250343e+08</td>\n",
       "      <td>47.736128</td>\n",
       "      <td>-122.234026</td>\n",
       "      <td>5400.000000</td>\n",
       "      <td>400.000000</td>\n",
       "      <td>717.000000</td>\n",
       "      <td>46.410000</td>\n",
       "      <td>311.000000</td>\n",
       "      <td>365.000000</td>\n",
       "    </tr>\n",
       "  </tbody>\n",
       "</table>\n",
       "</div>"
      ],
      "text/plain": [
       "                 id       host_id     latitude    longitude        price  \\\n",
       "count  8.740000e+03  8.740000e+03  8740.000000  8740.000000  8740.000000   \n",
       "mean   1.685464e+07  4.878413e+07    47.626403  -122.333693   152.228375   \n",
       "std    8.318420e+06  5.572707e+07     0.045696     0.031548   141.676868   \n",
       "min    2.318000e+03  2.000000e+01    47.496037  -122.419637     0.000000   \n",
       "25%    1.012474e+07  7.978940e+06    47.606366  -122.354144    80.000000   \n",
       "50%    1.833052e+07  2.632438e+07    47.621423  -122.332098   119.000000   \n",
       "75%    2.348393e+07  7.212044e+07    47.661255  -122.312031   189.000000   \n",
       "max    3.005116e+07  2.250343e+08    47.736128  -122.234026  5400.000000   \n",
       "\n",
       "       minimum_nights  number_of_reviews  reviews_per_month  \\\n",
       "count     8740.000000        8740.000000        7691.000000   \n",
       "mean         3.691419          42.772769           2.462089   \n",
       "std         13.235492          63.760075           2.427051   \n",
       "min          1.000000           0.000000           0.010000   \n",
       "25%          1.000000           3.000000           0.565000   \n",
       "50%          2.000000          17.000000           1.690000   \n",
       "75%          2.000000          55.000000           3.820000   \n",
       "max        400.000000         717.000000          46.410000   \n",
       "\n",
       "       calculated_host_listings_count  availability_365  \n",
       "count                     8740.000000       8740.000000  \n",
       "mean                        22.570252        138.483295  \n",
       "std                         62.737811        130.909168  \n",
       "min                          1.000000          0.000000  \n",
       "25%                          1.000000         14.000000  \n",
       "50%                          1.000000         89.000000  \n",
       "75%                          5.000000        263.000000  \n",
       "max                        311.000000        365.000000  "
      ]
     },
     "execution_count": 3,
     "metadata": {},
     "output_type": "execute_result"
    }
   ],
   "source": [
    "airbnb_listing_df.describe()"
   ]
  },
  {
   "cell_type": "markdown",
   "metadata": {},
   "source": [
    "#### Finding missing values"
   ]
  },
  {
   "cell_type": "code",
   "execution_count": 5,
   "metadata": {},
   "outputs": [
    {
     "data": {
      "text/plain": [
       "id                                   0\n",
       "name                                 0\n",
       "host_id                              0\n",
       "host_name                            0\n",
       "neighbourhood_group                  0\n",
       "neighbourhood                        0\n",
       "latitude                             0\n",
       "longitude                            0\n",
       "room_type                            0\n",
       "price                                0\n",
       "minimum_nights                       0\n",
       "number_of_reviews                    0\n",
       "last_review                       1048\n",
       "reviews_per_month                 1049\n",
       "calculated_host_listings_count       0\n",
       "availability_365                     0\n",
       "dtype: int64"
      ]
     },
     "execution_count": 5,
     "metadata": {},
     "output_type": "execute_result"
    }
   ],
   "source": [
    "airbnb_listing_df.isnull().sum()"
   ]
  },
  {
   "cell_type": "markdown",
   "metadata": {},
   "source": [
    "#### Imputing Missing Values"
   ]
  },
  {
   "cell_type": "code",
   "execution_count": 6,
   "metadata": {},
   "outputs": [
    {
     "name": "stdout",
     "output_type": "stream",
     "text": [
      "2.4620894552073804\n",
      "11/12/2018\n"
     ]
    }
   ],
   "source": [
    "reviews_per_month_mean = airbnb_listing_df.reviews_per_month.mean()\n",
    "\n",
    "last_review_mode = airbnb_listing_df.last_review.mode()[0]\n",
    "\n",
    "print(reviews_per_month_mean)\n",
    "\n",
    "print(last_review_mode)"
   ]
  },
  {
   "cell_type": "code",
   "execution_count": 7,
   "metadata": {},
   "outputs": [],
   "source": [
    "airbnb_listing_df.reviews_per_month.fillna(reviews_per_month_mean, inplace = True)\n"
   ]
  },
  {
   "cell_type": "code",
   "execution_count": 8,
   "metadata": {},
   "outputs": [],
   "source": [
    "airbnb_listing_df[\"last_review\"].fillna(last_review_mode, inplace = True)"
   ]
  },
  {
   "cell_type": "code",
   "execution_count": 9,
   "metadata": {},
   "outputs": [
    {
     "data": {
      "text/plain": [
       "id                                0\n",
       "name                              0\n",
       "host_id                           0\n",
       "host_name                         0\n",
       "neighbourhood_group               0\n",
       "neighbourhood                     0\n",
       "latitude                          0\n",
       "longitude                         0\n",
       "room_type                         0\n",
       "price                             0\n",
       "minimum_nights                    0\n",
       "number_of_reviews                 0\n",
       "last_review                       0\n",
       "reviews_per_month                 0\n",
       "calculated_host_listings_count    0\n",
       "availability_365                  0\n",
       "dtype: int64"
      ]
     },
     "execution_count": 9,
     "metadata": {},
     "output_type": "execute_result"
    }
   ],
   "source": [
    "airbnb_listing_df.isnull().sum()"
   ]
  },
  {
   "cell_type": "markdown",
   "metadata": {},
   "source": [
    "#### Cleaning the data"
   ]
  },
  {
   "cell_type": "code",
   "execution_count": 10,
   "metadata": {},
   "outputs": [
    {
     "data": {
      "text/html": [
       "<div>\n",
       "<style scoped>\n",
       "    .dataframe tbody tr th:only-of-type {\n",
       "        vertical-align: middle;\n",
       "    }\n",
       "\n",
       "    .dataframe tbody tr th {\n",
       "        vertical-align: top;\n",
       "    }\n",
       "\n",
       "    .dataframe thead th {\n",
       "        text-align: right;\n",
       "    }\n",
       "</style>\n",
       "<table border=\"1\" class=\"dataframe\">\n",
       "  <thead>\n",
       "    <tr style=\"text-align: right;\">\n",
       "      <th></th>\n",
       "      <th>id</th>\n",
       "      <th>host_id</th>\n",
       "      <th>neighbourhood_group</th>\n",
       "      <th>neighbourhood</th>\n",
       "      <th>latitude</th>\n",
       "      <th>longitude</th>\n",
       "      <th>room_type</th>\n",
       "      <th>price</th>\n",
       "      <th>minimum_nights</th>\n",
       "      <th>number_of_reviews</th>\n",
       "      <th>last_review</th>\n",
       "      <th>reviews_per_month</th>\n",
       "      <th>calculated_host_listings_count</th>\n",
       "      <th>availability_365</th>\n",
       "    </tr>\n",
       "  </thead>\n",
       "  <tbody>\n",
       "    <tr>\n",
       "      <th>0</th>\n",
       "      <td>2318</td>\n",
       "      <td>2536</td>\n",
       "      <td>Central Area</td>\n",
       "      <td>Madrona</td>\n",
       "      <td>47.610819</td>\n",
       "      <td>-122.290816</td>\n",
       "      <td>Entire home/apt</td>\n",
       "      <td>296</td>\n",
       "      <td>4</td>\n",
       "      <td>20</td>\n",
       "      <td>9/18/2018</td>\n",
       "      <td>0.160000</td>\n",
       "      <td>3</td>\n",
       "      <td>345</td>\n",
       "    </tr>\n",
       "    <tr>\n",
       "      <th>1</th>\n",
       "      <td>4291</td>\n",
       "      <td>35749</td>\n",
       "      <td>Other neighborhoods</td>\n",
       "      <td>Roosevelt</td>\n",
       "      <td>47.687801</td>\n",
       "      <td>-122.313427</td>\n",
       "      <td>Private room</td>\n",
       "      <td>82</td>\n",
       "      <td>2</td>\n",
       "      <td>63</td>\n",
       "      <td>10/6/2018</td>\n",
       "      <td>0.960000</td>\n",
       "      <td>5</td>\n",
       "      <td>365</td>\n",
       "    </tr>\n",
       "    <tr>\n",
       "      <th>2</th>\n",
       "      <td>5682</td>\n",
       "      <td>8993</td>\n",
       "      <td>Delridge</td>\n",
       "      <td>South Delridge</td>\n",
       "      <td>47.523979</td>\n",
       "      <td>-122.359891</td>\n",
       "      <td>Entire home/apt</td>\n",
       "      <td>48</td>\n",
       "      <td>3</td>\n",
       "      <td>461</td>\n",
       "      <td>11/2/2018</td>\n",
       "      <td>4.370000</td>\n",
       "      <td>1</td>\n",
       "      <td>24</td>\n",
       "    </tr>\n",
       "    <tr>\n",
       "      <th>3</th>\n",
       "      <td>6606</td>\n",
       "      <td>14942</td>\n",
       "      <td>Other neighborhoods</td>\n",
       "      <td>Wallingford</td>\n",
       "      <td>47.654109</td>\n",
       "      <td>-122.337605</td>\n",
       "      <td>Entire home/apt</td>\n",
       "      <td>90</td>\n",
       "      <td>2</td>\n",
       "      <td>134</td>\n",
       "      <td>10/21/2018</td>\n",
       "      <td>1.180000</td>\n",
       "      <td>3</td>\n",
       "      <td>287</td>\n",
       "    </tr>\n",
       "    <tr>\n",
       "      <th>4</th>\n",
       "      <td>9419</td>\n",
       "      <td>30559</td>\n",
       "      <td>Other neighborhoods</td>\n",
       "      <td>Georgetown</td>\n",
       "      <td>47.550620</td>\n",
       "      <td>-122.320135</td>\n",
       "      <td>Private room</td>\n",
       "      <td>65</td>\n",
       "      <td>2</td>\n",
       "      <td>130</td>\n",
       "      <td>9/9/2018</td>\n",
       "      <td>1.290000</td>\n",
       "      <td>5</td>\n",
       "      <td>336</td>\n",
       "    </tr>\n",
       "    <tr>\n",
       "      <th>5</th>\n",
       "      <td>9460</td>\n",
       "      <td>30832</td>\n",
       "      <td>Downtown</td>\n",
       "      <td>First Hill</td>\n",
       "      <td>47.608010</td>\n",
       "      <td>-122.328739</td>\n",
       "      <td>Private room</td>\n",
       "      <td>80</td>\n",
       "      <td>3</td>\n",
       "      <td>399</td>\n",
       "      <td>10/28/2018</td>\n",
       "      <td>3.560000</td>\n",
       "      <td>4</td>\n",
       "      <td>133</td>\n",
       "    </tr>\n",
       "    <tr>\n",
       "      <th>6</th>\n",
       "      <td>9531</td>\n",
       "      <td>31481</td>\n",
       "      <td>West Seattle</td>\n",
       "      <td>Fairmount Park</td>\n",
       "      <td>47.555389</td>\n",
       "      <td>-122.384739</td>\n",
       "      <td>Entire home/apt</td>\n",
       "      <td>165</td>\n",
       "      <td>2</td>\n",
       "      <td>35</td>\n",
       "      <td>10/8/2018</td>\n",
       "      <td>0.420000</td>\n",
       "      <td>2</td>\n",
       "      <td>267</td>\n",
       "    </tr>\n",
       "    <tr>\n",
       "      <th>7</th>\n",
       "      <td>9534</td>\n",
       "      <td>31481</td>\n",
       "      <td>West Seattle</td>\n",
       "      <td>Fairmount Park</td>\n",
       "      <td>47.556236</td>\n",
       "      <td>-122.385980</td>\n",
       "      <td>Entire home/apt</td>\n",
       "      <td>125</td>\n",
       "      <td>2</td>\n",
       "      <td>36</td>\n",
       "      <td>10/29/2018</td>\n",
       "      <td>0.430000</td>\n",
       "      <td>2</td>\n",
       "      <td>352</td>\n",
       "    </tr>\n",
       "    <tr>\n",
       "      <th>8</th>\n",
       "      <td>9596</td>\n",
       "      <td>14942</td>\n",
       "      <td>Other neighborhoods</td>\n",
       "      <td>Wallingford</td>\n",
       "      <td>47.654787</td>\n",
       "      <td>-122.336520</td>\n",
       "      <td>Entire home/apt</td>\n",
       "      <td>120</td>\n",
       "      <td>2</td>\n",
       "      <td>76</td>\n",
       "      <td>10/1/2018</td>\n",
       "      <td>0.840000</td>\n",
       "      <td>3</td>\n",
       "      <td>94</td>\n",
       "    </tr>\n",
       "    <tr>\n",
       "      <th>9</th>\n",
       "      <td>9909</td>\n",
       "      <td>33360</td>\n",
       "      <td>West Seattle</td>\n",
       "      <td>Fairmount Park</td>\n",
       "      <td>47.565209</td>\n",
       "      <td>-122.373748</td>\n",
       "      <td>Entire home/apt</td>\n",
       "      <td>125</td>\n",
       "      <td>3</td>\n",
       "      <td>57</td>\n",
       "      <td>10/23/2018</td>\n",
       "      <td>3.750000</td>\n",
       "      <td>8</td>\n",
       "      <td>22</td>\n",
       "    </tr>\n",
       "    <tr>\n",
       "      <th>10</th>\n",
       "      <td>10209</td>\n",
       "      <td>31553</td>\n",
       "      <td>Delridge</td>\n",
       "      <td>High Point</td>\n",
       "      <td>47.553646</td>\n",
       "      <td>-122.363257</td>\n",
       "      <td>Private room</td>\n",
       "      <td>50</td>\n",
       "      <td>5</td>\n",
       "      <td>36</td>\n",
       "      <td>6/20/2018</td>\n",
       "      <td>0.330000</td>\n",
       "      <td>1</td>\n",
       "      <td>334</td>\n",
       "    </tr>\n",
       "    <tr>\n",
       "      <th>11</th>\n",
       "      <td>10385</td>\n",
       "      <td>35749</td>\n",
       "      <td>Northgate</td>\n",
       "      <td>Maple Leaf</td>\n",
       "      <td>47.695719</td>\n",
       "      <td>-122.311944</td>\n",
       "      <td>Private room</td>\n",
       "      <td>60</td>\n",
       "      <td>2</td>\n",
       "      <td>94</td>\n",
       "      <td>9/23/2018</td>\n",
       "      <td>0.850000</td>\n",
       "      <td>5</td>\n",
       "      <td>335</td>\n",
       "    </tr>\n",
       "    <tr>\n",
       "      <th>12</th>\n",
       "      <td>10695</td>\n",
       "      <td>35749</td>\n",
       "      <td>Northgate</td>\n",
       "      <td>Maple Leaf</td>\n",
       "      <td>47.697201</td>\n",
       "      <td>-122.313481</td>\n",
       "      <td>Private room</td>\n",
       "      <td>109</td>\n",
       "      <td>2</td>\n",
       "      <td>21</td>\n",
       "      <td>9/4/2018</td>\n",
       "      <td>0.200000</td>\n",
       "      <td>5</td>\n",
       "      <td>327</td>\n",
       "    </tr>\n",
       "    <tr>\n",
       "      <th>13</th>\n",
       "      <td>11012</td>\n",
       "      <td>14942</td>\n",
       "      <td>Other neighborhoods</td>\n",
       "      <td>Wallingford</td>\n",
       "      <td>47.654477</td>\n",
       "      <td>-122.336464</td>\n",
       "      <td>Entire home/apt</td>\n",
       "      <td>299</td>\n",
       "      <td>2</td>\n",
       "      <td>80</td>\n",
       "      <td>9/3/2018</td>\n",
       "      <td>0.750000</td>\n",
       "      <td>3</td>\n",
       "      <td>43</td>\n",
       "    </tr>\n",
       "    <tr>\n",
       "      <th>14</th>\n",
       "      <td>11411</td>\n",
       "      <td>35749</td>\n",
       "      <td>Northgate</td>\n",
       "      <td>Maple Leaf</td>\n",
       "      <td>47.695737</td>\n",
       "      <td>-122.313163</td>\n",
       "      <td>Private room</td>\n",
       "      <td>60</td>\n",
       "      <td>2</td>\n",
       "      <td>72</td>\n",
       "      <td>9/9/2018</td>\n",
       "      <td>0.680000</td>\n",
       "      <td>5</td>\n",
       "      <td>357</td>\n",
       "    </tr>\n",
       "    <tr>\n",
       "      <th>15</th>\n",
       "      <td>14386</td>\n",
       "      <td>39377</td>\n",
       "      <td>Other neighborhoods</td>\n",
       "      <td>Green Lake</td>\n",
       "      <td>47.687246</td>\n",
       "      <td>-122.334696</td>\n",
       "      <td>Private room</td>\n",
       "      <td>40</td>\n",
       "      <td>1</td>\n",
       "      <td>121</td>\n",
       "      <td>10/27/2018</td>\n",
       "      <td>1.200000</td>\n",
       "      <td>3</td>\n",
       "      <td>105</td>\n",
       "    </tr>\n",
       "    <tr>\n",
       "      <th>16</th>\n",
       "      <td>15108</td>\n",
       "      <td>39377</td>\n",
       "      <td>Other neighborhoods</td>\n",
       "      <td>Green Lake</td>\n",
       "      <td>47.688266</td>\n",
       "      <td>-122.335855</td>\n",
       "      <td>Private room</td>\n",
       "      <td>60</td>\n",
       "      <td>1</td>\n",
       "      <td>70</td>\n",
       "      <td>10/26/2018</td>\n",
       "      <td>0.780000</td>\n",
       "      <td>3</td>\n",
       "      <td>365</td>\n",
       "    </tr>\n",
       "    <tr>\n",
       "      <th>17</th>\n",
       "      <td>15749</td>\n",
       "      <td>61636</td>\n",
       "      <td>Other neighborhoods</td>\n",
       "      <td>Green Lake</td>\n",
       "      <td>47.684072</td>\n",
       "      <td>-122.326488</td>\n",
       "      <td>Private room</td>\n",
       "      <td>100</td>\n",
       "      <td>3</td>\n",
       "      <td>16</td>\n",
       "      <td>7/28/2018</td>\n",
       "      <td>0.190000</td>\n",
       "      <td>2</td>\n",
       "      <td>89</td>\n",
       "    </tr>\n",
       "    <tr>\n",
       "      <th>18</th>\n",
       "      <td>17951</td>\n",
       "      <td>33360</td>\n",
       "      <td>West Seattle</td>\n",
       "      <td>Fairmount Park</td>\n",
       "      <td>47.555382</td>\n",
       "      <td>-122.386223</td>\n",
       "      <td>Entire home/apt</td>\n",
       "      <td>105</td>\n",
       "      <td>2</td>\n",
       "      <td>88</td>\n",
       "      <td>11/5/2018</td>\n",
       "      <td>0.860000</td>\n",
       "      <td>8</td>\n",
       "      <td>350</td>\n",
       "    </tr>\n",
       "    <tr>\n",
       "      <th>19</th>\n",
       "      <td>19619</td>\n",
       "      <td>74305</td>\n",
       "      <td>Downtown</td>\n",
       "      <td>Belltown</td>\n",
       "      <td>47.613616</td>\n",
       "      <td>-122.347058</td>\n",
       "      <td>Entire home/apt</td>\n",
       "      <td>145</td>\n",
       "      <td>2</td>\n",
       "      <td>75</td>\n",
       "      <td>9/14/2018</td>\n",
       "      <td>0.750000</td>\n",
       "      <td>43</td>\n",
       "      <td>132</td>\n",
       "    </tr>\n",
       "    <tr>\n",
       "      <th>20</th>\n",
       "      <td>20868</td>\n",
       "      <td>35749</td>\n",
       "      <td>Northgate</td>\n",
       "      <td>Maple Leaf</td>\n",
       "      <td>47.695386</td>\n",
       "      <td>-122.313075</td>\n",
       "      <td>Entire home/apt</td>\n",
       "      <td>199</td>\n",
       "      <td>2</td>\n",
       "      <td>119</td>\n",
       "      <td>10/8/2018</td>\n",
       "      <td>1.160000</td>\n",
       "      <td>5</td>\n",
       "      <td>356</td>\n",
       "    </tr>\n",
       "    <tr>\n",
       "      <th>21</th>\n",
       "      <td>20927</td>\n",
       "      <td>79450</td>\n",
       "      <td>Ballard</td>\n",
       "      <td>Adams</td>\n",
       "      <td>47.673339</td>\n",
       "      <td>-122.395120</td>\n",
       "      <td>Entire home/apt</td>\n",
       "      <td>89</td>\n",
       "      <td>2</td>\n",
       "      <td>479</td>\n",
       "      <td>11/4/2018</td>\n",
       "      <td>4.700000</td>\n",
       "      <td>2</td>\n",
       "      <td>117</td>\n",
       "    </tr>\n",
       "    <tr>\n",
       "      <th>22</th>\n",
       "      <td>20928</td>\n",
       "      <td>79450</td>\n",
       "      <td>Ballard</td>\n",
       "      <td>Adams</td>\n",
       "      <td>47.673607</td>\n",
       "      <td>-122.393803</td>\n",
       "      <td>Private room</td>\n",
       "      <td>79</td>\n",
       "      <td>2</td>\n",
       "      <td>265</td>\n",
       "      <td>11/2/2018</td>\n",
       "      <td>6.320000</td>\n",
       "      <td>2</td>\n",
       "      <td>120</td>\n",
       "    </tr>\n",
       "    <tr>\n",
       "      <th>23</th>\n",
       "      <td>23192</td>\n",
       "      <td>90437</td>\n",
       "      <td>Capitol Hill</td>\n",
       "      <td>Broadway</td>\n",
       "      <td>47.622366</td>\n",
       "      <td>-122.315918</td>\n",
       "      <td>Entire home/apt</td>\n",
       "      <td>200</td>\n",
       "      <td>3</td>\n",
       "      <td>95</td>\n",
       "      <td>11/9/2018</td>\n",
       "      <td>1.440000</td>\n",
       "      <td>4</td>\n",
       "      <td>327</td>\n",
       "    </tr>\n",
       "    <tr>\n",
       "      <th>24</th>\n",
       "      <td>23356</td>\n",
       "      <td>91286</td>\n",
       "      <td>Beacon Hill</td>\n",
       "      <td>Holly Park</td>\n",
       "      <td>47.534188</td>\n",
       "      <td>-122.281393</td>\n",
       "      <td>Entire home/apt</td>\n",
       "      <td>189</td>\n",
       "      <td>5</td>\n",
       "      <td>19</td>\n",
       "      <td>8/20/2018</td>\n",
       "      <td>0.210000</td>\n",
       "      <td>1</td>\n",
       "      <td>323</td>\n",
       "    </tr>\n",
       "    <tr>\n",
       "      <th>25</th>\n",
       "      <td>24212</td>\n",
       "      <td>74305</td>\n",
       "      <td>Downtown</td>\n",
       "      <td>Belltown</td>\n",
       "      <td>47.615396</td>\n",
       "      <td>-122.348664</td>\n",
       "      <td>Entire home/apt</td>\n",
       "      <td>157</td>\n",
       "      <td>1</td>\n",
       "      <td>77</td>\n",
       "      <td>10/11/2018</td>\n",
       "      <td>0.790000</td>\n",
       "      <td>43</td>\n",
       "      <td>149</td>\n",
       "    </tr>\n",
       "    <tr>\n",
       "      <th>26</th>\n",
       "      <td>25002</td>\n",
       "      <td>102684</td>\n",
       "      <td>Ballard</td>\n",
       "      <td>Whittier Heights</td>\n",
       "      <td>47.679412</td>\n",
       "      <td>-122.370540</td>\n",
       "      <td>Entire home/apt</td>\n",
       "      <td>70</td>\n",
       "      <td>2</td>\n",
       "      <td>683</td>\n",
       "      <td>11/11/2018</td>\n",
       "      <td>6.550000</td>\n",
       "      <td>1</td>\n",
       "      <td>148</td>\n",
       "    </tr>\n",
       "    <tr>\n",
       "      <th>27</th>\n",
       "      <td>26116</td>\n",
       "      <td>110248</td>\n",
       "      <td>Capitol Hill</td>\n",
       "      <td>Broadway</td>\n",
       "      <td>47.617426</td>\n",
       "      <td>-122.326756</td>\n",
       "      <td>Entire home/apt</td>\n",
       "      <td>259</td>\n",
       "      <td>2</td>\n",
       "      <td>143</td>\n",
       "      <td>9/24/2016</td>\n",
       "      <td>1.440000</td>\n",
       "      <td>1</td>\n",
       "      <td>317</td>\n",
       "    </tr>\n",
       "    <tr>\n",
       "      <th>28</th>\n",
       "      <td>26795</td>\n",
       "      <td>114228</td>\n",
       "      <td>Cascade</td>\n",
       "      <td>Eastlake</td>\n",
       "      <td>47.639526</td>\n",
       "      <td>-122.328379</td>\n",
       "      <td>Entire home/apt</td>\n",
       "      <td>275</td>\n",
       "      <td>30</td>\n",
       "      <td>59</td>\n",
       "      <td>7/18/2018</td>\n",
       "      <td>0.590000</td>\n",
       "      <td>1</td>\n",
       "      <td>364</td>\n",
       "    </tr>\n",
       "    <tr>\n",
       "      <th>29</th>\n",
       "      <td>30712</td>\n",
       "      <td>107605</td>\n",
       "      <td>Ballard</td>\n",
       "      <td>Loyal Heights</td>\n",
       "      <td>47.678901</td>\n",
       "      <td>-122.381863</td>\n",
       "      <td>Entire home/apt</td>\n",
       "      <td>75</td>\n",
       "      <td>4</td>\n",
       "      <td>85</td>\n",
       "      <td>10/15/2018</td>\n",
       "      <td>0.830000</td>\n",
       "      <td>1</td>\n",
       "      <td>363</td>\n",
       "    </tr>\n",
       "    <tr>\n",
       "      <th>...</th>\n",
       "      <td>...</td>\n",
       "      <td>...</td>\n",
       "      <td>...</td>\n",
       "      <td>...</td>\n",
       "      <td>...</td>\n",
       "      <td>...</td>\n",
       "      <td>...</td>\n",
       "      <td>...</td>\n",
       "      <td>...</td>\n",
       "      <td>...</td>\n",
       "      <td>...</td>\n",
       "      <td>...</td>\n",
       "      <td>...</td>\n",
       "      <td>...</td>\n",
       "    </tr>\n",
       "    <tr>\n",
       "      <th>8710</th>\n",
       "      <td>29966894</td>\n",
       "      <td>183822129</td>\n",
       "      <td>Rainier Valley</td>\n",
       "      <td>Rainier Beach</td>\n",
       "      <td>47.510445</td>\n",
       "      <td>-122.241349</td>\n",
       "      <td>Entire home/apt</td>\n",
       "      <td>95</td>\n",
       "      <td>1</td>\n",
       "      <td>0</td>\n",
       "      <td>11/12/2018</td>\n",
       "      <td>2.462089</td>\n",
       "      <td>1</td>\n",
       "      <td>74</td>\n",
       "    </tr>\n",
       "    <tr>\n",
       "      <th>8711</th>\n",
       "      <td>29969556</td>\n",
       "      <td>79348518</td>\n",
       "      <td>Beacon Hill</td>\n",
       "      <td>South Beacon Hill</td>\n",
       "      <td>47.519968</td>\n",
       "      <td>-122.286066</td>\n",
       "      <td>Private room</td>\n",
       "      <td>70</td>\n",
       "      <td>2</td>\n",
       "      <td>0</td>\n",
       "      <td>11/12/2018</td>\n",
       "      <td>2.462089</td>\n",
       "      <td>3</td>\n",
       "      <td>16</td>\n",
       "    </tr>\n",
       "    <tr>\n",
       "      <th>8712</th>\n",
       "      <td>29984580</td>\n",
       "      <td>34169879</td>\n",
       "      <td>Beacon Hill</td>\n",
       "      <td>Mid-Beacon Hill</td>\n",
       "      <td>47.549930</td>\n",
       "      <td>-122.291427</td>\n",
       "      <td>Entire home/apt</td>\n",
       "      <td>134</td>\n",
       "      <td>1</td>\n",
       "      <td>0</td>\n",
       "      <td>11/12/2018</td>\n",
       "      <td>2.462089</td>\n",
       "      <td>1</td>\n",
       "      <td>353</td>\n",
       "    </tr>\n",
       "    <tr>\n",
       "      <th>8713</th>\n",
       "      <td>29985555</td>\n",
       "      <td>10110339</td>\n",
       "      <td>Other neighborhoods</td>\n",
       "      <td>Phinney Ridge</td>\n",
       "      <td>47.681392</td>\n",
       "      <td>-122.346786</td>\n",
       "      <td>Entire home/apt</td>\n",
       "      <td>98</td>\n",
       "      <td>2</td>\n",
       "      <td>0</td>\n",
       "      <td>11/12/2018</td>\n",
       "      <td>2.462089</td>\n",
       "      <td>1</td>\n",
       "      <td>361</td>\n",
       "    </tr>\n",
       "    <tr>\n",
       "      <th>8714</th>\n",
       "      <td>29986857</td>\n",
       "      <td>58241663</td>\n",
       "      <td>Other neighborhoods</td>\n",
       "      <td>Wallingford</td>\n",
       "      <td>47.653633</td>\n",
       "      <td>-122.326687</td>\n",
       "      <td>Private room</td>\n",
       "      <td>75</td>\n",
       "      <td>1</td>\n",
       "      <td>0</td>\n",
       "      <td>11/12/2018</td>\n",
       "      <td>2.462089</td>\n",
       "      <td>1</td>\n",
       "      <td>352</td>\n",
       "    </tr>\n",
       "    <tr>\n",
       "      <th>8715</th>\n",
       "      <td>29987932</td>\n",
       "      <td>9080071</td>\n",
       "      <td>Downtown</td>\n",
       "      <td>Belltown</td>\n",
       "      <td>47.613078</td>\n",
       "      <td>-122.344554</td>\n",
       "      <td>Entire home/apt</td>\n",
       "      <td>60</td>\n",
       "      <td>30</td>\n",
       "      <td>0</td>\n",
       "      <td>11/12/2018</td>\n",
       "      <td>2.462089</td>\n",
       "      <td>1</td>\n",
       "      <td>36</td>\n",
       "    </tr>\n",
       "    <tr>\n",
       "      <th>8716</th>\n",
       "      <td>29990523</td>\n",
       "      <td>225034304</td>\n",
       "      <td>Rainier Valley</td>\n",
       "      <td>Columbia City</td>\n",
       "      <td>47.556904</td>\n",
       "      <td>-122.286943</td>\n",
       "      <td>Entire home/apt</td>\n",
       "      <td>150</td>\n",
       "      <td>1</td>\n",
       "      <td>0</td>\n",
       "      <td>11/12/2018</td>\n",
       "      <td>2.462089</td>\n",
       "      <td>2</td>\n",
       "      <td>364</td>\n",
       "    </tr>\n",
       "    <tr>\n",
       "      <th>8717</th>\n",
       "      <td>29991646</td>\n",
       "      <td>25519399</td>\n",
       "      <td>University District</td>\n",
       "      <td>University District</td>\n",
       "      <td>47.669307</td>\n",
       "      <td>-122.310853</td>\n",
       "      <td>Entire home/apt</td>\n",
       "      <td>55</td>\n",
       "      <td>7</td>\n",
       "      <td>0</td>\n",
       "      <td>11/12/2018</td>\n",
       "      <td>2.462089</td>\n",
       "      <td>3</td>\n",
       "      <td>365</td>\n",
       "    </tr>\n",
       "    <tr>\n",
       "      <th>8718</th>\n",
       "      <td>29992179</td>\n",
       "      <td>25519399</td>\n",
       "      <td>University District</td>\n",
       "      <td>University District</td>\n",
       "      <td>47.668642</td>\n",
       "      <td>-122.309242</td>\n",
       "      <td>Private room</td>\n",
       "      <td>55</td>\n",
       "      <td>7</td>\n",
       "      <td>0</td>\n",
       "      <td>11/12/2018</td>\n",
       "      <td>2.462089</td>\n",
       "      <td>3</td>\n",
       "      <td>365</td>\n",
       "    </tr>\n",
       "    <tr>\n",
       "      <th>8719</th>\n",
       "      <td>30010568</td>\n",
       "      <td>200677209</td>\n",
       "      <td>Lake City</td>\n",
       "      <td>Olympic Hills</td>\n",
       "      <td>47.728682</td>\n",
       "      <td>-122.293901</td>\n",
       "      <td>Entire home/apt</td>\n",
       "      <td>80</td>\n",
       "      <td>4</td>\n",
       "      <td>0</td>\n",
       "      <td>11/12/2018</td>\n",
       "      <td>2.462089</td>\n",
       "      <td>1</td>\n",
       "      <td>46</td>\n",
       "    </tr>\n",
       "    <tr>\n",
       "      <th>8720</th>\n",
       "      <td>30010664</td>\n",
       "      <td>126626529</td>\n",
       "      <td>Central Area</td>\n",
       "      <td>Atlantic</td>\n",
       "      <td>47.592693</td>\n",
       "      <td>-122.298475</td>\n",
       "      <td>Entire home/apt</td>\n",
       "      <td>200</td>\n",
       "      <td>2</td>\n",
       "      <td>0</td>\n",
       "      <td>11/12/2018</td>\n",
       "      <td>2.462089</td>\n",
       "      <td>1</td>\n",
       "      <td>178</td>\n",
       "    </tr>\n",
       "    <tr>\n",
       "      <th>8721</th>\n",
       "      <td>30010923</td>\n",
       "      <td>33688512</td>\n",
       "      <td>Central Area</td>\n",
       "      <td>Minor</td>\n",
       "      <td>47.605228</td>\n",
       "      <td>-122.303146</td>\n",
       "      <td>Private room</td>\n",
       "      <td>69</td>\n",
       "      <td>1</td>\n",
       "      <td>0</td>\n",
       "      <td>11/12/2018</td>\n",
       "      <td>2.462089</td>\n",
       "      <td>1</td>\n",
       "      <td>84</td>\n",
       "    </tr>\n",
       "    <tr>\n",
       "      <th>8722</th>\n",
       "      <td>30012404</td>\n",
       "      <td>199033767</td>\n",
       "      <td>West Seattle</td>\n",
       "      <td>Alki</td>\n",
       "      <td>47.592898</td>\n",
       "      <td>-122.383461</td>\n",
       "      <td>Entire home/apt</td>\n",
       "      <td>350</td>\n",
       "      <td>2</td>\n",
       "      <td>0</td>\n",
       "      <td>11/12/2018</td>\n",
       "      <td>2.462089</td>\n",
       "      <td>1</td>\n",
       "      <td>259</td>\n",
       "    </tr>\n",
       "    <tr>\n",
       "      <th>8723</th>\n",
       "      <td>30013204</td>\n",
       "      <td>2536</td>\n",
       "      <td>Central Area</td>\n",
       "      <td>Madrona</td>\n",
       "      <td>47.610988</td>\n",
       "      <td>-122.291431</td>\n",
       "      <td>Entire home/apt</td>\n",
       "      <td>105</td>\n",
       "      <td>4</td>\n",
       "      <td>0</td>\n",
       "      <td>11/12/2018</td>\n",
       "      <td>2.462089</td>\n",
       "      <td>3</td>\n",
       "      <td>155</td>\n",
       "    </tr>\n",
       "    <tr>\n",
       "      <th>8724</th>\n",
       "      <td>30015086</td>\n",
       "      <td>19871809</td>\n",
       "      <td>Queen Anne</td>\n",
       "      <td>East Queen Anne</td>\n",
       "      <td>47.639158</td>\n",
       "      <td>-122.342168</td>\n",
       "      <td>Private room</td>\n",
       "      <td>65</td>\n",
       "      <td>2</td>\n",
       "      <td>0</td>\n",
       "      <td>11/12/2018</td>\n",
       "      <td>2.462089</td>\n",
       "      <td>1</td>\n",
       "      <td>89</td>\n",
       "    </tr>\n",
       "    <tr>\n",
       "      <th>8725</th>\n",
       "      <td>30015234</td>\n",
       "      <td>55613812</td>\n",
       "      <td>Queen Anne</td>\n",
       "      <td>West Queen Anne</td>\n",
       "      <td>47.631857</td>\n",
       "      <td>-122.368731</td>\n",
       "      <td>Entire home/apt</td>\n",
       "      <td>650</td>\n",
       "      <td>3</td>\n",
       "      <td>0</td>\n",
       "      <td>11/12/2018</td>\n",
       "      <td>2.462089</td>\n",
       "      <td>1</td>\n",
       "      <td>365</td>\n",
       "    </tr>\n",
       "    <tr>\n",
       "      <th>8726</th>\n",
       "      <td>30016732</td>\n",
       "      <td>113536201</td>\n",
       "      <td>Downtown</td>\n",
       "      <td>Belltown</td>\n",
       "      <td>47.615006</td>\n",
       "      <td>-122.353389</td>\n",
       "      <td>Entire home/apt</td>\n",
       "      <td>200</td>\n",
       "      <td>1</td>\n",
       "      <td>0</td>\n",
       "      <td>11/12/2018</td>\n",
       "      <td>2.462089</td>\n",
       "      <td>6</td>\n",
       "      <td>327</td>\n",
       "    </tr>\n",
       "    <tr>\n",
       "      <th>8727</th>\n",
       "      <td>30018168</td>\n",
       "      <td>11164643</td>\n",
       "      <td>Downtown</td>\n",
       "      <td>First Hill</td>\n",
       "      <td>47.607065</td>\n",
       "      <td>-122.325343</td>\n",
       "      <td>Entire home/apt</td>\n",
       "      <td>145</td>\n",
       "      <td>2</td>\n",
       "      <td>0</td>\n",
       "      <td>11/12/2018</td>\n",
       "      <td>2.462089</td>\n",
       "      <td>3</td>\n",
       "      <td>266</td>\n",
       "    </tr>\n",
       "    <tr>\n",
       "      <th>8728</th>\n",
       "      <td>30018439</td>\n",
       "      <td>10697929</td>\n",
       "      <td>Downtown</td>\n",
       "      <td>Central Business District</td>\n",
       "      <td>47.607726</td>\n",
       "      <td>-122.339268</td>\n",
       "      <td>Entire home/apt</td>\n",
       "      <td>250</td>\n",
       "      <td>1</td>\n",
       "      <td>0</td>\n",
       "      <td>11/12/2018</td>\n",
       "      <td>2.462089</td>\n",
       "      <td>1</td>\n",
       "      <td>76</td>\n",
       "    </tr>\n",
       "    <tr>\n",
       "      <th>8729</th>\n",
       "      <td>30018930</td>\n",
       "      <td>50550045</td>\n",
       "      <td>Downtown</td>\n",
       "      <td>First Hill</td>\n",
       "      <td>47.610088</td>\n",
       "      <td>-122.328888</td>\n",
       "      <td>Entire home/apt</td>\n",
       "      <td>250</td>\n",
       "      <td>2</td>\n",
       "      <td>0</td>\n",
       "      <td>11/12/2018</td>\n",
       "      <td>2.462089</td>\n",
       "      <td>163</td>\n",
       "      <td>365</td>\n",
       "    </tr>\n",
       "    <tr>\n",
       "      <th>8730</th>\n",
       "      <td>30035891</td>\n",
       "      <td>80739602</td>\n",
       "      <td>Downtown</td>\n",
       "      <td>Belltown</td>\n",
       "      <td>47.616774</td>\n",
       "      <td>-122.331691</td>\n",
       "      <td>Entire home/apt</td>\n",
       "      <td>275</td>\n",
       "      <td>1</td>\n",
       "      <td>0</td>\n",
       "      <td>11/12/2018</td>\n",
       "      <td>2.462089</td>\n",
       "      <td>10</td>\n",
       "      <td>0</td>\n",
       "    </tr>\n",
       "    <tr>\n",
       "      <th>8731</th>\n",
       "      <td>30035893</td>\n",
       "      <td>80739602</td>\n",
       "      <td>Downtown</td>\n",
       "      <td>Belltown</td>\n",
       "      <td>47.616761</td>\n",
       "      <td>-122.330811</td>\n",
       "      <td>Entire home/apt</td>\n",
       "      <td>315</td>\n",
       "      <td>1</td>\n",
       "      <td>0</td>\n",
       "      <td>11/12/2018</td>\n",
       "      <td>2.462089</td>\n",
       "      <td>10</td>\n",
       "      <td>0</td>\n",
       "    </tr>\n",
       "    <tr>\n",
       "      <th>8732</th>\n",
       "      <td>30035918</td>\n",
       "      <td>80739602</td>\n",
       "      <td>Downtown</td>\n",
       "      <td>Belltown</td>\n",
       "      <td>47.616554</td>\n",
       "      <td>-122.332505</td>\n",
       "      <td>Entire home/apt</td>\n",
       "      <td>315</td>\n",
       "      <td>1</td>\n",
       "      <td>0</td>\n",
       "      <td>11/12/2018</td>\n",
       "      <td>2.462089</td>\n",
       "      <td>10</td>\n",
       "      <td>0</td>\n",
       "    </tr>\n",
       "    <tr>\n",
       "      <th>8733</th>\n",
       "      <td>30035928</td>\n",
       "      <td>80739602</td>\n",
       "      <td>Downtown</td>\n",
       "      <td>Belltown</td>\n",
       "      <td>47.616002</td>\n",
       "      <td>-122.332026</td>\n",
       "      <td>Entire home/apt</td>\n",
       "      <td>275</td>\n",
       "      <td>1</td>\n",
       "      <td>0</td>\n",
       "      <td>11/12/2018</td>\n",
       "      <td>2.462089</td>\n",
       "      <td>10</td>\n",
       "      <td>0</td>\n",
       "    </tr>\n",
       "    <tr>\n",
       "      <th>8734</th>\n",
       "      <td>30040896</td>\n",
       "      <td>53265478</td>\n",
       "      <td>Capitol Hill</td>\n",
       "      <td>Stevens</td>\n",
       "      <td>47.631453</td>\n",
       "      <td>-122.297737</td>\n",
       "      <td>Entire home/apt</td>\n",
       "      <td>250</td>\n",
       "      <td>45</td>\n",
       "      <td>0</td>\n",
       "      <td>11/12/2018</td>\n",
       "      <td>2.462089</td>\n",
       "      <td>1</td>\n",
       "      <td>83</td>\n",
       "    </tr>\n",
       "    <tr>\n",
       "      <th>8735</th>\n",
       "      <td>30041235</td>\n",
       "      <td>14615861</td>\n",
       "      <td>Capitol Hill</td>\n",
       "      <td>Stevens</td>\n",
       "      <td>47.621972</td>\n",
       "      <td>-122.304432</td>\n",
       "      <td>Entire home/apt</td>\n",
       "      <td>299</td>\n",
       "      <td>2</td>\n",
       "      <td>0</td>\n",
       "      <td>11/12/2018</td>\n",
       "      <td>2.462089</td>\n",
       "      <td>1</td>\n",
       "      <td>43</td>\n",
       "    </tr>\n",
       "    <tr>\n",
       "      <th>8736</th>\n",
       "      <td>30042772</td>\n",
       "      <td>25519399</td>\n",
       "      <td>University District</td>\n",
       "      <td>University District</td>\n",
       "      <td>47.669037</td>\n",
       "      <td>-122.310783</td>\n",
       "      <td>Private room</td>\n",
       "      <td>55</td>\n",
       "      <td>7</td>\n",
       "      <td>0</td>\n",
       "      <td>11/12/2018</td>\n",
       "      <td>2.462089</td>\n",
       "      <td>3</td>\n",
       "      <td>365</td>\n",
       "    </tr>\n",
       "    <tr>\n",
       "      <th>8737</th>\n",
       "      <td>30047741</td>\n",
       "      <td>74305</td>\n",
       "      <td>Downtown</td>\n",
       "      <td>Belltown</td>\n",
       "      <td>47.615570</td>\n",
       "      <td>-122.348593</td>\n",
       "      <td>Entire home/apt</td>\n",
       "      <td>155</td>\n",
       "      <td>2</td>\n",
       "      <td>0</td>\n",
       "      <td>11/12/2018</td>\n",
       "      <td>2.462089</td>\n",
       "      <td>43</td>\n",
       "      <td>173</td>\n",
       "    </tr>\n",
       "    <tr>\n",
       "      <th>8738</th>\n",
       "      <td>30048966</td>\n",
       "      <td>25383292</td>\n",
       "      <td>West Seattle</td>\n",
       "      <td>Alki</td>\n",
       "      <td>47.579207</td>\n",
       "      <td>-122.413380</td>\n",
       "      <td>Entire home/apt</td>\n",
       "      <td>225</td>\n",
       "      <td>13</td>\n",
       "      <td>0</td>\n",
       "      <td>11/12/2018</td>\n",
       "      <td>2.462089</td>\n",
       "      <td>1</td>\n",
       "      <td>83</td>\n",
       "    </tr>\n",
       "    <tr>\n",
       "      <th>8739</th>\n",
       "      <td>30051160</td>\n",
       "      <td>113536201</td>\n",
       "      <td>Downtown</td>\n",
       "      <td>Belltown</td>\n",
       "      <td>47.615178</td>\n",
       "      <td>-122.348958</td>\n",
       "      <td>Entire home/apt</td>\n",
       "      <td>200</td>\n",
       "      <td>1</td>\n",
       "      <td>0</td>\n",
       "      <td>11/12/2018</td>\n",
       "      <td>2.462089</td>\n",
       "      <td>6</td>\n",
       "      <td>335</td>\n",
       "    </tr>\n",
       "  </tbody>\n",
       "</table>\n",
       "<p>8740 rows × 14 columns</p>\n",
       "</div>"
      ],
      "text/plain": [
       "            id    host_id  neighbourhood_group              neighbourhood  \\\n",
       "0         2318       2536         Central Area                    Madrona   \n",
       "1         4291      35749  Other neighborhoods                  Roosevelt   \n",
       "2         5682       8993             Delridge             South Delridge   \n",
       "3         6606      14942  Other neighborhoods                Wallingford   \n",
       "4         9419      30559  Other neighborhoods                 Georgetown   \n",
       "5         9460      30832             Downtown                 First Hill   \n",
       "6         9531      31481         West Seattle             Fairmount Park   \n",
       "7         9534      31481         West Seattle             Fairmount Park   \n",
       "8         9596      14942  Other neighborhoods                Wallingford   \n",
       "9         9909      33360         West Seattle             Fairmount Park   \n",
       "10       10209      31553             Delridge                 High Point   \n",
       "11       10385      35749            Northgate                 Maple Leaf   \n",
       "12       10695      35749            Northgate                 Maple Leaf   \n",
       "13       11012      14942  Other neighborhoods                Wallingford   \n",
       "14       11411      35749            Northgate                 Maple Leaf   \n",
       "15       14386      39377  Other neighborhoods                 Green Lake   \n",
       "16       15108      39377  Other neighborhoods                 Green Lake   \n",
       "17       15749      61636  Other neighborhoods                 Green Lake   \n",
       "18       17951      33360         West Seattle             Fairmount Park   \n",
       "19       19619      74305             Downtown                   Belltown   \n",
       "20       20868      35749            Northgate                 Maple Leaf   \n",
       "21       20927      79450              Ballard                      Adams   \n",
       "22       20928      79450              Ballard                      Adams   \n",
       "23       23192      90437         Capitol Hill                   Broadway   \n",
       "24       23356      91286          Beacon Hill                 Holly Park   \n",
       "25       24212      74305             Downtown                   Belltown   \n",
       "26       25002     102684              Ballard           Whittier Heights   \n",
       "27       26116     110248         Capitol Hill                   Broadway   \n",
       "28       26795     114228              Cascade                   Eastlake   \n",
       "29       30712     107605              Ballard              Loyal Heights   \n",
       "...        ...        ...                  ...                        ...   \n",
       "8710  29966894  183822129       Rainier Valley              Rainier Beach   \n",
       "8711  29969556   79348518          Beacon Hill          South Beacon Hill   \n",
       "8712  29984580   34169879          Beacon Hill            Mid-Beacon Hill   \n",
       "8713  29985555   10110339  Other neighborhoods              Phinney Ridge   \n",
       "8714  29986857   58241663  Other neighborhoods                Wallingford   \n",
       "8715  29987932    9080071             Downtown                   Belltown   \n",
       "8716  29990523  225034304       Rainier Valley              Columbia City   \n",
       "8717  29991646   25519399  University District        University District   \n",
       "8718  29992179   25519399  University District        University District   \n",
       "8719  30010568  200677209            Lake City              Olympic Hills   \n",
       "8720  30010664  126626529         Central Area                   Atlantic   \n",
       "8721  30010923   33688512         Central Area                      Minor   \n",
       "8722  30012404  199033767         West Seattle                       Alki   \n",
       "8723  30013204       2536         Central Area                    Madrona   \n",
       "8724  30015086   19871809           Queen Anne            East Queen Anne   \n",
       "8725  30015234   55613812           Queen Anne            West Queen Anne   \n",
       "8726  30016732  113536201             Downtown                   Belltown   \n",
       "8727  30018168   11164643             Downtown                 First Hill   \n",
       "8728  30018439   10697929             Downtown  Central Business District   \n",
       "8729  30018930   50550045             Downtown                 First Hill   \n",
       "8730  30035891   80739602             Downtown                   Belltown   \n",
       "8731  30035893   80739602             Downtown                   Belltown   \n",
       "8732  30035918   80739602             Downtown                   Belltown   \n",
       "8733  30035928   80739602             Downtown                   Belltown   \n",
       "8734  30040896   53265478         Capitol Hill                    Stevens   \n",
       "8735  30041235   14615861         Capitol Hill                    Stevens   \n",
       "8736  30042772   25519399  University District        University District   \n",
       "8737  30047741      74305             Downtown                   Belltown   \n",
       "8738  30048966   25383292         West Seattle                       Alki   \n",
       "8739  30051160  113536201             Downtown                   Belltown   \n",
       "\n",
       "       latitude   longitude        room_type  price  minimum_nights  \\\n",
       "0     47.610819 -122.290816  Entire home/apt    296               4   \n",
       "1     47.687801 -122.313427     Private room     82               2   \n",
       "2     47.523979 -122.359891  Entire home/apt     48               3   \n",
       "3     47.654109 -122.337605  Entire home/apt     90               2   \n",
       "4     47.550620 -122.320135     Private room     65               2   \n",
       "5     47.608010 -122.328739     Private room     80               3   \n",
       "6     47.555389 -122.384739  Entire home/apt    165               2   \n",
       "7     47.556236 -122.385980  Entire home/apt    125               2   \n",
       "8     47.654787 -122.336520  Entire home/apt    120               2   \n",
       "9     47.565209 -122.373748  Entire home/apt    125               3   \n",
       "10    47.553646 -122.363257     Private room     50               5   \n",
       "11    47.695719 -122.311944     Private room     60               2   \n",
       "12    47.697201 -122.313481     Private room    109               2   \n",
       "13    47.654477 -122.336464  Entire home/apt    299               2   \n",
       "14    47.695737 -122.313163     Private room     60               2   \n",
       "15    47.687246 -122.334696     Private room     40               1   \n",
       "16    47.688266 -122.335855     Private room     60               1   \n",
       "17    47.684072 -122.326488     Private room    100               3   \n",
       "18    47.555382 -122.386223  Entire home/apt    105               2   \n",
       "19    47.613616 -122.347058  Entire home/apt    145               2   \n",
       "20    47.695386 -122.313075  Entire home/apt    199               2   \n",
       "21    47.673339 -122.395120  Entire home/apt     89               2   \n",
       "22    47.673607 -122.393803     Private room     79               2   \n",
       "23    47.622366 -122.315918  Entire home/apt    200               3   \n",
       "24    47.534188 -122.281393  Entire home/apt    189               5   \n",
       "25    47.615396 -122.348664  Entire home/apt    157               1   \n",
       "26    47.679412 -122.370540  Entire home/apt     70               2   \n",
       "27    47.617426 -122.326756  Entire home/apt    259               2   \n",
       "28    47.639526 -122.328379  Entire home/apt    275              30   \n",
       "29    47.678901 -122.381863  Entire home/apt     75               4   \n",
       "...         ...         ...              ...    ...             ...   \n",
       "8710  47.510445 -122.241349  Entire home/apt     95               1   \n",
       "8711  47.519968 -122.286066     Private room     70               2   \n",
       "8712  47.549930 -122.291427  Entire home/apt    134               1   \n",
       "8713  47.681392 -122.346786  Entire home/apt     98               2   \n",
       "8714  47.653633 -122.326687     Private room     75               1   \n",
       "8715  47.613078 -122.344554  Entire home/apt     60              30   \n",
       "8716  47.556904 -122.286943  Entire home/apt    150               1   \n",
       "8717  47.669307 -122.310853  Entire home/apt     55               7   \n",
       "8718  47.668642 -122.309242     Private room     55               7   \n",
       "8719  47.728682 -122.293901  Entire home/apt     80               4   \n",
       "8720  47.592693 -122.298475  Entire home/apt    200               2   \n",
       "8721  47.605228 -122.303146     Private room     69               1   \n",
       "8722  47.592898 -122.383461  Entire home/apt    350               2   \n",
       "8723  47.610988 -122.291431  Entire home/apt    105               4   \n",
       "8724  47.639158 -122.342168     Private room     65               2   \n",
       "8725  47.631857 -122.368731  Entire home/apt    650               3   \n",
       "8726  47.615006 -122.353389  Entire home/apt    200               1   \n",
       "8727  47.607065 -122.325343  Entire home/apt    145               2   \n",
       "8728  47.607726 -122.339268  Entire home/apt    250               1   \n",
       "8729  47.610088 -122.328888  Entire home/apt    250               2   \n",
       "8730  47.616774 -122.331691  Entire home/apt    275               1   \n",
       "8731  47.616761 -122.330811  Entire home/apt    315               1   \n",
       "8732  47.616554 -122.332505  Entire home/apt    315               1   \n",
       "8733  47.616002 -122.332026  Entire home/apt    275               1   \n",
       "8734  47.631453 -122.297737  Entire home/apt    250              45   \n",
       "8735  47.621972 -122.304432  Entire home/apt    299               2   \n",
       "8736  47.669037 -122.310783     Private room     55               7   \n",
       "8737  47.615570 -122.348593  Entire home/apt    155               2   \n",
       "8738  47.579207 -122.413380  Entire home/apt    225              13   \n",
       "8739  47.615178 -122.348958  Entire home/apt    200               1   \n",
       "\n",
       "      number_of_reviews last_review  reviews_per_month  \\\n",
       "0                    20   9/18/2018           0.160000   \n",
       "1                    63   10/6/2018           0.960000   \n",
       "2                   461   11/2/2018           4.370000   \n",
       "3                   134  10/21/2018           1.180000   \n",
       "4                   130    9/9/2018           1.290000   \n",
       "5                   399  10/28/2018           3.560000   \n",
       "6                    35   10/8/2018           0.420000   \n",
       "7                    36  10/29/2018           0.430000   \n",
       "8                    76   10/1/2018           0.840000   \n",
       "9                    57  10/23/2018           3.750000   \n",
       "10                   36   6/20/2018           0.330000   \n",
       "11                   94   9/23/2018           0.850000   \n",
       "12                   21    9/4/2018           0.200000   \n",
       "13                   80    9/3/2018           0.750000   \n",
       "14                   72    9/9/2018           0.680000   \n",
       "15                  121  10/27/2018           1.200000   \n",
       "16                   70  10/26/2018           0.780000   \n",
       "17                   16   7/28/2018           0.190000   \n",
       "18                   88   11/5/2018           0.860000   \n",
       "19                   75   9/14/2018           0.750000   \n",
       "20                  119   10/8/2018           1.160000   \n",
       "21                  479   11/4/2018           4.700000   \n",
       "22                  265   11/2/2018           6.320000   \n",
       "23                   95   11/9/2018           1.440000   \n",
       "24                   19   8/20/2018           0.210000   \n",
       "25                   77  10/11/2018           0.790000   \n",
       "26                  683  11/11/2018           6.550000   \n",
       "27                  143   9/24/2016           1.440000   \n",
       "28                   59   7/18/2018           0.590000   \n",
       "29                   85  10/15/2018           0.830000   \n",
       "...                 ...         ...                ...   \n",
       "8710                  0  11/12/2018           2.462089   \n",
       "8711                  0  11/12/2018           2.462089   \n",
       "8712                  0  11/12/2018           2.462089   \n",
       "8713                  0  11/12/2018           2.462089   \n",
       "8714                  0  11/12/2018           2.462089   \n",
       "8715                  0  11/12/2018           2.462089   \n",
       "8716                  0  11/12/2018           2.462089   \n",
       "8717                  0  11/12/2018           2.462089   \n",
       "8718                  0  11/12/2018           2.462089   \n",
       "8719                  0  11/12/2018           2.462089   \n",
       "8720                  0  11/12/2018           2.462089   \n",
       "8721                  0  11/12/2018           2.462089   \n",
       "8722                  0  11/12/2018           2.462089   \n",
       "8723                  0  11/12/2018           2.462089   \n",
       "8724                  0  11/12/2018           2.462089   \n",
       "8725                  0  11/12/2018           2.462089   \n",
       "8726                  0  11/12/2018           2.462089   \n",
       "8727                  0  11/12/2018           2.462089   \n",
       "8728                  0  11/12/2018           2.462089   \n",
       "8729                  0  11/12/2018           2.462089   \n",
       "8730                  0  11/12/2018           2.462089   \n",
       "8731                  0  11/12/2018           2.462089   \n",
       "8732                  0  11/12/2018           2.462089   \n",
       "8733                  0  11/12/2018           2.462089   \n",
       "8734                  0  11/12/2018           2.462089   \n",
       "8735                  0  11/12/2018           2.462089   \n",
       "8736                  0  11/12/2018           2.462089   \n",
       "8737                  0  11/12/2018           2.462089   \n",
       "8738                  0  11/12/2018           2.462089   \n",
       "8739                  0  11/12/2018           2.462089   \n",
       "\n",
       "      calculated_host_listings_count  availability_365  \n",
       "0                                  3               345  \n",
       "1                                  5               365  \n",
       "2                                  1                24  \n",
       "3                                  3               287  \n",
       "4                                  5               336  \n",
       "5                                  4               133  \n",
       "6                                  2               267  \n",
       "7                                  2               352  \n",
       "8                                  3                94  \n",
       "9                                  8                22  \n",
       "10                                 1               334  \n",
       "11                                 5               335  \n",
       "12                                 5               327  \n",
       "13                                 3                43  \n",
       "14                                 5               357  \n",
       "15                                 3               105  \n",
       "16                                 3               365  \n",
       "17                                 2                89  \n",
       "18                                 8               350  \n",
       "19                                43               132  \n",
       "20                                 5               356  \n",
       "21                                 2               117  \n",
       "22                                 2               120  \n",
       "23                                 4               327  \n",
       "24                                 1               323  \n",
       "25                                43               149  \n",
       "26                                 1               148  \n",
       "27                                 1               317  \n",
       "28                                 1               364  \n",
       "29                                 1               363  \n",
       "...                              ...               ...  \n",
       "8710                               1                74  \n",
       "8711                               3                16  \n",
       "8712                               1               353  \n",
       "8713                               1               361  \n",
       "8714                               1               352  \n",
       "8715                               1                36  \n",
       "8716                               2               364  \n",
       "8717                               3               365  \n",
       "8718                               3               365  \n",
       "8719                               1                46  \n",
       "8720                               1               178  \n",
       "8721                               1                84  \n",
       "8722                               1               259  \n",
       "8723                               3               155  \n",
       "8724                               1                89  \n",
       "8725                               1               365  \n",
       "8726                               6               327  \n",
       "8727                               3               266  \n",
       "8728                               1                76  \n",
       "8729                             163               365  \n",
       "8730                              10                 0  \n",
       "8731                              10                 0  \n",
       "8732                              10                 0  \n",
       "8733                              10                 0  \n",
       "8734                               1                83  \n",
       "8735                               1                43  \n",
       "8736                               3               365  \n",
       "8737                              43               173  \n",
       "8738                               1                83  \n",
       "8739                               6               335  \n",
       "\n",
       "[8740 rows x 14 columns]"
      ]
     },
     "execution_count": 10,
     "metadata": {},
     "output_type": "execute_result"
    }
   ],
   "source": [
    "airbnb_listing_df.drop(columns = [\"name\", \"host_name\"])"
   ]
  },
  {
   "cell_type": "code",
   "execution_count": 11,
   "metadata": {},
   "outputs": [
    {
     "data": {
      "text/plain": [
       "Index(['id', 'name', 'host_id', 'host_name', 'neighbourhood_group',\n",
       "       'neighbourhood', 'latitude', 'longitude', 'room_type', 'price',\n",
       "       'minimum_nights', 'number_of_reviews', 'last_review',\n",
       "       'reviews_per_month', 'calculated_host_listings_count',\n",
       "       'availability_365'],\n",
       "      dtype='object')"
      ]
     },
     "execution_count": 11,
     "metadata": {},
     "output_type": "execute_result"
    }
   ],
   "source": [
    "airbnb_listing_df.columns"
   ]
  },
  {
   "cell_type": "markdown",
   "metadata": {},
   "source": [
    "##### Dropping price "
   ]
  },
  {
   "cell_type": "code",
   "execution_count": 12,
   "metadata": {},
   "outputs": [],
   "source": [
    "price_raw = airbnb_listing_df.price"
   ]
  },
  {
   "cell_type": "code",
   "execution_count": 13,
   "metadata": {},
   "outputs": [
    {
     "data": {
      "text/plain": [
       "0    296\n",
       "1     82\n",
       "2     48\n",
       "3     90\n",
       "4     65\n",
       "Name: price, dtype: int64"
      ]
     },
     "execution_count": 13,
     "metadata": {},
     "output_type": "execute_result"
    }
   ],
   "source": [
    "price_raw.head()"
   ]
  },
  {
   "cell_type": "markdown",
   "metadata": {},
   "source": [
    "### Predicting Airbnb Prices  "
   ]
  },
  {
   "cell_type": "code",
   "execution_count": 14,
   "metadata": {},
   "outputs": [],
   "source": [
    "features_raw = airbnb_listing_df.drop([\"price\", \"name\", \"host_name\", \"last_review\"], axis = 1)"
   ]
  },
  {
   "cell_type": "code",
   "execution_count": 15,
   "metadata": {},
   "outputs": [],
   "source": [
    "#features_raw.groupby(\"host_id\")[\"number_of_reviews\"].sum().plot(kind = \"bar\", figsize = (20,10), legend = True)"
   ]
  },
  {
   "cell_type": "code",
   "execution_count": 16,
   "metadata": {},
   "outputs": [
    {
     "data": {
      "text/html": [
       "<div>\n",
       "<style scoped>\n",
       "    .dataframe tbody tr th:only-of-type {\n",
       "        vertical-align: middle;\n",
       "    }\n",
       "\n",
       "    .dataframe tbody tr th {\n",
       "        vertical-align: top;\n",
       "    }\n",
       "\n",
       "    .dataframe thead th {\n",
       "        text-align: right;\n",
       "    }\n",
       "</style>\n",
       "<table border=\"1\" class=\"dataframe\">\n",
       "  <thead>\n",
       "    <tr style=\"text-align: right;\">\n",
       "      <th></th>\n",
       "      <th>id</th>\n",
       "      <th>host_id</th>\n",
       "      <th>neighbourhood_group</th>\n",
       "      <th>neighbourhood</th>\n",
       "      <th>latitude</th>\n",
       "      <th>longitude</th>\n",
       "      <th>room_type</th>\n",
       "      <th>minimum_nights</th>\n",
       "      <th>number_of_reviews</th>\n",
       "      <th>reviews_per_month</th>\n",
       "      <th>calculated_host_listings_count</th>\n",
       "      <th>availability_365</th>\n",
       "    </tr>\n",
       "  </thead>\n",
       "  <tbody>\n",
       "    <tr>\n",
       "      <th>0</th>\n",
       "      <td>2318</td>\n",
       "      <td>2536</td>\n",
       "      <td>Central Area</td>\n",
       "      <td>Madrona</td>\n",
       "      <td>47.610819</td>\n",
       "      <td>-122.290816</td>\n",
       "      <td>Entire home/apt</td>\n",
       "      <td>4</td>\n",
       "      <td>20</td>\n",
       "      <td>0.16</td>\n",
       "      <td>3</td>\n",
       "      <td>345</td>\n",
       "    </tr>\n",
       "    <tr>\n",
       "      <th>1</th>\n",
       "      <td>4291</td>\n",
       "      <td>35749</td>\n",
       "      <td>Other neighborhoods</td>\n",
       "      <td>Roosevelt</td>\n",
       "      <td>47.687801</td>\n",
       "      <td>-122.313427</td>\n",
       "      <td>Private room</td>\n",
       "      <td>2</td>\n",
       "      <td>63</td>\n",
       "      <td>0.96</td>\n",
       "      <td>5</td>\n",
       "      <td>365</td>\n",
       "    </tr>\n",
       "    <tr>\n",
       "      <th>2</th>\n",
       "      <td>5682</td>\n",
       "      <td>8993</td>\n",
       "      <td>Delridge</td>\n",
       "      <td>South Delridge</td>\n",
       "      <td>47.523979</td>\n",
       "      <td>-122.359891</td>\n",
       "      <td>Entire home/apt</td>\n",
       "      <td>3</td>\n",
       "      <td>461</td>\n",
       "      <td>4.37</td>\n",
       "      <td>1</td>\n",
       "      <td>24</td>\n",
       "    </tr>\n",
       "    <tr>\n",
       "      <th>3</th>\n",
       "      <td>6606</td>\n",
       "      <td>14942</td>\n",
       "      <td>Other neighborhoods</td>\n",
       "      <td>Wallingford</td>\n",
       "      <td>47.654109</td>\n",
       "      <td>-122.337605</td>\n",
       "      <td>Entire home/apt</td>\n",
       "      <td>2</td>\n",
       "      <td>134</td>\n",
       "      <td>1.18</td>\n",
       "      <td>3</td>\n",
       "      <td>287</td>\n",
       "    </tr>\n",
       "    <tr>\n",
       "      <th>4</th>\n",
       "      <td>9419</td>\n",
       "      <td>30559</td>\n",
       "      <td>Other neighborhoods</td>\n",
       "      <td>Georgetown</td>\n",
       "      <td>47.550620</td>\n",
       "      <td>-122.320135</td>\n",
       "      <td>Private room</td>\n",
       "      <td>2</td>\n",
       "      <td>130</td>\n",
       "      <td>1.29</td>\n",
       "      <td>5</td>\n",
       "      <td>336</td>\n",
       "    </tr>\n",
       "  </tbody>\n",
       "</table>\n",
       "</div>"
      ],
      "text/plain": [
       "     id  host_id  neighbourhood_group   neighbourhood   latitude   longitude  \\\n",
       "0  2318     2536         Central Area         Madrona  47.610819 -122.290816   \n",
       "1  4291    35749  Other neighborhoods       Roosevelt  47.687801 -122.313427   \n",
       "2  5682     8993             Delridge  South Delridge  47.523979 -122.359891   \n",
       "3  6606    14942  Other neighborhoods     Wallingford  47.654109 -122.337605   \n",
       "4  9419    30559  Other neighborhoods      Georgetown  47.550620 -122.320135   \n",
       "\n",
       "         room_type  minimum_nights  number_of_reviews  reviews_per_month  \\\n",
       "0  Entire home/apt               4                 20               0.16   \n",
       "1     Private room               2                 63               0.96   \n",
       "2  Entire home/apt               3                461               4.37   \n",
       "3  Entire home/apt               2                134               1.18   \n",
       "4     Private room               2                130               1.29   \n",
       "\n",
       "   calculated_host_listings_count  availability_365  \n",
       "0                               3               345  \n",
       "1                               5               365  \n",
       "2                               1                24  \n",
       "3                               3               287  \n",
       "4                               5               336  "
      ]
     },
     "execution_count": 16,
     "metadata": {},
     "output_type": "execute_result"
    }
   ],
   "source": [
    "features_raw.head()"
   ]
  },
  {
   "cell_type": "code",
   "execution_count": 17,
   "metadata": {},
   "outputs": [
    {
     "data": {
      "text/plain": [
       "Index(['id', 'host_id', 'neighbourhood_group', 'neighbourhood', 'latitude',\n",
       "       'longitude', 'room_type', 'minimum_nights', 'number_of_reviews',\n",
       "       'reviews_per_month', 'calculated_host_listings_count',\n",
       "       'availability_365'],\n",
       "      dtype='object')"
      ]
     },
     "execution_count": 17,
     "metadata": {},
     "output_type": "execute_result"
    }
   ],
   "source": [
    "features_raw.columns"
   ]
  },
  {
   "cell_type": "markdown",
   "metadata": {},
   "source": [
    "##### Normalize Numerical Data"
   ]
  },
  {
   "cell_type": "code",
   "execution_count": 18,
   "metadata": {},
   "outputs": [],
   "source": [
    "numerical = [\"latitude\", \"longitude\",\"minimum_nights\",\"number_of_reviews\",\"reviews_per_month\",\"calculated_host_listings_count\",\"availability_365\"]"
   ]
  },
  {
   "cell_type": "code",
   "execution_count": 19,
   "metadata": {},
   "outputs": [
    {
     "name": "stderr",
     "output_type": "stream",
     "text": [
      "C:\\Anaconda3\\lib\\site-packages\\sklearn\\preprocessing\\data.py:323: DataConversionWarning: Data with input dtype int64, float64 were all converted to float64 by MinMaxScaler.\n",
      "  return self.partial_fit(X, y)\n"
     ]
    }
   ],
   "source": [
    "scaler = MinMaxScaler()\n",
    "\n",
    "features_normalized = features_raw.copy(deep = True)\n",
    "\n",
    "features_normalized[numerical] = scaler.fit_transform(features_raw[numerical])"
   ]
  },
  {
   "cell_type": "code",
   "execution_count": 20,
   "metadata": {},
   "outputs": [
    {
     "data": {
      "text/html": [
       "<div>\n",
       "<style scoped>\n",
       "    .dataframe tbody tr th:only-of-type {\n",
       "        vertical-align: middle;\n",
       "    }\n",
       "\n",
       "    .dataframe tbody tr th {\n",
       "        vertical-align: top;\n",
       "    }\n",
       "\n",
       "    .dataframe thead th {\n",
       "        text-align: right;\n",
       "    }\n",
       "</style>\n",
       "<table border=\"1\" class=\"dataframe\">\n",
       "  <thead>\n",
       "    <tr style=\"text-align: right;\">\n",
       "      <th></th>\n",
       "      <th>id</th>\n",
       "      <th>host_id</th>\n",
       "      <th>neighbourhood_group</th>\n",
       "      <th>neighbourhood</th>\n",
       "      <th>latitude</th>\n",
       "      <th>longitude</th>\n",
       "      <th>room_type</th>\n",
       "      <th>minimum_nights</th>\n",
       "      <th>number_of_reviews</th>\n",
       "      <th>reviews_per_month</th>\n",
       "      <th>calculated_host_listings_count</th>\n",
       "      <th>availability_365</th>\n",
       "    </tr>\n",
       "  </thead>\n",
       "  <tbody>\n",
       "    <tr>\n",
       "      <th>0</th>\n",
       "      <td>2318</td>\n",
       "      <td>2536</td>\n",
       "      <td>Central Area</td>\n",
       "      <td>Madrona</td>\n",
       "      <td>0.478077</td>\n",
       "      <td>0.694037</td>\n",
       "      <td>Entire home/apt</td>\n",
       "      <td>0.007519</td>\n",
       "      <td>0.027894</td>\n",
       "      <td>0.003233</td>\n",
       "      <td>0.006452</td>\n",
       "      <td>0.945205</td>\n",
       "    </tr>\n",
       "    <tr>\n",
       "      <th>1</th>\n",
       "      <td>4291</td>\n",
       "      <td>35749</td>\n",
       "      <td>Other neighborhoods</td>\n",
       "      <td>Roosevelt</td>\n",
       "      <td>0.798712</td>\n",
       "      <td>0.572216</td>\n",
       "      <td>Private room</td>\n",
       "      <td>0.002506</td>\n",
       "      <td>0.087866</td>\n",
       "      <td>0.020474</td>\n",
       "      <td>0.012903</td>\n",
       "      <td>1.000000</td>\n",
       "    </tr>\n",
       "    <tr>\n",
       "      <th>2</th>\n",
       "      <td>5682</td>\n",
       "      <td>8993</td>\n",
       "      <td>Delridge</td>\n",
       "      <td>South Delridge</td>\n",
       "      <td>0.116382</td>\n",
       "      <td>0.321891</td>\n",
       "      <td>Entire home/apt</td>\n",
       "      <td>0.005013</td>\n",
       "      <td>0.642957</td>\n",
       "      <td>0.093966</td>\n",
       "      <td>0.000000</td>\n",
       "      <td>0.065753</td>\n",
       "    </tr>\n",
       "    <tr>\n",
       "      <th>3</th>\n",
       "      <td>6606</td>\n",
       "      <td>14942</td>\n",
       "      <td>Other neighborhoods</td>\n",
       "      <td>Wallingford</td>\n",
       "      <td>0.658381</td>\n",
       "      <td>0.441955</td>\n",
       "      <td>Entire home/apt</td>\n",
       "      <td>0.002506</td>\n",
       "      <td>0.186890</td>\n",
       "      <td>0.025216</td>\n",
       "      <td>0.006452</td>\n",
       "      <td>0.786301</td>\n",
       "    </tr>\n",
       "    <tr>\n",
       "      <th>4</th>\n",
       "      <td>9419</td>\n",
       "      <td>30559</td>\n",
       "      <td>Other neighborhoods</td>\n",
       "      <td>Georgetown</td>\n",
       "      <td>0.227341</td>\n",
       "      <td>0.536076</td>\n",
       "      <td>Private room</td>\n",
       "      <td>0.002506</td>\n",
       "      <td>0.181311</td>\n",
       "      <td>0.027586</td>\n",
       "      <td>0.012903</td>\n",
       "      <td>0.920548</td>\n",
       "    </tr>\n",
       "  </tbody>\n",
       "</table>\n",
       "</div>"
      ],
      "text/plain": [
       "     id  host_id  neighbourhood_group   neighbourhood  latitude  longitude  \\\n",
       "0  2318     2536         Central Area         Madrona  0.478077   0.694037   \n",
       "1  4291    35749  Other neighborhoods       Roosevelt  0.798712   0.572216   \n",
       "2  5682     8993             Delridge  South Delridge  0.116382   0.321891   \n",
       "3  6606    14942  Other neighborhoods     Wallingford  0.658381   0.441955   \n",
       "4  9419    30559  Other neighborhoods      Georgetown  0.227341   0.536076   \n",
       "\n",
       "         room_type  minimum_nights  number_of_reviews  reviews_per_month  \\\n",
       "0  Entire home/apt        0.007519           0.027894           0.003233   \n",
       "1     Private room        0.002506           0.087866           0.020474   \n",
       "2  Entire home/apt        0.005013           0.642957           0.093966   \n",
       "3  Entire home/apt        0.002506           0.186890           0.025216   \n",
       "4     Private room        0.002506           0.181311           0.027586   \n",
       "\n",
       "   calculated_host_listings_count  availability_365  \n",
       "0                        0.006452          0.945205  \n",
       "1                        0.012903          1.000000  \n",
       "2                        0.000000          0.065753  \n",
       "3                        0.006452          0.786301  \n",
       "4                        0.012903          0.920548  "
      ]
     },
     "execution_count": 20,
     "metadata": {},
     "output_type": "execute_result"
    }
   ],
   "source": [
    "# Show an example of a record with scaling applied\n",
    "features_normalized.head()"
   ]
  },
  {
   "cell_type": "code",
   "execution_count": 21,
   "metadata": {},
   "outputs": [
    {
     "data": {
      "text/plain": [
       "(12,)"
      ]
     },
     "execution_count": 21,
     "metadata": {},
     "output_type": "execute_result"
    }
   ],
   "source": [
    "features_normalized.columns.shape"
   ]
  },
  {
   "cell_type": "markdown",
   "metadata": {},
   "source": [
    "##### Data Processing - Hot-Encoding"
   ]
  },
  {
   "cell_type": "code",
   "execution_count": 22,
   "metadata": {},
   "outputs": [],
   "source": [
    "#categorical = [\"neighbourhood_group\",\"neighbourhood\", \"room_type\"]"
   ]
  },
  {
   "cell_type": "code",
   "execution_count": null,
   "metadata": {},
   "outputs": [],
   "source": []
  },
  {
   "cell_type": "code",
   "execution_count": 23,
   "metadata": {},
   "outputs": [],
   "source": [
    "features_final = pd.get_dummies(features_normalized)"
   ]
  },
  {
   "cell_type": "code",
   "execution_count": 24,
   "metadata": {},
   "outputs": [
    {
     "data": {
      "text/plain": [
       "(117,)"
      ]
     },
     "execution_count": 24,
     "metadata": {},
     "output_type": "execute_result"
    }
   ],
   "source": [
    "features_final.columns.shape"
   ]
  },
  {
   "cell_type": "code",
   "execution_count": 25,
   "metadata": {},
   "outputs": [
    {
     "data": {
      "text/html": [
       "<div>\n",
       "<style scoped>\n",
       "    .dataframe tbody tr th:only-of-type {\n",
       "        vertical-align: middle;\n",
       "    }\n",
       "\n",
       "    .dataframe tbody tr th {\n",
       "        vertical-align: top;\n",
       "    }\n",
       "\n",
       "    .dataframe thead th {\n",
       "        text-align: right;\n",
       "    }\n",
       "</style>\n",
       "<table border=\"1\" class=\"dataframe\">\n",
       "  <thead>\n",
       "    <tr style=\"text-align: right;\">\n",
       "      <th></th>\n",
       "      <th>id</th>\n",
       "      <th>host_id</th>\n",
       "      <th>latitude</th>\n",
       "      <th>longitude</th>\n",
       "      <th>minimum_nights</th>\n",
       "      <th>number_of_reviews</th>\n",
       "      <th>reviews_per_month</th>\n",
       "      <th>calculated_host_listings_count</th>\n",
       "      <th>availability_365</th>\n",
       "      <th>neighbourhood_group_Ballard</th>\n",
       "      <th>...</th>\n",
       "      <th>neighbourhood_Wedgwood</th>\n",
       "      <th>neighbourhood_West Queen Anne</th>\n",
       "      <th>neighbourhood_West Woodland</th>\n",
       "      <th>neighbourhood_Westlake</th>\n",
       "      <th>neighbourhood_Whittier Heights</th>\n",
       "      <th>neighbourhood_Windermere</th>\n",
       "      <th>neighbourhood_Yesler Terrace</th>\n",
       "      <th>room_type_Entire home/apt</th>\n",
       "      <th>room_type_Private room</th>\n",
       "      <th>room_type_Shared room</th>\n",
       "    </tr>\n",
       "  </thead>\n",
       "  <tbody>\n",
       "    <tr>\n",
       "      <th>0</th>\n",
       "      <td>2318</td>\n",
       "      <td>2536</td>\n",
       "      <td>0.478077</td>\n",
       "      <td>0.694037</td>\n",
       "      <td>0.007519</td>\n",
       "      <td>0.027894</td>\n",
       "      <td>0.003233</td>\n",
       "      <td>0.006452</td>\n",
       "      <td>0.945205</td>\n",
       "      <td>0</td>\n",
       "      <td>...</td>\n",
       "      <td>0</td>\n",
       "      <td>0</td>\n",
       "      <td>0</td>\n",
       "      <td>0</td>\n",
       "      <td>0</td>\n",
       "      <td>0</td>\n",
       "      <td>0</td>\n",
       "      <td>1</td>\n",
       "      <td>0</td>\n",
       "      <td>0</td>\n",
       "    </tr>\n",
       "    <tr>\n",
       "      <th>1</th>\n",
       "      <td>4291</td>\n",
       "      <td>35749</td>\n",
       "      <td>0.798712</td>\n",
       "      <td>0.572216</td>\n",
       "      <td>0.002506</td>\n",
       "      <td>0.087866</td>\n",
       "      <td>0.020474</td>\n",
       "      <td>0.012903</td>\n",
       "      <td>1.000000</td>\n",
       "      <td>0</td>\n",
       "      <td>...</td>\n",
       "      <td>0</td>\n",
       "      <td>0</td>\n",
       "      <td>0</td>\n",
       "      <td>0</td>\n",
       "      <td>0</td>\n",
       "      <td>0</td>\n",
       "      <td>0</td>\n",
       "      <td>0</td>\n",
       "      <td>1</td>\n",
       "      <td>0</td>\n",
       "    </tr>\n",
       "    <tr>\n",
       "      <th>2</th>\n",
       "      <td>5682</td>\n",
       "      <td>8993</td>\n",
       "      <td>0.116382</td>\n",
       "      <td>0.321891</td>\n",
       "      <td>0.005013</td>\n",
       "      <td>0.642957</td>\n",
       "      <td>0.093966</td>\n",
       "      <td>0.000000</td>\n",
       "      <td>0.065753</td>\n",
       "      <td>0</td>\n",
       "      <td>...</td>\n",
       "      <td>0</td>\n",
       "      <td>0</td>\n",
       "      <td>0</td>\n",
       "      <td>0</td>\n",
       "      <td>0</td>\n",
       "      <td>0</td>\n",
       "      <td>0</td>\n",
       "      <td>1</td>\n",
       "      <td>0</td>\n",
       "      <td>0</td>\n",
       "    </tr>\n",
       "    <tr>\n",
       "      <th>3</th>\n",
       "      <td>6606</td>\n",
       "      <td>14942</td>\n",
       "      <td>0.658381</td>\n",
       "      <td>0.441955</td>\n",
       "      <td>0.002506</td>\n",
       "      <td>0.186890</td>\n",
       "      <td>0.025216</td>\n",
       "      <td>0.006452</td>\n",
       "      <td>0.786301</td>\n",
       "      <td>0</td>\n",
       "      <td>...</td>\n",
       "      <td>0</td>\n",
       "      <td>0</td>\n",
       "      <td>0</td>\n",
       "      <td>0</td>\n",
       "      <td>0</td>\n",
       "      <td>0</td>\n",
       "      <td>0</td>\n",
       "      <td>1</td>\n",
       "      <td>0</td>\n",
       "      <td>0</td>\n",
       "    </tr>\n",
       "    <tr>\n",
       "      <th>4</th>\n",
       "      <td>9419</td>\n",
       "      <td>30559</td>\n",
       "      <td>0.227341</td>\n",
       "      <td>0.536076</td>\n",
       "      <td>0.002506</td>\n",
       "      <td>0.181311</td>\n",
       "      <td>0.027586</td>\n",
       "      <td>0.012903</td>\n",
       "      <td>0.920548</td>\n",
       "      <td>0</td>\n",
       "      <td>...</td>\n",
       "      <td>0</td>\n",
       "      <td>0</td>\n",
       "      <td>0</td>\n",
       "      <td>0</td>\n",
       "      <td>0</td>\n",
       "      <td>0</td>\n",
       "      <td>0</td>\n",
       "      <td>0</td>\n",
       "      <td>1</td>\n",
       "      <td>0</td>\n",
       "    </tr>\n",
       "  </tbody>\n",
       "</table>\n",
       "<p>5 rows × 117 columns</p>\n",
       "</div>"
      ],
      "text/plain": [
       "     id  host_id  latitude  longitude  minimum_nights  number_of_reviews  \\\n",
       "0  2318     2536  0.478077   0.694037        0.007519           0.027894   \n",
       "1  4291    35749  0.798712   0.572216        0.002506           0.087866   \n",
       "2  5682     8993  0.116382   0.321891        0.005013           0.642957   \n",
       "3  6606    14942  0.658381   0.441955        0.002506           0.186890   \n",
       "4  9419    30559  0.227341   0.536076        0.002506           0.181311   \n",
       "\n",
       "   reviews_per_month  calculated_host_listings_count  availability_365  \\\n",
       "0           0.003233                        0.006452          0.945205   \n",
       "1           0.020474                        0.012903          1.000000   \n",
       "2           0.093966                        0.000000          0.065753   \n",
       "3           0.025216                        0.006452          0.786301   \n",
       "4           0.027586                        0.012903          0.920548   \n",
       "\n",
       "   neighbourhood_group_Ballard          ...            neighbourhood_Wedgwood  \\\n",
       "0                            0          ...                                 0   \n",
       "1                            0          ...                                 0   \n",
       "2                            0          ...                                 0   \n",
       "3                            0          ...                                 0   \n",
       "4                            0          ...                                 0   \n",
       "\n",
       "   neighbourhood_West Queen Anne  neighbourhood_West Woodland  \\\n",
       "0                              0                            0   \n",
       "1                              0                            0   \n",
       "2                              0                            0   \n",
       "3                              0                            0   \n",
       "4                              0                            0   \n",
       "\n",
       "   neighbourhood_Westlake  neighbourhood_Whittier Heights  \\\n",
       "0                       0                               0   \n",
       "1                       0                               0   \n",
       "2                       0                               0   \n",
       "3                       0                               0   \n",
       "4                       0                               0   \n",
       "\n",
       "   neighbourhood_Windermere  neighbourhood_Yesler Terrace  \\\n",
       "0                         0                             0   \n",
       "1                         0                             0   \n",
       "2                         0                             0   \n",
       "3                         0                             0   \n",
       "4                         0                             0   \n",
       "\n",
       "   room_type_Entire home/apt  room_type_Private room  room_type_Shared room  \n",
       "0                          1                       0                      0  \n",
       "1                          0                       1                      0  \n",
       "2                          1                       0                      0  \n",
       "3                          1                       0                      0  \n",
       "4                          0                       1                      0  \n",
       "\n",
       "[5 rows x 117 columns]"
      ]
     },
     "execution_count": 25,
     "metadata": {},
     "output_type": "execute_result"
    }
   ],
   "source": [
    "features_final.head()"
   ]
  },
  {
   "cell_type": "markdown",
   "metadata": {},
   "source": [
    "#### Missing values imputed with mean for Reviews Per Month"
   ]
  },
  {
   "cell_type": "code",
   "execution_count": 26,
   "metadata": {},
   "outputs": [
    {
     "data": {
      "text/plain": [
       "Index([], dtype='object')"
      ]
     },
     "execution_count": 26,
     "metadata": {},
     "output_type": "execute_result"
    }
   ],
   "source": [
    "features_final.columns[features_final.isnull().sum() > 1]"
   ]
  },
  {
   "cell_type": "code",
   "execution_count": 27,
   "metadata": {},
   "outputs": [
    {
     "data": {
      "text/plain": [
       "Index([], dtype='object')"
      ]
     },
     "execution_count": 27,
     "metadata": {},
     "output_type": "execute_result"
    }
   ],
   "source": [
    "features_final.reviews_per_month.fillna(features_final.reviews_per_month.mean(), inplace = True)\n",
    "\n",
    "features_final.columns[features_final.isnull().sum()> 1]"
   ]
  },
  {
   "cell_type": "markdown",
   "metadata": {},
   "source": [
    "#### Shuffle and Split Data"
   ]
  },
  {
   "cell_type": "code",
   "execution_count": 28,
   "metadata": {},
   "outputs": [
    {
     "name": "stdout",
     "output_type": "stream",
     "text": [
      "Training set has (6992, 117) samples.\n",
      "Testing set has (1748, 117) samples.\n"
     ]
    }
   ],
   "source": [
    "# Split the 'features' and 'income' data into training and testing sets\n",
    "X_train, X_test, y_train, y_test = train_test_split(features_final, \n",
    "                                                    list(price_raw.values), \n",
    "                                                    test_size = 0.2, \n",
    "                                                    random_state = 0)\n",
    "\n",
    "# Show the results of the split\n",
    "print(\"Training set has {} samples.\".format(X_train.shape))\n",
    "print(\"Testing set has {} samples.\".format(X_test.shape))"
   ]
  },
  {
   "cell_type": "markdown",
   "metadata": {},
   "source": [
    "##### Creating a Training and Predicting Pipeline"
   ]
  },
  {
   "cell_type": "code",
   "execution_count": 28,
   "metadata": {},
   "outputs": [],
   "source": [
    "import time\n",
    "def train_predict(learner, sample_size, X_train, y_train, X_test, y_test): \n",
    "    '''\n",
    "    inputs:\n",
    "       - learner: the learning algorithm to be trained and predicted on\n",
    "       - sample_size: the size of samples (number) to be drawn from training set\n",
    "       - X_train: features training set\n",
    "       - y_train: income training set\n",
    "       - X_test: features testing set\n",
    "       - y_test: income testing set\n",
    "    '''\n",
    "    \n",
    "    results = {}\n",
    "    \n",
    "    # Fit the learner to the training data using slicing with 'sample_size' using .fit(training_features[:], training_labels[:])\n",
    "    #start = time.time # Get start time\n",
    "    learner.fit(X_train[:sample_size],y_train[:sample_size])\n",
    "    #end = time.time # Get end time\n",
    "    \n",
    "    # Calculate the training time\n",
    "    #results['train_time'] = time.time - start\n",
    "        \n",
    "    # Get the predictions on the test set(X_test),\n",
    "    #       then get predictions on the first 300 training samples(X_train) using .predict()\n",
    "    #start = time.time # Get start time\n",
    "    predictions_test = learner.predict(X_test)\n",
    "    predictions_train = learner.predict(X_train[:300])\n",
    "    #end = time.time # Get end time\n",
    "    \n",
    "    # Calculate the total prediction time\n",
    "    #results['pred_time'] = time.time - start\n",
    "            \n",
    "    # Compute accuracy on the first 300 training samples which is y_train[:300]\n",
    "    results['acc_train'] = accuracy_score(y_train[:300],predictions_train)\n",
    "        \n",
    "    # Compute accuracy on test set using accuracy_score()\n",
    "    results['acc_test'] = accuracy_score(y_test,predictions_test)\n",
    "    \n",
    "    # Compute F-score on the the first 300 training samples using fbeta_score()\n",
    "    results['f_train'] = fbeta_score(y_train[:300],predictions_train, beta = 0.5, average ='micro')\n",
    "        \n",
    "    # Compute F-score on the test set which is y_test\n",
    "    results['f_test'] = fbeta_score(y_test, predictions_test, beta = 0.5, average ='micro')\n",
    "       \n",
    "    # Success\n",
    "    print(\"{} trained on {} samples.\".format(learner.__class__.__name__, sample_size))\n",
    "        \n",
    "    # Return the results\n",
    "    return results"
   ]
  },
  {
   "cell_type": "code",
   "execution_count": 29,
   "metadata": {},
   "outputs": [
    {
     "name": "stdout",
     "output_type": "stream",
     "text": [
      "GaussianNB trained on 69 samples.\n",
      "GaussianNB trained on 699 samples.\n",
      "GaussianNB trained on 6992 samples.\n",
      "RandomForestClassifier trained on 69 samples.\n",
      "RandomForestClassifier trained on 699 samples.\n",
      "RandomForestClassifier trained on 6992 samples.\n",
      "AdaBoostClassifier trained on 69 samples.\n",
      "AdaBoostClassifier trained on 699 samples.\n",
      "AdaBoostClassifier trained on 6992 samples.\n",
      "SVC trained on 69 samples.\n",
      "SVC trained on 699 samples.\n",
      "SVC trained on 6992 samples.\n",
      "KNeighborsClassifier trained on 69 samples.\n",
      "KNeighborsClassifier trained on 699 samples.\n",
      "KNeighborsClassifier trained on 6992 samples.\n"
     ]
    }
   ],
   "source": [
    "clf_A = GaussianNB()\n",
    "clf_B = RandomForestClassifier(random_state = 1)\n",
    "clf_C = AdaBoostClassifier(RandomForestClassifier(), random_state = 1)\n",
    "clf_D = svclassifier = SVC(kernel='rbf')\n",
    "clf_E = KNeighborsClassifier(n_neighbors = 15)\n",
    "#clf_F = AdaBoostClassifier(RandomForestClassifier(), random_state = 1, learning_rate = 1)\n",
    "\n",
    "samples_100 = int(len(y_train))\n",
    "samples_10 = int(len(y_train)/10)\n",
    "samples_1 = int(len(y_train)/100)\n",
    "\n",
    "# Collect results on the learners\n",
    "results = {}\n",
    "\n",
    "for clf in [clf_A, clf_B, clf_C, clf_D, clf_E]:\n",
    "    clf_name = clf.__class__.__name__\n",
    "    \n",
    "    results[clf_name] = {}\n",
    "    \n",
    "    for i, samples in enumerate([samples_1, samples_10, samples_100]):\n",
    "        results[clf_name][i] = train_predict(clf, samples, X_train, y_train, X_test, y_test)\n",
    "\n"
   ]
  },
  {
   "cell_type": "code",
   "execution_count": 30,
   "metadata": {},
   "outputs": [
    {
     "data": {
      "text/plain": [
       "{'GaussianNB': {0: {'acc_train': 0.19333333333333333,\n",
       "   'acc_test': 0.02345537757437071,\n",
       "   'f_train': 0.19333333333333333,\n",
       "   'f_test': 0.02345537757437071},\n",
       "  1: {'acc_train': 0.22,\n",
       "   'acc_test': 0.036613272311212815,\n",
       "   'f_train': 0.22,\n",
       "   'f_test': 0.036613272311212815},\n",
       "  2: {'acc_train': 0.07333333333333333,\n",
       "   'acc_test': 0.04748283752860412,\n",
       "   'f_train': 0.07333333333333333,\n",
       "   'f_test': 0.04748283752860412}},\n",
       " 'RandomForestClassifier': {0: {'acc_train': 0.25666666666666665,\n",
       "   'acc_test': 0.028604118993135013,\n",
       "   'f_train': 0.25666666666666665,\n",
       "   'f_test': 0.028604118993135013},\n",
       "  1: {'acc_train': 0.9933333333333333,\n",
       "   'acc_test': 0.07379862700228833,\n",
       "   'f_train': 0.9933333333333333,\n",
       "   'f_test': 0.07379862700228833},\n",
       "  2: {'acc_train': 0.99,\n",
       "   'acc_test': 0.14244851258581237,\n",
       "   'f_train': 0.99,\n",
       "   'f_test': 0.14244851258581237}},\n",
       " 'AdaBoostClassifier': {0: {'acc_train': 0.25,\n",
       "   'acc_test': 0.033752860411899316,\n",
       "   'f_train': 0.25,\n",
       "   'f_test': 0.033752860411899316},\n",
       "  1: {'acc_train': 1.0,\n",
       "   'acc_test': 0.08638443935926773,\n",
       "   'f_train': 1.0,\n",
       "   'f_test': 0.08638443935926773},\n",
       "  2: {'acc_train': 1.0,\n",
       "   'acc_test': 0.15732265446224256,\n",
       "   'f_train': 1.0,\n",
       "   'f_test': 0.15732265446224256}},\n",
       " 'SVC': {0: {'acc_train': 0.26,\n",
       "   'acc_test': 0.02745995423340961,\n",
       "   'f_train': 0.26,\n",
       "   'f_test': 0.02745995423340961},\n",
       "  1: {'acc_train': 1.0,\n",
       "   'acc_test': 0.04691075514874142,\n",
       "   'f_train': 1.0,\n",
       "   'f_test': 0.04691075514874142},\n",
       "  2: {'acc_train': 1.0,\n",
       "   'acc_test': 0.05663615560640732,\n",
       "   'f_train': 1.0,\n",
       "   'f_test': 0.05663615560640733}},\n",
       " 'KNeighborsClassifier': {0: {'acc_train': 0.043333333333333335,\n",
       "   'acc_test': 0.014302059496567507,\n",
       "   'f_train': 0.043333333333333335,\n",
       "   'f_test': 0.014302059496567507},\n",
       "  1: {'acc_train': 0.14333333333333334,\n",
       "   'acc_test': 0.041189931350114416,\n",
       "   'f_train': 0.14333333333333334,\n",
       "   'f_test': 0.041189931350114416},\n",
       "  2: {'acc_train': 0.23333333333333334,\n",
       "   'acc_test': 0.08695652173913043,\n",
       "   'f_train': 0.23333333333333334,\n",
       "   'f_test': 0.08695652173913043}}}"
      ]
     },
     "execution_count": 30,
     "metadata": {},
     "output_type": "execute_result"
    }
   ],
   "source": [
    "results\n"
   ]
  },
  {
   "cell_type": "markdown",
   "metadata": {},
   "source": [
    "##### Random Forest Prediction Ensemble is most effective"
   ]
  },
  {
   "cell_type": "markdown",
   "metadata": {},
   "source": [
    "#### Grid Search on Random Forest Classifier"
   ]
  },
  {
   "cell_type": "code",
   "execution_count": 36,
   "metadata": {},
   "outputs": [
    {
     "name": "stderr",
     "output_type": "stream",
     "text": [
      "C:\\Anaconda3\\lib\\site-packages\\sklearn\\model_selection\\_split.py:2053: FutureWarning: You should specify a value for 'cv' instead of relying on the default value. The default value will change from 3 to 5 in version 0.22.\n",
      "  warnings.warn(CV_WARNING, FutureWarning)\n",
      "C:\\Anaconda3\\lib\\site-packages\\sklearn\\model_selection\\_split.py:652: Warning: The least populated class in y has only 1 members, which is too few. The minimum number of members in any class cannot be less than n_splits=3.\n",
      "  % (min_groups, self.n_splits)), Warning)\n",
      "C:\\Anaconda3\\lib\\site-packages\\sklearn\\ensemble\\forest.py:458: UserWarning: Some inputs do not have OOB scores. This probably means too few trees were used to compute any reliable oob estimates.\n",
      "  warn(\"Some inputs do not have OOB scores. \"\n",
      "C:\\Anaconda3\\lib\\site-packages\\sklearn\\ensemble\\forest.py:463: RuntimeWarning: invalid value encountered in true_divide\n",
      "  predictions[k].sum(axis=1)[:, np.newaxis])\n",
      "C:\\Anaconda3\\lib\\site-packages\\sklearn\\ensemble\\forest.py:458: UserWarning: Some inputs do not have OOB scores. This probably means too few trees were used to compute any reliable oob estimates.\n",
      "  warn(\"Some inputs do not have OOB scores. \"\n",
      "C:\\Anaconda3\\lib\\site-packages\\sklearn\\ensemble\\forest.py:463: RuntimeWarning: invalid value encountered in true_divide\n",
      "  predictions[k].sum(axis=1)[:, np.newaxis])\n",
      "C:\\Anaconda3\\lib\\site-packages\\sklearn\\ensemble\\forest.py:458: UserWarning: Some inputs do not have OOB scores. This probably means too few trees were used to compute any reliable oob estimates.\n",
      "  warn(\"Some inputs do not have OOB scores. \"\n",
      "C:\\Anaconda3\\lib\\site-packages\\sklearn\\ensemble\\forest.py:463: RuntimeWarning: invalid value encountered in true_divide\n",
      "  predictions[k].sum(axis=1)[:, np.newaxis])\n",
      "C:\\Anaconda3\\lib\\site-packages\\sklearn\\ensemble\\forest.py:458: UserWarning: Some inputs do not have OOB scores. This probably means too few trees were used to compute any reliable oob estimates.\n",
      "  warn(\"Some inputs do not have OOB scores. \"\n",
      "C:\\Anaconda3\\lib\\site-packages\\sklearn\\ensemble\\forest.py:463: RuntimeWarning: invalid value encountered in true_divide\n",
      "  predictions[k].sum(axis=1)[:, np.newaxis])\n",
      "C:\\Anaconda3\\lib\\site-packages\\sklearn\\ensemble\\forest.py:458: UserWarning: Some inputs do not have OOB scores. This probably means too few trees were used to compute any reliable oob estimates.\n",
      "  warn(\"Some inputs do not have OOB scores. \"\n",
      "C:\\Anaconda3\\lib\\site-packages\\sklearn\\ensemble\\forest.py:463: RuntimeWarning: invalid value encountered in true_divide\n",
      "  predictions[k].sum(axis=1)[:, np.newaxis])\n",
      "C:\\Anaconda3\\lib\\site-packages\\sklearn\\ensemble\\forest.py:458: UserWarning: Some inputs do not have OOB scores. This probably means too few trees were used to compute any reliable oob estimates.\n",
      "  warn(\"Some inputs do not have OOB scores. \"\n",
      "C:\\Anaconda3\\lib\\site-packages\\sklearn\\ensemble\\forest.py:463: RuntimeWarning: invalid value encountered in true_divide\n",
      "  predictions[k].sum(axis=1)[:, np.newaxis])\n",
      "C:\\Anaconda3\\lib\\site-packages\\sklearn\\ensemble\\forest.py:458: UserWarning: Some inputs do not have OOB scores. This probably means too few trees were used to compute any reliable oob estimates.\n",
      "  warn(\"Some inputs do not have OOB scores. \"\n",
      "C:\\Anaconda3\\lib\\site-packages\\sklearn\\ensemble\\forest.py:463: RuntimeWarning: invalid value encountered in true_divide\n",
      "  predictions[k].sum(axis=1)[:, np.newaxis])\n",
      "C:\\Anaconda3\\lib\\site-packages\\sklearn\\ensemble\\forest.py:458: UserWarning: Some inputs do not have OOB scores. This probably means too few trees were used to compute any reliable oob estimates.\n",
      "  warn(\"Some inputs do not have OOB scores. \"\n",
      "C:\\Anaconda3\\lib\\site-packages\\sklearn\\ensemble\\forest.py:463: RuntimeWarning: invalid value encountered in true_divide\n",
      "  predictions[k].sum(axis=1)[:, np.newaxis])\n",
      "C:\\Anaconda3\\lib\\site-packages\\sklearn\\ensemble\\forest.py:458: UserWarning: Some inputs do not have OOB scores. This probably means too few trees were used to compute any reliable oob estimates.\n",
      "  warn(\"Some inputs do not have OOB scores. \"\n",
      "C:\\Anaconda3\\lib\\site-packages\\sklearn\\ensemble\\forest.py:463: RuntimeWarning: invalid value encountered in true_divide\n",
      "  predictions[k].sum(axis=1)[:, np.newaxis])\n",
      "C:\\Anaconda3\\lib\\site-packages\\sklearn\\ensemble\\forest.py:458: UserWarning: Some inputs do not have OOB scores. This probably means too few trees were used to compute any reliable oob estimates.\n",
      "  warn(\"Some inputs do not have OOB scores. \"\n",
      "C:\\Anaconda3\\lib\\site-packages\\sklearn\\ensemble\\forest.py:463: RuntimeWarning: invalid value encountered in true_divide\n",
      "  predictions[k].sum(axis=1)[:, np.newaxis])\n",
      "C:\\Anaconda3\\lib\\site-packages\\sklearn\\ensemble\\forest.py:458: UserWarning: Some inputs do not have OOB scores. This probably means too few trees were used to compute any reliable oob estimates.\n",
      "  warn(\"Some inputs do not have OOB scores. \"\n",
      "C:\\Anaconda3\\lib\\site-packages\\sklearn\\ensemble\\forest.py:463: RuntimeWarning: invalid value encountered in true_divide\n",
      "  predictions[k].sum(axis=1)[:, np.newaxis])\n",
      "C:\\Anaconda3\\lib\\site-packages\\sklearn\\ensemble\\forest.py:458: UserWarning: Some inputs do not have OOB scores. This probably means too few trees were used to compute any reliable oob estimates.\n",
      "  warn(\"Some inputs do not have OOB scores. \"\n",
      "C:\\Anaconda3\\lib\\site-packages\\sklearn\\ensemble\\forest.py:463: RuntimeWarning: invalid value encountered in true_divide\n",
      "  predictions[k].sum(axis=1)[:, np.newaxis])\n",
      "C:\\Anaconda3\\lib\\site-packages\\sklearn\\ensemble\\forest.py:458: UserWarning: Some inputs do not have OOB scores. This probably means too few trees were used to compute any reliable oob estimates.\n",
      "  warn(\"Some inputs do not have OOB scores. \"\n",
      "C:\\Anaconda3\\lib\\site-packages\\sklearn\\ensemble\\forest.py:463: RuntimeWarning: invalid value encountered in true_divide\n",
      "  predictions[k].sum(axis=1)[:, np.newaxis])\n",
      "C:\\Anaconda3\\lib\\site-packages\\sklearn\\ensemble\\forest.py:458: UserWarning: Some inputs do not have OOB scores. This probably means too few trees were used to compute any reliable oob estimates.\n",
      "  warn(\"Some inputs do not have OOB scores. \"\n",
      "C:\\Anaconda3\\lib\\site-packages\\sklearn\\ensemble\\forest.py:463: RuntimeWarning: invalid value encountered in true_divide\n",
      "  predictions[k].sum(axis=1)[:, np.newaxis])\n",
      "C:\\Anaconda3\\lib\\site-packages\\sklearn\\ensemble\\forest.py:458: UserWarning: Some inputs do not have OOB scores. This probably means too few trees were used to compute any reliable oob estimates.\n",
      "  warn(\"Some inputs do not have OOB scores. \"\n",
      "C:\\Anaconda3\\lib\\site-packages\\sklearn\\ensemble\\forest.py:463: RuntimeWarning: invalid value encountered in true_divide\n",
      "  predictions[k].sum(axis=1)[:, np.newaxis])\n",
      "C:\\Anaconda3\\lib\\site-packages\\sklearn\\ensemble\\forest.py:458: UserWarning: Some inputs do not have OOB scores. This probably means too few trees were used to compute any reliable oob estimates.\n",
      "  warn(\"Some inputs do not have OOB scores. \"\n",
      "C:\\Anaconda3\\lib\\site-packages\\sklearn\\ensemble\\forest.py:463: RuntimeWarning: invalid value encountered in true_divide\n",
      "  predictions[k].sum(axis=1)[:, np.newaxis])\n",
      "C:\\Anaconda3\\lib\\site-packages\\sklearn\\ensemble\\forest.py:458: UserWarning: Some inputs do not have OOB scores. This probably means too few trees were used to compute any reliable oob estimates.\n",
      "  warn(\"Some inputs do not have OOB scores. \"\n",
      "C:\\Anaconda3\\lib\\site-packages\\sklearn\\ensemble\\forest.py:463: RuntimeWarning: invalid value encountered in true_divide\n",
      "  predictions[k].sum(axis=1)[:, np.newaxis])\n",
      "C:\\Anaconda3\\lib\\site-packages\\sklearn\\ensemble\\forest.py:458: UserWarning: Some inputs do not have OOB scores. This probably means too few trees were used to compute any reliable oob estimates.\n",
      "  warn(\"Some inputs do not have OOB scores. \"\n",
      "C:\\Anaconda3\\lib\\site-packages\\sklearn\\ensemble\\forest.py:463: RuntimeWarning: invalid value encountered in true_divide\n",
      "  predictions[k].sum(axis=1)[:, np.newaxis])\n",
      "C:\\Anaconda3\\lib\\site-packages\\sklearn\\ensemble\\forest.py:458: UserWarning: Some inputs do not have OOB scores. This probably means too few trees were used to compute any reliable oob estimates.\n",
      "  warn(\"Some inputs do not have OOB scores. \"\n",
      "C:\\Anaconda3\\lib\\site-packages\\sklearn\\ensemble\\forest.py:463: RuntimeWarning: invalid value encountered in true_divide\n",
      "  predictions[k].sum(axis=1)[:, np.newaxis])\n"
     ]
    },
    {
     "name": "stderr",
     "output_type": "stream",
     "text": [
      "C:\\Anaconda3\\lib\\site-packages\\sklearn\\ensemble\\forest.py:458: UserWarning: Some inputs do not have OOB scores. This probably means too few trees were used to compute any reliable oob estimates.\n",
      "  warn(\"Some inputs do not have OOB scores. \"\n",
      "C:\\Anaconda3\\lib\\site-packages\\sklearn\\ensemble\\forest.py:463: RuntimeWarning: invalid value encountered in true_divide\n",
      "  predictions[k].sum(axis=1)[:, np.newaxis])\n",
      "C:\\Anaconda3\\lib\\site-packages\\sklearn\\ensemble\\forest.py:458: UserWarning: Some inputs do not have OOB scores. This probably means too few trees were used to compute any reliable oob estimates.\n",
      "  warn(\"Some inputs do not have OOB scores. \"\n",
      "C:\\Anaconda3\\lib\\site-packages\\sklearn\\ensemble\\forest.py:463: RuntimeWarning: invalid value encountered in true_divide\n",
      "  predictions[k].sum(axis=1)[:, np.newaxis])\n",
      "C:\\Anaconda3\\lib\\site-packages\\sklearn\\ensemble\\forest.py:458: UserWarning: Some inputs do not have OOB scores. This probably means too few trees were used to compute any reliable oob estimates.\n",
      "  warn(\"Some inputs do not have OOB scores. \"\n",
      "C:\\Anaconda3\\lib\\site-packages\\sklearn\\ensemble\\forest.py:463: RuntimeWarning: invalid value encountered in true_divide\n",
      "  predictions[k].sum(axis=1)[:, np.newaxis])\n",
      "C:\\Anaconda3\\lib\\site-packages\\sklearn\\ensemble\\forest.py:458: UserWarning: Some inputs do not have OOB scores. This probably means too few trees were used to compute any reliable oob estimates.\n",
      "  warn(\"Some inputs do not have OOB scores. \"\n",
      "C:\\Anaconda3\\lib\\site-packages\\sklearn\\ensemble\\forest.py:463: RuntimeWarning: invalid value encountered in true_divide\n",
      "  predictions[k].sum(axis=1)[:, np.newaxis])\n",
      "C:\\Anaconda3\\lib\\site-packages\\sklearn\\ensemble\\forest.py:458: UserWarning: Some inputs do not have OOB scores. This probably means too few trees were used to compute any reliable oob estimates.\n",
      "  warn(\"Some inputs do not have OOB scores. \"\n",
      "C:\\Anaconda3\\lib\\site-packages\\sklearn\\ensemble\\forest.py:463: RuntimeWarning: invalid value encountered in true_divide\n",
      "  predictions[k].sum(axis=1)[:, np.newaxis])\n",
      "C:\\Anaconda3\\lib\\site-packages\\sklearn\\ensemble\\forest.py:458: UserWarning: Some inputs do not have OOB scores. This probably means too few trees were used to compute any reliable oob estimates.\n",
      "  warn(\"Some inputs do not have OOB scores. \"\n",
      "C:\\Anaconda3\\lib\\site-packages\\sklearn\\ensemble\\forest.py:463: RuntimeWarning: invalid value encountered in true_divide\n",
      "  predictions[k].sum(axis=1)[:, np.newaxis])\n",
      "C:\\Anaconda3\\lib\\site-packages\\sklearn\\ensemble\\forest.py:458: UserWarning: Some inputs do not have OOB scores. This probably means too few trees were used to compute any reliable oob estimates.\n",
      "  warn(\"Some inputs do not have OOB scores. \"\n",
      "C:\\Anaconda3\\lib\\site-packages\\sklearn\\ensemble\\forest.py:463: RuntimeWarning: invalid value encountered in true_divide\n",
      "  predictions[k].sum(axis=1)[:, np.newaxis])\n",
      "C:\\Anaconda3\\lib\\site-packages\\sklearn\\ensemble\\forest.py:458: UserWarning: Some inputs do not have OOB scores. This probably means too few trees were used to compute any reliable oob estimates.\n",
      "  warn(\"Some inputs do not have OOB scores. \"\n",
      "C:\\Anaconda3\\lib\\site-packages\\sklearn\\ensemble\\forest.py:463: RuntimeWarning: invalid value encountered in true_divide\n",
      "  predictions[k].sum(axis=1)[:, np.newaxis])\n",
      "C:\\Anaconda3\\lib\\site-packages\\sklearn\\ensemble\\forest.py:458: UserWarning: Some inputs do not have OOB scores. This probably means too few trees were used to compute any reliable oob estimates.\n",
      "  warn(\"Some inputs do not have OOB scores. \"\n",
      "C:\\Anaconda3\\lib\\site-packages\\sklearn\\ensemble\\forest.py:463: RuntimeWarning: invalid value encountered in true_divide\n",
      "  predictions[k].sum(axis=1)[:, np.newaxis])\n",
      "C:\\Anaconda3\\lib\\site-packages\\sklearn\\ensemble\\forest.py:458: UserWarning: Some inputs do not have OOB scores. This probably means too few trees were used to compute any reliable oob estimates.\n",
      "  warn(\"Some inputs do not have OOB scores. \"\n",
      "C:\\Anaconda3\\lib\\site-packages\\sklearn\\ensemble\\forest.py:463: RuntimeWarning: invalid value encountered in true_divide\n",
      "  predictions[k].sum(axis=1)[:, np.newaxis])\n",
      "C:\\Anaconda3\\lib\\site-packages\\sklearn\\ensemble\\forest.py:458: UserWarning: Some inputs do not have OOB scores. This probably means too few trees were used to compute any reliable oob estimates.\n",
      "  warn(\"Some inputs do not have OOB scores. \"\n",
      "C:\\Anaconda3\\lib\\site-packages\\sklearn\\ensemble\\forest.py:463: RuntimeWarning: invalid value encountered in true_divide\n",
      "  predictions[k].sum(axis=1)[:, np.newaxis])\n",
      "C:\\Anaconda3\\lib\\site-packages\\sklearn\\ensemble\\forest.py:458: UserWarning: Some inputs do not have OOB scores. This probably means too few trees were used to compute any reliable oob estimates.\n",
      "  warn(\"Some inputs do not have OOB scores. \"\n",
      "C:\\Anaconda3\\lib\\site-packages\\sklearn\\ensemble\\forest.py:463: RuntimeWarning: invalid value encountered in true_divide\n",
      "  predictions[k].sum(axis=1)[:, np.newaxis])\n",
      "C:\\Anaconda3\\lib\\site-packages\\sklearn\\ensemble\\forest.py:458: UserWarning: Some inputs do not have OOB scores. This probably means too few trees were used to compute any reliable oob estimates.\n",
      "  warn(\"Some inputs do not have OOB scores. \"\n",
      "C:\\Anaconda3\\lib\\site-packages\\sklearn\\ensemble\\forest.py:463: RuntimeWarning: invalid value encountered in true_divide\n",
      "  predictions[k].sum(axis=1)[:, np.newaxis])\n",
      "C:\\Anaconda3\\lib\\site-packages\\sklearn\\ensemble\\forest.py:458: UserWarning: Some inputs do not have OOB scores. This probably means too few trees were used to compute any reliable oob estimates.\n",
      "  warn(\"Some inputs do not have OOB scores. \"\n",
      "C:\\Anaconda3\\lib\\site-packages\\sklearn\\ensemble\\forest.py:463: RuntimeWarning: invalid value encountered in true_divide\n",
      "  predictions[k].sum(axis=1)[:, np.newaxis])\n",
      "C:\\Anaconda3\\lib\\site-packages\\sklearn\\ensemble\\forest.py:458: UserWarning: Some inputs do not have OOB scores. This probably means too few trees were used to compute any reliable oob estimates.\n",
      "  warn(\"Some inputs do not have OOB scores. \"\n",
      "C:\\Anaconda3\\lib\\site-packages\\sklearn\\ensemble\\forest.py:463: RuntimeWarning: invalid value encountered in true_divide\n",
      "  predictions[k].sum(axis=1)[:, np.newaxis])\n",
      "C:\\Anaconda3\\lib\\site-packages\\sklearn\\ensemble\\forest.py:458: UserWarning: Some inputs do not have OOB scores. This probably means too few trees were used to compute any reliable oob estimates.\n",
      "  warn(\"Some inputs do not have OOB scores. \"\n",
      "C:\\Anaconda3\\lib\\site-packages\\sklearn\\ensemble\\forest.py:463: RuntimeWarning: invalid value encountered in true_divide\n",
      "  predictions[k].sum(axis=1)[:, np.newaxis])\n",
      "C:\\Anaconda3\\lib\\site-packages\\sklearn\\ensemble\\forest.py:458: UserWarning: Some inputs do not have OOB scores. This probably means too few trees were used to compute any reliable oob estimates.\n",
      "  warn(\"Some inputs do not have OOB scores. \"\n",
      "C:\\Anaconda3\\lib\\site-packages\\sklearn\\ensemble\\forest.py:463: RuntimeWarning: invalid value encountered in true_divide\n",
      "  predictions[k].sum(axis=1)[:, np.newaxis])\n",
      "C:\\Anaconda3\\lib\\site-packages\\sklearn\\ensemble\\forest.py:458: UserWarning: Some inputs do not have OOB scores. This probably means too few trees were used to compute any reliable oob estimates.\n",
      "  warn(\"Some inputs do not have OOB scores. \"\n",
      "C:\\Anaconda3\\lib\\site-packages\\sklearn\\ensemble\\forest.py:463: RuntimeWarning: invalid value encountered in true_divide\n",
      "  predictions[k].sum(axis=1)[:, np.newaxis])\n",
      "C:\\Anaconda3\\lib\\site-packages\\sklearn\\ensemble\\forest.py:458: UserWarning: Some inputs do not have OOB scores. This probably means too few trees were used to compute any reliable oob estimates.\n",
      "  warn(\"Some inputs do not have OOB scores. \"\n",
      "C:\\Anaconda3\\lib\\site-packages\\sklearn\\ensemble\\forest.py:463: RuntimeWarning: invalid value encountered in true_divide\n",
      "  predictions[k].sum(axis=1)[:, np.newaxis])\n",
      "C:\\Anaconda3\\lib\\site-packages\\sklearn\\ensemble\\forest.py:458: UserWarning: Some inputs do not have OOB scores. This probably means too few trees were used to compute any reliable oob estimates.\n",
      "  warn(\"Some inputs do not have OOB scores. \"\n",
      "C:\\Anaconda3\\lib\\site-packages\\sklearn\\ensemble\\forest.py:463: RuntimeWarning: invalid value encountered in true_divide\n",
      "  predictions[k].sum(axis=1)[:, np.newaxis])\n",
      "C:\\Anaconda3\\lib\\site-packages\\sklearn\\ensemble\\forest.py:458: UserWarning: Some inputs do not have OOB scores. This probably means too few trees were used to compute any reliable oob estimates.\n",
      "  warn(\"Some inputs do not have OOB scores. \"\n",
      "C:\\Anaconda3\\lib\\site-packages\\sklearn\\ensemble\\forest.py:463: RuntimeWarning: invalid value encountered in true_divide\n",
      "  predictions[k].sum(axis=1)[:, np.newaxis])\n"
     ]
    },
    {
     "name": "stderr",
     "output_type": "stream",
     "text": [
      "C:\\Anaconda3\\lib\\site-packages\\sklearn\\ensemble\\forest.py:458: UserWarning: Some inputs do not have OOB scores. This probably means too few trees were used to compute any reliable oob estimates.\n",
      "  warn(\"Some inputs do not have OOB scores. \"\n",
      "C:\\Anaconda3\\lib\\site-packages\\sklearn\\ensemble\\forest.py:463: RuntimeWarning: invalid value encountered in true_divide\n",
      "  predictions[k].sum(axis=1)[:, np.newaxis])\n",
      "C:\\Anaconda3\\lib\\site-packages\\sklearn\\ensemble\\forest.py:458: UserWarning: Some inputs do not have OOB scores. This probably means too few trees were used to compute any reliable oob estimates.\n",
      "  warn(\"Some inputs do not have OOB scores. \"\n",
      "C:\\Anaconda3\\lib\\site-packages\\sklearn\\ensemble\\forest.py:463: RuntimeWarning: invalid value encountered in true_divide\n",
      "  predictions[k].sum(axis=1)[:, np.newaxis])\n",
      "C:\\Anaconda3\\lib\\site-packages\\sklearn\\ensemble\\forest.py:458: UserWarning: Some inputs do not have OOB scores. This probably means too few trees were used to compute any reliable oob estimates.\n",
      "  warn(\"Some inputs do not have OOB scores. \"\n",
      "C:\\Anaconda3\\lib\\site-packages\\sklearn\\ensemble\\forest.py:463: RuntimeWarning: invalid value encountered in true_divide\n",
      "  predictions[k].sum(axis=1)[:, np.newaxis])\n",
      "C:\\Anaconda3\\lib\\site-packages\\sklearn\\ensemble\\forest.py:458: UserWarning: Some inputs do not have OOB scores. This probably means too few trees were used to compute any reliable oob estimates.\n",
      "  warn(\"Some inputs do not have OOB scores. \"\n",
      "C:\\Anaconda3\\lib\\site-packages\\sklearn\\ensemble\\forest.py:463: RuntimeWarning: invalid value encountered in true_divide\n",
      "  predictions[k].sum(axis=1)[:, np.newaxis])\n",
      "C:\\Anaconda3\\lib\\site-packages\\sklearn\\ensemble\\forest.py:458: UserWarning: Some inputs do not have OOB scores. This probably means too few trees were used to compute any reliable oob estimates.\n",
      "  warn(\"Some inputs do not have OOB scores. \"\n",
      "C:\\Anaconda3\\lib\\site-packages\\sklearn\\ensemble\\forest.py:463: RuntimeWarning: invalid value encountered in true_divide\n",
      "  predictions[k].sum(axis=1)[:, np.newaxis])\n",
      "C:\\Anaconda3\\lib\\site-packages\\sklearn\\ensemble\\forest.py:458: UserWarning: Some inputs do not have OOB scores. This probably means too few trees were used to compute any reliable oob estimates.\n",
      "  warn(\"Some inputs do not have OOB scores. \"\n",
      "C:\\Anaconda3\\lib\\site-packages\\sklearn\\ensemble\\forest.py:463: RuntimeWarning: invalid value encountered in true_divide\n",
      "  predictions[k].sum(axis=1)[:, np.newaxis])\n",
      "C:\\Anaconda3\\lib\\site-packages\\sklearn\\ensemble\\forest.py:458: UserWarning: Some inputs do not have OOB scores. This probably means too few trees were used to compute any reliable oob estimates.\n",
      "  warn(\"Some inputs do not have OOB scores. \"\n",
      "C:\\Anaconda3\\lib\\site-packages\\sklearn\\ensemble\\forest.py:463: RuntimeWarning: invalid value encountered in true_divide\n",
      "  predictions[k].sum(axis=1)[:, np.newaxis])\n",
      "C:\\Anaconda3\\lib\\site-packages\\sklearn\\ensemble\\forest.py:458: UserWarning: Some inputs do not have OOB scores. This probably means too few trees were used to compute any reliable oob estimates.\n",
      "  warn(\"Some inputs do not have OOB scores. \"\n",
      "C:\\Anaconda3\\lib\\site-packages\\sklearn\\ensemble\\forest.py:463: RuntimeWarning: invalid value encountered in true_divide\n",
      "  predictions[k].sum(axis=1)[:, np.newaxis])\n",
      "C:\\Anaconda3\\lib\\site-packages\\sklearn\\model_selection\\_search.py:841: DeprecationWarning: The default of the `iid` parameter will change from True to False in version 0.22 and will be removed in 0.24. This will change numeric results when test-set sizes are unequal.\n",
      "  DeprecationWarning)\n",
      "C:\\Anaconda3\\lib\\site-packages\\sklearn\\ensemble\\forest.py:246: FutureWarning: The default value of n_estimators will change from 10 in version 0.20 to 100 in 0.22.\n",
      "  \"10 in version 0.20 to 100 in 0.22.\", FutureWarning)\n",
      "C:\\Anaconda3\\lib\\site-packages\\sklearn\\ensemble\\forest.py:458: UserWarning: Some inputs do not have OOB scores. This probably means too few trees were used to compute any reliable oob estimates.\n",
      "  warn(\"Some inputs do not have OOB scores. \"\n",
      "C:\\Anaconda3\\lib\\site-packages\\sklearn\\ensemble\\forest.py:463: RuntimeWarning: invalid value encountered in true_divide\n",
      "  predictions[k].sum(axis=1)[:, np.newaxis])\n"
     ]
    },
    {
     "name": "stdout",
     "output_type": "stream",
     "text": [
      "Unoptimized model\n",
      "------\n",
      "Accuracy score on testing data: 0.1424\n",
      "F-score on testing data: 0.1424\n",
      "\n",
      "Optimized Model\n",
      "------\n",
      "Final accuracy score on the testing data: 0.1510\n",
      "Final F-score on the testing data: 0.1510\n"
     ]
    }
   ],
   "source": [
    "\n",
    "# Initialize the classifier\n",
    "clf = RandomForestClassifier( random_state = 1, n_jobs = -1, oob_score =  True)\n",
    "\n",
    "# Create the parameters list you wish to tune, using a dictionary if needed.\n",
    "\n",
    "parameters = {\"n_estimators\": [10,20,50,100,200,400,500,600,800,1000], \n",
    "              \"max_features\": [\"auto\"],\n",
    "              \"min_samples_leaf\" :[5,10,20,30,50,100,150,200]\n",
    "             }\n",
    "\n",
    "# Make an fbeta_score scoring object using make_scorer()\n",
    "scorer = make_scorer(fbeta_score, beta=.5, average = \"micro\")\n",
    "\n",
    "# Perform grid search on the classifier using 'scorer' as the scoring method using GridSearchCV()\n",
    "grid_obj = GridSearchCV(clf, parameters, scoring = scorer)\n",
    "\n",
    "# Fit the grid search object to the training data and find the optimal parameters using fit()\n",
    "grid_fit = grid_obj.fit(X_train,y_train)\n",
    "\n",
    "# Get the estimator\n",
    "best_clf = grid_fit.best_estimator_\n",
    "\n",
    "# Make predictions using the unoptimized and model\n",
    "predictions = (clf.fit(X_train, y_train)).predict(X_test)\n",
    "best_predictions = best_clf.predict(X_test)\n",
    "\n",
    "# Report the before-and-afterscores\n",
    "print(\"Unoptimized model\\n------\")\n",
    "print(\"Accuracy score on testing data: {:.4f}\".format(accuracy_score(y_test, predictions)))\n",
    "print(\"F-score on testing data: {:.4f}\".format(fbeta_score(y_test, predictions, beta = 0.5, average = \"micro\")))\n",
    "print(\"\\nOptimized Model\\n------\")\n",
    "print(\"Final accuracy score on the testing data: {:.4f}\".format(accuracy_score(y_test, best_predictions)))\n",
    "print(\"Final F-score on the testing data: {:.4f}\".format(fbeta_score(y_test, best_predictions, beta = 0.5, average = \"micro\")))"
   ]
  },
  {
   "cell_type": "code",
   "execution_count": 73,
   "metadata": {},
   "outputs": [
    {
     "data": {
      "text/plain": [
       "12204.714721586575"
      ]
     },
     "execution_count": 73,
     "metadata": {},
     "output_type": "execute_result"
    }
   ],
   "source": [
    "linear_mean_sq_err = mean_squared_error(y_test, predictions)\n",
    "linear_mean_sq_err ** 1/2"
   ]
  },
  {
   "cell_type": "markdown",
   "metadata": {},
   "source": [
    "Linear Regression Model"
   ]
  },
  {
   "cell_type": "code",
   "execution_count": 41,
   "metadata": {},
   "outputs": [
    {
     "data": {
      "text/plain": [
       "0.19678500962701528"
      ]
     },
     "execution_count": 41,
     "metadata": {},
     "output_type": "execute_result"
    }
   ],
   "source": [
    "lm_model = LinearRegression(normalize=True)\n",
    "lm_model.fit(X_train, y_train)\n",
    "y_test_preds = lm_model.predict(X_test)# Predictions here\n",
    "r2_test = r2_score(y_test, y_test_preds)\n",
    "\n",
    "r2_test"
   ]
  },
  {
   "cell_type": "code",
   "execution_count": 72,
   "metadata": {},
   "outputs": [
    {
     "data": {
      "text/plain": [
       "5418.868808400076"
      ]
     },
     "execution_count": 72,
     "metadata": {},
     "output_type": "execute_result"
    }
   ],
   "source": [
    "linear_mean_sq_err = mean_squared_error(y_test, y_test_preds)\n",
    "linear_mean_sq_err ** 1/2"
   ]
  },
  {
   "cell_type": "markdown",
   "metadata": {},
   "source": [
    "R^2 (coefficient of determination) regression score function.\n",
    "\n",
    "Best possible score is 1.0 and it can be negative (because the model can be arbitrarily worse). A constant model that always predicts the expected value of y, disregarding the input features, would get a R^2 score of 0.0."
   ]
  },
  {
   "cell_type": "markdown",
   "metadata": {},
   "source": [
    "#### Applying K-nearest Neighbours to Predict Airbnb prices in Seattle"
   ]
  },
  {
   "cell_type": "code",
   "execution_count": 56,
   "metadata": {},
   "outputs": [
    {
     "data": {
      "text/html": [
       "<div>\n",
       "<style scoped>\n",
       "    .dataframe tbody tr th:only-of-type {\n",
       "        vertical-align: middle;\n",
       "    }\n",
       "\n",
       "    .dataframe tbody tr th {\n",
       "        vertical-align: top;\n",
       "    }\n",
       "\n",
       "    .dataframe thead th {\n",
       "        text-align: right;\n",
       "    }\n",
       "</style>\n",
       "<table border=\"1\" class=\"dataframe\">\n",
       "  <thead>\n",
       "    <tr style=\"text-align: right;\">\n",
       "      <th></th>\n",
       "      <th>id</th>\n",
       "      <th>host_id</th>\n",
       "      <th>neighbourhood_group</th>\n",
       "      <th>neighbourhood</th>\n",
       "      <th>latitude</th>\n",
       "      <th>longitude</th>\n",
       "      <th>room_type</th>\n",
       "      <th>minimum_nights</th>\n",
       "      <th>number_of_reviews</th>\n",
       "      <th>reviews_per_month</th>\n",
       "      <th>calculated_host_listings_count</th>\n",
       "      <th>availability_365</th>\n",
       "    </tr>\n",
       "  </thead>\n",
       "  <tbody>\n",
       "    <tr>\n",
       "      <th>0</th>\n",
       "      <td>2318</td>\n",
       "      <td>2536</td>\n",
       "      <td>Central Area</td>\n",
       "      <td>Madrona</td>\n",
       "      <td>0.478077</td>\n",
       "      <td>0.694037</td>\n",
       "      <td>Entire home/apt</td>\n",
       "      <td>0.007519</td>\n",
       "      <td>0.027894</td>\n",
       "      <td>0.003233</td>\n",
       "      <td>0.006452</td>\n",
       "      <td>0.945205</td>\n",
       "    </tr>\n",
       "    <tr>\n",
       "      <th>1</th>\n",
       "      <td>4291</td>\n",
       "      <td>35749</td>\n",
       "      <td>Other neighborhoods</td>\n",
       "      <td>Roosevelt</td>\n",
       "      <td>0.798712</td>\n",
       "      <td>0.572216</td>\n",
       "      <td>Private room</td>\n",
       "      <td>0.002506</td>\n",
       "      <td>0.087866</td>\n",
       "      <td>0.020474</td>\n",
       "      <td>0.012903</td>\n",
       "      <td>1.000000</td>\n",
       "    </tr>\n",
       "    <tr>\n",
       "      <th>2</th>\n",
       "      <td>5682</td>\n",
       "      <td>8993</td>\n",
       "      <td>Delridge</td>\n",
       "      <td>South Delridge</td>\n",
       "      <td>0.116382</td>\n",
       "      <td>0.321891</td>\n",
       "      <td>Entire home/apt</td>\n",
       "      <td>0.005013</td>\n",
       "      <td>0.642957</td>\n",
       "      <td>0.093966</td>\n",
       "      <td>0.000000</td>\n",
       "      <td>0.065753</td>\n",
       "    </tr>\n",
       "    <tr>\n",
       "      <th>3</th>\n",
       "      <td>6606</td>\n",
       "      <td>14942</td>\n",
       "      <td>Other neighborhoods</td>\n",
       "      <td>Wallingford</td>\n",
       "      <td>0.658381</td>\n",
       "      <td>0.441955</td>\n",
       "      <td>Entire home/apt</td>\n",
       "      <td>0.002506</td>\n",
       "      <td>0.186890</td>\n",
       "      <td>0.025216</td>\n",
       "      <td>0.006452</td>\n",
       "      <td>0.786301</td>\n",
       "    </tr>\n",
       "    <tr>\n",
       "      <th>4</th>\n",
       "      <td>9419</td>\n",
       "      <td>30559</td>\n",
       "      <td>Other neighborhoods</td>\n",
       "      <td>Georgetown</td>\n",
       "      <td>0.227341</td>\n",
       "      <td>0.536076</td>\n",
       "      <td>Private room</td>\n",
       "      <td>0.002506</td>\n",
       "      <td>0.181311</td>\n",
       "      <td>0.027586</td>\n",
       "      <td>0.012903</td>\n",
       "      <td>0.920548</td>\n",
       "    </tr>\n",
       "  </tbody>\n",
       "</table>\n",
       "</div>"
      ],
      "text/plain": [
       "     id  host_id  neighbourhood_group   neighbourhood  latitude  longitude  \\\n",
       "0  2318     2536         Central Area         Madrona  0.478077   0.694037   \n",
       "1  4291    35749  Other neighborhoods       Roosevelt  0.798712   0.572216   \n",
       "2  5682     8993             Delridge  South Delridge  0.116382   0.321891   \n",
       "3  6606    14942  Other neighborhoods     Wallingford  0.658381   0.441955   \n",
       "4  9419    30559  Other neighborhoods      Georgetown  0.227341   0.536076   \n",
       "\n",
       "         room_type  minimum_nights  number_of_reviews  reviews_per_month  \\\n",
       "0  Entire home/apt        0.007519           0.027894           0.003233   \n",
       "1     Private room        0.002506           0.087866           0.020474   \n",
       "2  Entire home/apt        0.005013           0.642957           0.093966   \n",
       "3  Entire home/apt        0.002506           0.186890           0.025216   \n",
       "4     Private room        0.002506           0.181311           0.027586   \n",
       "\n",
       "   calculated_host_listings_count  availability_365  \n",
       "0                        0.006452          0.945205  \n",
       "1                        0.012903          1.000000  \n",
       "2                        0.000000          0.065753  \n",
       "3                        0.006452          0.786301  \n",
       "4                        0.012903          0.920548  "
      ]
     },
     "execution_count": 56,
     "metadata": {},
     "output_type": "execute_result"
    }
   ],
   "source": [
    "features_normalized.head()"
   ]
  },
  {
   "cell_type": "code",
   "execution_count": 59,
   "metadata": {},
   "outputs": [],
   "source": [
    "features_knn = features_normalized.drop([\"neighbourhood\",\"id\", \"host_id\"], axis = 1)"
   ]
  },
  {
   "cell_type": "code",
   "execution_count": 61,
   "metadata": {},
   "outputs": [
    {
     "data": {
      "text/plain": [
       "(17,)"
      ]
     },
     "execution_count": 61,
     "metadata": {},
     "output_type": "execute_result"
    }
   ],
   "source": [
    "features_knn.neighbourhood_group.unique().shape"
   ]
  },
  {
   "cell_type": "code",
   "execution_count": 62,
   "metadata": {},
   "outputs": [
    {
     "data": {
      "text/html": [
       "<div>\n",
       "<style scoped>\n",
       "    .dataframe tbody tr th:only-of-type {\n",
       "        vertical-align: middle;\n",
       "    }\n",
       "\n",
       "    .dataframe tbody tr th {\n",
       "        vertical-align: top;\n",
       "    }\n",
       "\n",
       "    .dataframe thead th {\n",
       "        text-align: right;\n",
       "    }\n",
       "</style>\n",
       "<table border=\"1\" class=\"dataframe\">\n",
       "  <thead>\n",
       "    <tr style=\"text-align: right;\">\n",
       "      <th></th>\n",
       "      <th>neighbourhood_group</th>\n",
       "      <th>latitude</th>\n",
       "      <th>longitude</th>\n",
       "      <th>room_type</th>\n",
       "      <th>minimum_nights</th>\n",
       "      <th>number_of_reviews</th>\n",
       "      <th>reviews_per_month</th>\n",
       "      <th>calculated_host_listings_count</th>\n",
       "      <th>availability_365</th>\n",
       "    </tr>\n",
       "  </thead>\n",
       "  <tbody>\n",
       "    <tr>\n",
       "      <th>0</th>\n",
       "      <td>Central Area</td>\n",
       "      <td>0.478077</td>\n",
       "      <td>0.694037</td>\n",
       "      <td>Entire home/apt</td>\n",
       "      <td>0.007519</td>\n",
       "      <td>0.027894</td>\n",
       "      <td>0.003233</td>\n",
       "      <td>0.006452</td>\n",
       "      <td>0.945205</td>\n",
       "    </tr>\n",
       "    <tr>\n",
       "      <th>1</th>\n",
       "      <td>Other neighborhoods</td>\n",
       "      <td>0.798712</td>\n",
       "      <td>0.572216</td>\n",
       "      <td>Private room</td>\n",
       "      <td>0.002506</td>\n",
       "      <td>0.087866</td>\n",
       "      <td>0.020474</td>\n",
       "      <td>0.012903</td>\n",
       "      <td>1.000000</td>\n",
       "    </tr>\n",
       "    <tr>\n",
       "      <th>2</th>\n",
       "      <td>Delridge</td>\n",
       "      <td>0.116382</td>\n",
       "      <td>0.321891</td>\n",
       "      <td>Entire home/apt</td>\n",
       "      <td>0.005013</td>\n",
       "      <td>0.642957</td>\n",
       "      <td>0.093966</td>\n",
       "      <td>0.000000</td>\n",
       "      <td>0.065753</td>\n",
       "    </tr>\n",
       "    <tr>\n",
       "      <th>3</th>\n",
       "      <td>Other neighborhoods</td>\n",
       "      <td>0.658381</td>\n",
       "      <td>0.441955</td>\n",
       "      <td>Entire home/apt</td>\n",
       "      <td>0.002506</td>\n",
       "      <td>0.186890</td>\n",
       "      <td>0.025216</td>\n",
       "      <td>0.006452</td>\n",
       "      <td>0.786301</td>\n",
       "    </tr>\n",
       "    <tr>\n",
       "      <th>4</th>\n",
       "      <td>Other neighborhoods</td>\n",
       "      <td>0.227341</td>\n",
       "      <td>0.536076</td>\n",
       "      <td>Private room</td>\n",
       "      <td>0.002506</td>\n",
       "      <td>0.181311</td>\n",
       "      <td>0.027586</td>\n",
       "      <td>0.012903</td>\n",
       "      <td>0.920548</td>\n",
       "    </tr>\n",
       "  </tbody>\n",
       "</table>\n",
       "</div>"
      ],
      "text/plain": [
       "   neighbourhood_group  latitude  longitude        room_type  minimum_nights  \\\n",
       "0         Central Area  0.478077   0.694037  Entire home/apt        0.007519   \n",
       "1  Other neighborhoods  0.798712   0.572216     Private room        0.002506   \n",
       "2             Delridge  0.116382   0.321891  Entire home/apt        0.005013   \n",
       "3  Other neighborhoods  0.658381   0.441955  Entire home/apt        0.002506   \n",
       "4  Other neighborhoods  0.227341   0.536076     Private room        0.002506   \n",
       "\n",
       "   number_of_reviews  reviews_per_month  calculated_host_listings_count  \\\n",
       "0           0.027894           0.003233                        0.006452   \n",
       "1           0.087866           0.020474                        0.012903   \n",
       "2           0.642957           0.093966                        0.000000   \n",
       "3           0.186890           0.025216                        0.006452   \n",
       "4           0.181311           0.027586                        0.012903   \n",
       "\n",
       "   availability_365  \n",
       "0          0.945205  \n",
       "1          1.000000  \n",
       "2          0.065753  \n",
       "3          0.786301  \n",
       "4          0.920548  "
      ]
     },
     "execution_count": 62,
     "metadata": {},
     "output_type": "execute_result"
    }
   ],
   "source": [
    "features_knn.head()"
   ]
  },
  {
   "cell_type": "code",
   "execution_count": 63,
   "metadata": {},
   "outputs": [],
   "source": [
    "features_knn = pd.get_dummies(features_knn)"
   ]
  },
  {
   "cell_type": "code",
   "execution_count": 64,
   "metadata": {},
   "outputs": [
    {
     "data": {
      "text/html": [
       "<div>\n",
       "<style scoped>\n",
       "    .dataframe tbody tr th:only-of-type {\n",
       "        vertical-align: middle;\n",
       "    }\n",
       "\n",
       "    .dataframe tbody tr th {\n",
       "        vertical-align: top;\n",
       "    }\n",
       "\n",
       "    .dataframe thead th {\n",
       "        text-align: right;\n",
       "    }\n",
       "</style>\n",
       "<table border=\"1\" class=\"dataframe\">\n",
       "  <thead>\n",
       "    <tr style=\"text-align: right;\">\n",
       "      <th></th>\n",
       "      <th>latitude</th>\n",
       "      <th>longitude</th>\n",
       "      <th>minimum_nights</th>\n",
       "      <th>number_of_reviews</th>\n",
       "      <th>reviews_per_month</th>\n",
       "      <th>calculated_host_listings_count</th>\n",
       "      <th>availability_365</th>\n",
       "      <th>neighbourhood_group_Ballard</th>\n",
       "      <th>neighbourhood_group_Beacon Hill</th>\n",
       "      <th>neighbourhood_group_Capitol Hill</th>\n",
       "      <th>...</th>\n",
       "      <th>neighbourhood_group_Northgate</th>\n",
       "      <th>neighbourhood_group_Other neighborhoods</th>\n",
       "      <th>neighbourhood_group_Queen Anne</th>\n",
       "      <th>neighbourhood_group_Rainier Valley</th>\n",
       "      <th>neighbourhood_group_Seward Park</th>\n",
       "      <th>neighbourhood_group_University District</th>\n",
       "      <th>neighbourhood_group_West Seattle</th>\n",
       "      <th>room_type_Entire home/apt</th>\n",
       "      <th>room_type_Private room</th>\n",
       "      <th>room_type_Shared room</th>\n",
       "    </tr>\n",
       "  </thead>\n",
       "  <tbody>\n",
       "    <tr>\n",
       "      <th>0</th>\n",
       "      <td>0.478077</td>\n",
       "      <td>0.694037</td>\n",
       "      <td>0.007519</td>\n",
       "      <td>0.027894</td>\n",
       "      <td>0.003233</td>\n",
       "      <td>0.006452</td>\n",
       "      <td>0.945205</td>\n",
       "      <td>0</td>\n",
       "      <td>0</td>\n",
       "      <td>0</td>\n",
       "      <td>...</td>\n",
       "      <td>0</td>\n",
       "      <td>0</td>\n",
       "      <td>0</td>\n",
       "      <td>0</td>\n",
       "      <td>0</td>\n",
       "      <td>0</td>\n",
       "      <td>0</td>\n",
       "      <td>1</td>\n",
       "      <td>0</td>\n",
       "      <td>0</td>\n",
       "    </tr>\n",
       "    <tr>\n",
       "      <th>1</th>\n",
       "      <td>0.798712</td>\n",
       "      <td>0.572216</td>\n",
       "      <td>0.002506</td>\n",
       "      <td>0.087866</td>\n",
       "      <td>0.020474</td>\n",
       "      <td>0.012903</td>\n",
       "      <td>1.000000</td>\n",
       "      <td>0</td>\n",
       "      <td>0</td>\n",
       "      <td>0</td>\n",
       "      <td>...</td>\n",
       "      <td>0</td>\n",
       "      <td>1</td>\n",
       "      <td>0</td>\n",
       "      <td>0</td>\n",
       "      <td>0</td>\n",
       "      <td>0</td>\n",
       "      <td>0</td>\n",
       "      <td>0</td>\n",
       "      <td>1</td>\n",
       "      <td>0</td>\n",
       "    </tr>\n",
       "    <tr>\n",
       "      <th>2</th>\n",
       "      <td>0.116382</td>\n",
       "      <td>0.321891</td>\n",
       "      <td>0.005013</td>\n",
       "      <td>0.642957</td>\n",
       "      <td>0.093966</td>\n",
       "      <td>0.000000</td>\n",
       "      <td>0.065753</td>\n",
       "      <td>0</td>\n",
       "      <td>0</td>\n",
       "      <td>0</td>\n",
       "      <td>...</td>\n",
       "      <td>0</td>\n",
       "      <td>0</td>\n",
       "      <td>0</td>\n",
       "      <td>0</td>\n",
       "      <td>0</td>\n",
       "      <td>0</td>\n",
       "      <td>0</td>\n",
       "      <td>1</td>\n",
       "      <td>0</td>\n",
       "      <td>0</td>\n",
       "    </tr>\n",
       "    <tr>\n",
       "      <th>3</th>\n",
       "      <td>0.658381</td>\n",
       "      <td>0.441955</td>\n",
       "      <td>0.002506</td>\n",
       "      <td>0.186890</td>\n",
       "      <td>0.025216</td>\n",
       "      <td>0.006452</td>\n",
       "      <td>0.786301</td>\n",
       "      <td>0</td>\n",
       "      <td>0</td>\n",
       "      <td>0</td>\n",
       "      <td>...</td>\n",
       "      <td>0</td>\n",
       "      <td>1</td>\n",
       "      <td>0</td>\n",
       "      <td>0</td>\n",
       "      <td>0</td>\n",
       "      <td>0</td>\n",
       "      <td>0</td>\n",
       "      <td>1</td>\n",
       "      <td>0</td>\n",
       "      <td>0</td>\n",
       "    </tr>\n",
       "    <tr>\n",
       "      <th>4</th>\n",
       "      <td>0.227341</td>\n",
       "      <td>0.536076</td>\n",
       "      <td>0.002506</td>\n",
       "      <td>0.181311</td>\n",
       "      <td>0.027586</td>\n",
       "      <td>0.012903</td>\n",
       "      <td>0.920548</td>\n",
       "      <td>0</td>\n",
       "      <td>0</td>\n",
       "      <td>0</td>\n",
       "      <td>...</td>\n",
       "      <td>0</td>\n",
       "      <td>1</td>\n",
       "      <td>0</td>\n",
       "      <td>0</td>\n",
       "      <td>0</td>\n",
       "      <td>0</td>\n",
       "      <td>0</td>\n",
       "      <td>0</td>\n",
       "      <td>1</td>\n",
       "      <td>0</td>\n",
       "    </tr>\n",
       "  </tbody>\n",
       "</table>\n",
       "<p>5 rows × 27 columns</p>\n",
       "</div>"
      ],
      "text/plain": [
       "   latitude  longitude  minimum_nights  number_of_reviews  reviews_per_month  \\\n",
       "0  0.478077   0.694037        0.007519           0.027894           0.003233   \n",
       "1  0.798712   0.572216        0.002506           0.087866           0.020474   \n",
       "2  0.116382   0.321891        0.005013           0.642957           0.093966   \n",
       "3  0.658381   0.441955        0.002506           0.186890           0.025216   \n",
       "4  0.227341   0.536076        0.002506           0.181311           0.027586   \n",
       "\n",
       "   calculated_host_listings_count  availability_365  \\\n",
       "0                        0.006452          0.945205   \n",
       "1                        0.012903          1.000000   \n",
       "2                        0.000000          0.065753   \n",
       "3                        0.006452          0.786301   \n",
       "4                        0.012903          0.920548   \n",
       "\n",
       "   neighbourhood_group_Ballard  neighbourhood_group_Beacon Hill  \\\n",
       "0                            0                                0   \n",
       "1                            0                                0   \n",
       "2                            0                                0   \n",
       "3                            0                                0   \n",
       "4                            0                                0   \n",
       "\n",
       "   neighbourhood_group_Capitol Hill          ...            \\\n",
       "0                                 0          ...             \n",
       "1                                 0          ...             \n",
       "2                                 0          ...             \n",
       "3                                 0          ...             \n",
       "4                                 0          ...             \n",
       "\n",
       "   neighbourhood_group_Northgate  neighbourhood_group_Other neighborhoods  \\\n",
       "0                              0                                        0   \n",
       "1                              0                                        1   \n",
       "2                              0                                        0   \n",
       "3                              0                                        1   \n",
       "4                              0                                        1   \n",
       "\n",
       "   neighbourhood_group_Queen Anne  neighbourhood_group_Rainier Valley  \\\n",
       "0                               0                                   0   \n",
       "1                               0                                   0   \n",
       "2                               0                                   0   \n",
       "3                               0                                   0   \n",
       "4                               0                                   0   \n",
       "\n",
       "   neighbourhood_group_Seward Park  neighbourhood_group_University District  \\\n",
       "0                                0                                        0   \n",
       "1                                0                                        0   \n",
       "2                                0                                        0   \n",
       "3                                0                                        0   \n",
       "4                                0                                        0   \n",
       "\n",
       "   neighbourhood_group_West Seattle  room_type_Entire home/apt  \\\n",
       "0                                 0                          1   \n",
       "1                                 0                          0   \n",
       "2                                 0                          1   \n",
       "3                                 0                          1   \n",
       "4                                 0                          0   \n",
       "\n",
       "   room_type_Private room  room_type_Shared room  \n",
       "0                       0                      0  \n",
       "1                       1                      0  \n",
       "2                       0                      0  \n",
       "3                       0                      0  \n",
       "4                       1                      0  \n",
       "\n",
       "[5 rows x 27 columns]"
      ]
     },
     "execution_count": 64,
     "metadata": {},
     "output_type": "execute_result"
    }
   ],
   "source": [
    "features_knn.head()"
   ]
  },
  {
   "cell_type": "code",
   "execution_count": 65,
   "metadata": {},
   "outputs": [],
   "source": [
    "knn_model = KNeighborsRegressor(algorithm = \"brute\")"
   ]
  },
  {
   "cell_type": "code",
   "execution_count": 66,
   "metadata": {},
   "outputs": [
    {
     "data": {
      "text/plain": [
       "KNeighborsRegressor(algorithm='brute', leaf_size=30, metric='minkowski',\n",
       "          metric_params=None, n_jobs=None, n_neighbors=5, p=2,\n",
       "          weights='uniform')"
      ]
     },
     "execution_count": 66,
     "metadata": {},
     "output_type": "execute_result"
    }
   ],
   "source": [
    "knn_model.fit(X_train,y_train)"
   ]
  },
  {
   "cell_type": "code",
   "execution_count": 74,
   "metadata": {},
   "outputs": [
    {
     "data": {
      "text/plain": [
       "-0.012728688091696805"
      ]
     },
     "execution_count": 74,
     "metadata": {},
     "output_type": "execute_result"
    }
   ],
   "source": [
    "knn_pred = knn_model.predict(X_test)\n",
    "knn_r2_test = r2_score(y_test, knn_pred)\n",
    "\n",
    "knn_r2_test"
   ]
  },
  {
   "cell_type": "code",
   "execution_count": 71,
   "metadata": {},
   "outputs": [
    {
     "data": {
      "text/plain": [
       "116.89608599054318"
      ]
     },
     "execution_count": 71,
     "metadata": {},
     "output_type": "execute_result"
    }
   ],
   "source": [
    "knn_mean_sq_err = mean_squared_error(y_test, knn_pred)\n",
    "\n",
    "knn_mean_sq_err ** (1/2)"
   ]
  },
  {
   "cell_type": "markdown",
   "metadata": {},
   "source": [
    "#### Crossvalidation of KNN"
   ]
  },
  {
   "cell_type": "code",
   "execution_count": 9,
   "metadata": {},
   "outputs": [
    {
     "ename": "NameError",
     "evalue": "name 'X_train' is not defined",
     "output_type": "error",
     "traceback": [
      "\u001b[0;31m---------------------------------------------------------------------------\u001b[0m",
      "\u001b[0;31mNameError\u001b[0m                                 Traceback (most recent call last)",
      "\u001b[0;32m<ipython-input-9-b4134b58c584>\u001b[0m in \u001b[0;36m<module>\u001b[0;34m()\u001b[0m\n\u001b[1;32m     13\u001b[0m \u001b[0;32mfor\u001b[0m \u001b[0mk\u001b[0m \u001b[0;32min\u001b[0m \u001b[0mneighbors\u001b[0m\u001b[0;34m:\u001b[0m\u001b[0;34m\u001b[0m\u001b[0m\n\u001b[1;32m     14\u001b[0m     \u001b[0mknn\u001b[0m \u001b[0;34m=\u001b[0m \u001b[0mKNeighborsClassifier\u001b[0m\u001b[0;34m(\u001b[0m\u001b[0mn_neighbors\u001b[0m \u001b[0;34m=\u001b[0m \u001b[0mk\u001b[0m\u001b[0;34m)\u001b[0m\u001b[0;34m\u001b[0m\u001b[0m\n\u001b[0;32m---> 15\u001b[0;31m     \u001b[0mscores\u001b[0m \u001b[0;34m=\u001b[0m \u001b[0mcross_val_score\u001b[0m\u001b[0;34m(\u001b[0m\u001b[0mknn\u001b[0m\u001b[0;34m,\u001b[0m \u001b[0mX_train\u001b[0m\u001b[0;34m,\u001b[0m \u001b[0my_train\u001b[0m\u001b[0;34m,\u001b[0m \u001b[0mcv\u001b[0m \u001b[0;34m=\u001b[0m \u001b[0;36m10\u001b[0m\u001b[0;34m,\u001b[0m \u001b[0mscoring\u001b[0m \u001b[0;34m=\u001b[0m \u001b[0;34m\"accuracy\"\u001b[0m\u001b[0;34m)\u001b[0m\u001b[0;34m\u001b[0m\u001b[0m\n\u001b[0m\u001b[1;32m     16\u001b[0m     \u001b[0mcv_scores\u001b[0m\u001b[0;34m.\u001b[0m\u001b[0mappend\u001b[0m\u001b[0;34m(\u001b[0m\u001b[0mscores\u001b[0m\u001b[0;34m.\u001b[0m\u001b[0mmean\u001b[0m\u001b[0;34m(\u001b[0m\u001b[0;34m)\u001b[0m\u001b[0;34m)\u001b[0m\u001b[0;34m\u001b[0m\u001b[0m\n",
      "\u001b[0;31mNameError\u001b[0m: name 'X_train' is not defined"
     ]
    }
   ],
   "source": [
    "# Creating foldings K for KNN\n",
    "knn_neighbors = list(range(1,100))\n",
    "\n",
    "# subsetting just the odd ones\n",
    "neighbors = filter(lambda x: x % 2 != 0, knn_neighbors)\n",
    "\n",
    "# CV scores list\n",
    "\n",
    "cv_scores = []\n",
    "\n",
    "# perform 10-fold cross validation\n",
    "\n",
    "for k in neighbors:\n",
    "    knn = KNeighborsClassifier(n_neighbors = k)\n",
    "    scores = cross_val_score(knn, X_train, y_train, cv = 10, scoring = \"accuracy\")\n",
    "    cv_scores.append(scores.mean())"
   ]
  },
  {
   "cell_type": "code",
   "execution_count": null,
   "metadata": {},
   "outputs": [],
   "source": []
  }
 ],
 "metadata": {
  "kernelspec": {
   "display_name": "Python 3",
   "language": "python",
   "name": "python3"
  },
  "language_info": {
   "codemirror_mode": {
    "name": "ipython",
    "version": 3
   },
   "file_extension": ".py",
   "mimetype": "text/x-python",
   "name": "python",
   "nbconvert_exporter": "python",
   "pygments_lexer": "ipython3",
   "version": "3.7.1"
  }
 },
 "nbformat": 4,
 "nbformat_minor": 1
}
