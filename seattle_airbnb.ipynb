{
 "cells": [
  {
   "cell_type": "markdown",
   "metadata": {},
   "source": [
    " Seattle - Airbnb Data Set.\n",
    "\n"
   ]
  },
  {
   "cell_type": "markdown",
   "metadata": {},
   "source": [
    "In order to get a better grip over the Airbnb data set. Lets wrangle to get a better understanding, and prepare the data set.\n"
   ]
  },
  {
   "cell_type": "code",
   "execution_count": 1,
   "metadata": {},
   "outputs": [],
   "source": [
    "import numpy as np\n",
    "import pandas as pd\n",
    "import matplotlib.pyplot as plt\n",
    "from IPython import display\n",
    "%matplotlib inline\n",
    "\n",
    "import numba\n",
    "from numba import cuda"
   ]
  },
  {
   "cell_type": "markdown",
   "metadata": {},
   "source": [
    "#### Loading the Datasets"
   ]
  },
  {
   "cell_type": "code",
   "execution_count": 2,
   "metadata": {},
   "outputs": [],
   "source": [
    "airbnb_listing_df = pd.read_csv('Data/Airbnb_Seattle/seattle_airbnb_listing.csv')\n",
    "\n",
    "airbnb_neighbourhood_df = pd.read_csv('Data/Airbnb_Seattle/seattle_airbnb_neighbourhoods.csv')\n",
    "\n",
    "airbnb_neighbourhood_geojson_df = pd.read_csv('Data/Airbnb_Seattle/seattle_airbnb_neighbourhoods_geojson.csv')\n",
    "\n",
    "airbnb_reviews_df = pd.read_csv('Data/Airbnb_Seattle/seattle_airbnb_reviews.csv')"
   ]
  },
  {
   "cell_type": "markdown",
   "metadata": {},
   "source": [
    "#### Finding the Rows and Columns in the Dataframes"
   ]
  },
  {
   "cell_type": "code",
   "execution_count": 3,
   "metadata": {},
   "outputs": [
    {
     "data": {
      "text/plain": [
       "(8740, 16)"
      ]
     },
     "execution_count": 3,
     "metadata": {},
     "output_type": "execute_result"
    }
   ],
   "source": [
    "airbnb_listing_df.shape"
   ]
  },
  {
   "cell_type": "code",
   "execution_count": 4,
   "metadata": {},
   "outputs": [
    {
     "data": {
      "text/plain": [
       "(90, 2)"
      ]
     },
     "execution_count": 4,
     "metadata": {},
     "output_type": "execute_result"
    }
   ],
   "source": [
    "airbnb_neighbourhood_df.shape"
   ]
  },
  {
   "cell_type": "code",
   "execution_count": 5,
   "metadata": {},
   "outputs": [
    {
     "data": {
      "text/plain": [
       "(90, 2)"
      ]
     },
     "execution_count": 5,
     "metadata": {},
     "output_type": "execute_result"
    }
   ],
   "source": [
    "airbnb_neighbourhood_geojson_df.shape"
   ]
  },
  {
   "cell_type": "code",
   "execution_count": 6,
   "metadata": {},
   "outputs": [
    {
     "data": {
      "text/plain": [
       "(373096, 2)"
      ]
     },
     "execution_count": 6,
     "metadata": {},
     "output_type": "execute_result"
    }
   ],
   "source": [
    "airbnb_reviews_df.shape"
   ]
  },
  {
   "cell_type": "markdown",
   "metadata": {},
   "source": [
    "#### Examning the dataframes"
   ]
  },
  {
   "cell_type": "code",
   "execution_count": 7,
   "metadata": {},
   "outputs": [
    {
     "data": {
      "text/html": [
       "<div>\n",
       "<style scoped>\n",
       "    .dataframe tbody tr th:only-of-type {\n",
       "        vertical-align: middle;\n",
       "    }\n",
       "\n",
       "    .dataframe tbody tr th {\n",
       "        vertical-align: top;\n",
       "    }\n",
       "\n",
       "    .dataframe thead th {\n",
       "        text-align: right;\n",
       "    }\n",
       "</style>\n",
       "<table border=\"1\" class=\"dataframe\">\n",
       "  <thead>\n",
       "    <tr style=\"text-align: right;\">\n",
       "      <th></th>\n",
       "      <th>id</th>\n",
       "      <th>name</th>\n",
       "      <th>host_id</th>\n",
       "      <th>host_name</th>\n",
       "      <th>neighbourhood_group</th>\n",
       "      <th>neighbourhood</th>\n",
       "      <th>latitude</th>\n",
       "      <th>longitude</th>\n",
       "      <th>room_type</th>\n",
       "      <th>price</th>\n",
       "      <th>minimum_nights</th>\n",
       "      <th>number_of_reviews</th>\n",
       "      <th>last_review</th>\n",
       "      <th>reviews_per_month</th>\n",
       "      <th>calculated_host_listings_count</th>\n",
       "      <th>availability_365</th>\n",
       "    </tr>\n",
       "  </thead>\n",
       "  <tbody>\n",
       "    <tr>\n",
       "      <th>0</th>\n",
       "      <td>2318</td>\n",
       "      <td>Casa Madrona - Urban Oasis, 1 block from the P...</td>\n",
       "      <td>2536</td>\n",
       "      <td>Megan</td>\n",
       "      <td>Central Area</td>\n",
       "      <td>Madrona</td>\n",
       "      <td>47.610819</td>\n",
       "      <td>-122.290816</td>\n",
       "      <td>Entire home/apt</td>\n",
       "      <td>296</td>\n",
       "      <td>4</td>\n",
       "      <td>20</td>\n",
       "      <td>9/18/2018</td>\n",
       "      <td>0.16</td>\n",
       "      <td>3</td>\n",
       "      <td>345</td>\n",
       "    </tr>\n",
       "    <tr>\n",
       "      <th>1</th>\n",
       "      <td>4291</td>\n",
       "      <td>Sunrise in Seattle Master Suite</td>\n",
       "      <td>35749</td>\n",
       "      <td>Jess &amp; Joey</td>\n",
       "      <td>Other neighborhoods</td>\n",
       "      <td>Roosevelt</td>\n",
       "      <td>47.687801</td>\n",
       "      <td>-122.313427</td>\n",
       "      <td>Private room</td>\n",
       "      <td>82</td>\n",
       "      <td>2</td>\n",
       "      <td>63</td>\n",
       "      <td>10/6/2018</td>\n",
       "      <td>0.96</td>\n",
       "      <td>5</td>\n",
       "      <td>365</td>\n",
       "    </tr>\n",
       "    <tr>\n",
       "      <th>2</th>\n",
       "      <td>5682</td>\n",
       "      <td>Cozy Studio, min. to downtown -WiFi</td>\n",
       "      <td>8993</td>\n",
       "      <td>Maddy</td>\n",
       "      <td>Delridge</td>\n",
       "      <td>South Delridge</td>\n",
       "      <td>47.523979</td>\n",
       "      <td>-122.359891</td>\n",
       "      <td>Entire home/apt</td>\n",
       "      <td>48</td>\n",
       "      <td>3</td>\n",
       "      <td>461</td>\n",
       "      <td>11/2/2018</td>\n",
       "      <td>4.37</td>\n",
       "      <td>1</td>\n",
       "      <td>24</td>\n",
       "    </tr>\n",
       "    <tr>\n",
       "      <th>3</th>\n",
       "      <td>6606</td>\n",
       "      <td>Fab, private seattle urban cottage!</td>\n",
       "      <td>14942</td>\n",
       "      <td>Joyce</td>\n",
       "      <td>Other neighborhoods</td>\n",
       "      <td>Wallingford</td>\n",
       "      <td>47.654109</td>\n",
       "      <td>-122.337605</td>\n",
       "      <td>Entire home/apt</td>\n",
       "      <td>90</td>\n",
       "      <td>2</td>\n",
       "      <td>134</td>\n",
       "      <td>10/21/2018</td>\n",
       "      <td>1.18</td>\n",
       "      <td>3</td>\n",
       "      <td>287</td>\n",
       "    </tr>\n",
       "    <tr>\n",
       "      <th>4</th>\n",
       "      <td>9419</td>\n",
       "      <td>Glorious sun room w/ memory foambed</td>\n",
       "      <td>30559</td>\n",
       "      <td>Angielena</td>\n",
       "      <td>Other neighborhoods</td>\n",
       "      <td>Georgetown</td>\n",
       "      <td>47.550620</td>\n",
       "      <td>-122.320135</td>\n",
       "      <td>Private room</td>\n",
       "      <td>65</td>\n",
       "      <td>2</td>\n",
       "      <td>130</td>\n",
       "      <td>9/9/2018</td>\n",
       "      <td>1.29</td>\n",
       "      <td>5</td>\n",
       "      <td>336</td>\n",
       "    </tr>\n",
       "  </tbody>\n",
       "</table>\n",
       "</div>"
      ],
      "text/plain": [
       "     id                                               name  host_id  \\\n",
       "0  2318  Casa Madrona - Urban Oasis, 1 block from the P...     2536   \n",
       "1  4291                    Sunrise in Seattle Master Suite    35749   \n",
       "2  5682                Cozy Studio, min. to downtown -WiFi     8993   \n",
       "3  6606                Fab, private seattle urban cottage!    14942   \n",
       "4  9419                Glorious sun room w/ memory foambed    30559   \n",
       "\n",
       "     host_name  neighbourhood_group   neighbourhood   latitude   longitude  \\\n",
       "0        Megan         Central Area         Madrona  47.610819 -122.290816   \n",
       "1  Jess & Joey  Other neighborhoods       Roosevelt  47.687801 -122.313427   \n",
       "2        Maddy             Delridge  South Delridge  47.523979 -122.359891   \n",
       "3        Joyce  Other neighborhoods     Wallingford  47.654109 -122.337605   \n",
       "4    Angielena  Other neighborhoods      Georgetown  47.550620 -122.320135   \n",
       "\n",
       "         room_type  price  minimum_nights  number_of_reviews last_review  \\\n",
       "0  Entire home/apt    296               4                 20   9/18/2018   \n",
       "1     Private room     82               2                 63   10/6/2018   \n",
       "2  Entire home/apt     48               3                461   11/2/2018   \n",
       "3  Entire home/apt     90               2                134  10/21/2018   \n",
       "4     Private room     65               2                130    9/9/2018   \n",
       "\n",
       "   reviews_per_month  calculated_host_listings_count  availability_365  \n",
       "0               0.16                               3               345  \n",
       "1               0.96                               5               365  \n",
       "2               4.37                               1                24  \n",
       "3               1.18                               3               287  \n",
       "4               1.29                               5               336  "
      ]
     },
     "execution_count": 7,
     "metadata": {},
     "output_type": "execute_result"
    }
   ],
   "source": [
    "airbnb_listing_df.head()"
   ]
  },
  {
   "cell_type": "code",
   "execution_count": null,
   "metadata": {},
   "outputs": [],
   "source": []
  },
  {
   "cell_type": "code",
   "execution_count": 8,
   "metadata": {},
   "outputs": [
    {
     "data": {
      "text/html": [
       "<div>\n",
       "<style scoped>\n",
       "    .dataframe tbody tr th:only-of-type {\n",
       "        vertical-align: middle;\n",
       "    }\n",
       "\n",
       "    .dataframe tbody tr th {\n",
       "        vertical-align: top;\n",
       "    }\n",
       "\n",
       "    .dataframe thead th {\n",
       "        text-align: right;\n",
       "    }\n",
       "</style>\n",
       "<table border=\"1\" class=\"dataframe\">\n",
       "  <thead>\n",
       "    <tr style=\"text-align: right;\">\n",
       "      <th></th>\n",
       "      <th>neighbourhood_group</th>\n",
       "      <th>neighbourhood</th>\n",
       "    </tr>\n",
       "  </thead>\n",
       "  <tbody>\n",
       "    <tr>\n",
       "      <th>0</th>\n",
       "      <td>Ballard</td>\n",
       "      <td>Adams</td>\n",
       "    </tr>\n",
       "    <tr>\n",
       "      <th>1</th>\n",
       "      <td>Ballard</td>\n",
       "      <td>Loyal Heights</td>\n",
       "    </tr>\n",
       "    <tr>\n",
       "      <th>2</th>\n",
       "      <td>Ballard</td>\n",
       "      <td>Sunset Hill</td>\n",
       "    </tr>\n",
       "    <tr>\n",
       "      <th>3</th>\n",
       "      <td>Ballard</td>\n",
       "      <td>West Woodland</td>\n",
       "    </tr>\n",
       "    <tr>\n",
       "      <th>4</th>\n",
       "      <td>Ballard</td>\n",
       "      <td>Whittier Heights</td>\n",
       "    </tr>\n",
       "  </tbody>\n",
       "</table>\n",
       "</div>"
      ],
      "text/plain": [
       "  neighbourhood_group     neighbourhood\n",
       "0             Ballard             Adams\n",
       "1             Ballard     Loyal Heights\n",
       "2             Ballard       Sunset Hill\n",
       "3             Ballard     West Woodland\n",
       "4             Ballard  Whittier Heights"
      ]
     },
     "execution_count": 8,
     "metadata": {},
     "output_type": "execute_result"
    }
   ],
   "source": [
    "airbnb_neighbourhood_df.head()"
   ]
  },
  {
   "cell_type": "code",
   "execution_count": 9,
   "metadata": {},
   "outputs": [
    {
     "data": {
      "text/html": [
       "<div>\n",
       "<style scoped>\n",
       "    .dataframe tbody tr th:only-of-type {\n",
       "        vertical-align: middle;\n",
       "    }\n",
       "\n",
       "    .dataframe tbody tr th {\n",
       "        vertical-align: top;\n",
       "    }\n",
       "\n",
       "    .dataframe thead th {\n",
       "        text-align: right;\n",
       "    }\n",
       "</style>\n",
       "<table border=\"1\" class=\"dataframe\">\n",
       "  <thead>\n",
       "    <tr style=\"text-align: right;\">\n",
       "      <th></th>\n",
       "      <th>neighbourhood_group</th>\n",
       "      <th>neighbourhood</th>\n",
       "    </tr>\n",
       "  </thead>\n",
       "  <tbody>\n",
       "    <tr>\n",
       "      <th>0</th>\n",
       "      <td>Ballard</td>\n",
       "      <td>Adams</td>\n",
       "    </tr>\n",
       "    <tr>\n",
       "      <th>1</th>\n",
       "      <td>Ballard</td>\n",
       "      <td>Loyal Heights</td>\n",
       "    </tr>\n",
       "    <tr>\n",
       "      <th>2</th>\n",
       "      <td>Ballard</td>\n",
       "      <td>Sunset Hill</td>\n",
       "    </tr>\n",
       "    <tr>\n",
       "      <th>3</th>\n",
       "      <td>Ballard</td>\n",
       "      <td>West Woodland</td>\n",
       "    </tr>\n",
       "    <tr>\n",
       "      <th>4</th>\n",
       "      <td>Ballard</td>\n",
       "      <td>Whittier Heights</td>\n",
       "    </tr>\n",
       "  </tbody>\n",
       "</table>\n",
       "</div>"
      ],
      "text/plain": [
       "  neighbourhood_group     neighbourhood\n",
       "0             Ballard             Adams\n",
       "1             Ballard     Loyal Heights\n",
       "2             Ballard       Sunset Hill\n",
       "3             Ballard     West Woodland\n",
       "4             Ballard  Whittier Heights"
      ]
     },
     "execution_count": 9,
     "metadata": {},
     "output_type": "execute_result"
    }
   ],
   "source": [
    "airbnb_neighbourhood_geojson_df.head()"
   ]
  },
  {
   "cell_type": "code",
   "execution_count": 10,
   "metadata": {},
   "outputs": [
    {
     "data": {
      "text/html": [
       "<div>\n",
       "<style scoped>\n",
       "    .dataframe tbody tr th:only-of-type {\n",
       "        vertical-align: middle;\n",
       "    }\n",
       "\n",
       "    .dataframe tbody tr th {\n",
       "        vertical-align: top;\n",
       "    }\n",
       "\n",
       "    .dataframe thead th {\n",
       "        text-align: right;\n",
       "    }\n",
       "</style>\n",
       "<table border=\"1\" class=\"dataframe\">\n",
       "  <thead>\n",
       "    <tr style=\"text-align: right;\">\n",
       "      <th></th>\n",
       "      <th>listing_id</th>\n",
       "      <th>date</th>\n",
       "    </tr>\n",
       "  </thead>\n",
       "  <tbody>\n",
       "    <tr>\n",
       "      <th>0</th>\n",
       "      <td>2318</td>\n",
       "      <td>2008-09-15</td>\n",
       "    </tr>\n",
       "    <tr>\n",
       "      <th>1</th>\n",
       "      <td>2318</td>\n",
       "      <td>2017-01-10</td>\n",
       "    </tr>\n",
       "    <tr>\n",
       "      <th>2</th>\n",
       "      <td>2318</td>\n",
       "      <td>2017-04-01</td>\n",
       "    </tr>\n",
       "    <tr>\n",
       "      <th>3</th>\n",
       "      <td>2318</td>\n",
       "      <td>2017-04-25</td>\n",
       "    </tr>\n",
       "    <tr>\n",
       "      <th>4</th>\n",
       "      <td>2318</td>\n",
       "      <td>2017-06-18</td>\n",
       "    </tr>\n",
       "  </tbody>\n",
       "</table>\n",
       "</div>"
      ],
      "text/plain": [
       "   listing_id        date\n",
       "0        2318  2008-09-15\n",
       "1        2318  2017-01-10\n",
       "2        2318  2017-04-01\n",
       "3        2318  2017-04-25\n",
       "4        2318  2017-06-18"
      ]
     },
     "execution_count": 10,
     "metadata": {},
     "output_type": "execute_result"
    }
   ],
   "source": [
    "airbnb_reviews_df.head()"
   ]
  },
  {
   "cell_type": "markdown",
   "metadata": {},
   "source": [
    "#### Testing Numba Library for GPU processing"
   ]
  },
  {
   "cell_type": "code",
   "execution_count": 11,
   "metadata": {},
   "outputs": [
    {
     "name": "stdout",
     "output_type": "stream",
     "text": [
      "<Managed Device 0>\n"
     ]
    }
   ],
   "source": [
    "print(cuda.gpus)"
   ]
  },
  {
   "cell_type": "code",
   "execution_count": 12,
   "metadata": {},
   "outputs": [
    {
     "name": "stdout",
     "output_type": "stream",
     "text": [
      "<class 'numba.cuda.stubs.blockDim'>\n"
     ]
    }
   ],
   "source": [
    "#thread id in 1D block\n",
    "\n",
    "# blockwidth = number of threads per block\n",
    "bw = cuda.blockDim\n",
    "print(bw)\n"
   ]
  },
  {
   "cell_type": "code",
   "execution_count": 35,
   "metadata": {},
   "outputs": [
    {
     "data": {
      "text/plain": [
       "{'availability_365',\n",
       " 'calculated_host_listings_count',\n",
       " 'host_id',\n",
       " 'host_name',\n",
       " 'id',\n",
       " 'latitude',\n",
       " 'longitude',\n",
       " 'minimum_nights',\n",
       " 'name',\n",
       " 'neighbourhood',\n",
       " 'neighbourhood_group',\n",
       " 'number_of_reviews',\n",
       " 'price',\n",
       " 'room_type'}"
      ]
     },
     "execution_count": 35,
     "metadata": {},
     "output_type": "execute_result"
    }
   ],
   "source": [
    "no_nulls = set(airbnb_listing_df.columns[np.sum(airbnb_listing_df.isnull()) == 0])\n",
    "\n",
    "no_nulls"
   ]
  },
  {
   "cell_type": "markdown",
   "metadata": {},
   "source": [
    "#### A Set Columns Names missing more than 10% of their values missing."
   ]
  },
  {
   "cell_type": "code",
   "execution_count": 16,
   "metadata": {},
   "outputs": [
    {
     "data": {
      "text/plain": [
       "{'last_review', 'reviews_per_month'}"
      ]
     },
     "execution_count": 16,
     "metadata": {},
     "output_type": "execute_result"
    }
   ],
   "source": [
    "set(airbnb_listing_df.columns[airbnb_listing_df.isnull().mean() > .1])"
   ]
  },
  {
   "cell_type": "code",
   "execution_count": 17,
   "metadata": {},
   "outputs": [
    {
     "data": {
      "text/plain": [
       "id                                0.000000\n",
       "name                              0.000000\n",
       "host_id                           0.000000\n",
       "host_name                         0.000000\n",
       "neighbourhood_group               0.000000\n",
       "neighbourhood                     0.000000\n",
       "latitude                          0.000000\n",
       "longitude                         0.000000\n",
       "room_type                         0.000000\n",
       "price                             0.000000\n",
       "minimum_nights                    0.000000\n",
       "number_of_reviews                 0.000000\n",
       "last_review                       0.119908\n",
       "reviews_per_month                 0.120023\n",
       "calculated_host_listings_count    0.000000\n",
       "availability_365                  0.000000\n",
       "dtype: float64"
      ]
     },
     "execution_count": 17,
     "metadata": {},
     "output_type": "execute_result"
    }
   ],
   "source": [
    "airbnb_listing_df.isnull().mean()"
   ]
  },
  {
   "cell_type": "markdown",
   "metadata": {},
   "source": [
    "#### Histogram Distribution of Neighbourhood Groups"
   ]
  },
  {
   "cell_type": "code",
   "execution_count": 18,
   "metadata": {},
   "outputs": [
    {
     "name": "stdout",
     "output_type": "stream",
     "text": [
      "Other neighborhoods    1641\n",
      "Downtown               1509\n",
      "Capitol Hill           1024\n",
      "Central Area            762\n",
      "Queen Anne              645\n",
      "Ballard                 492\n",
      "West Seattle            460\n",
      "Rainier Valley          421\n",
      "Beacon Hill             335\n",
      "Cascade                 325\n",
      "Delridge                247\n",
      "University District     247\n",
      "Northgate               214\n",
      "Magnolia                164\n",
      "Lake City               155\n",
      "Seward Park              83\n",
      "Interbay                 16\n",
      "Name: neighbourhood_group, dtype: int64\n",
      "Other neighborhoods    96.529412\n",
      "Downtown               88.764706\n",
      "Capitol Hill           60.235294\n",
      "Central Area           44.823529\n",
      "Queen Anne             37.941176\n",
      "Ballard                28.941176\n",
      "West Seattle           27.058824\n",
      "Rainier Valley         24.764706\n",
      "Beacon Hill            19.705882\n",
      "Cascade                19.117647\n",
      "Delridge               14.529412\n",
      "University District    14.529412\n",
      "Northgate              12.588235\n",
      "Magnolia                9.647059\n",
      "Lake City               9.117647\n",
      "Seward Park             4.882353\n",
      "Interbay                0.941176\n",
      "Name: neighbourhood_group, dtype: float64\n"
     ]
    },
    {
     "data": {
      "text/plain": [
       "Text(0.5, 1.0, '# of Airbnb Listings in Neighbourhood Groups')"
      ]
     },
     "execution_count": 18,
     "metadata": {},
     "output_type": "execute_result"
    },
    {
     "data": {
      "image/png": "[encoded data removed]",
      "text/plain": [
       "<Figure size 432x288 with 1 Axes>"
      ]
     },
     "metadata": {
      "needs_background": "light"
     },
     "output_type": "display_data"
    }
   ],
   "source": [
    "ngh_grp = airbnb_listing_df.neighbourhood_group.value_counts().sort_values(ascending = False)\n",
    "print(ngh_grp)\n",
    "\n",
    "print(ngh_grp/ngh_grp.shape[0])\n",
    "\n",
    "(ngh_grp/ngh_grp.shape[0]).plot(kind = \"bar\")\n",
    "plt.title(\"# of Airbnb Listings in Neighbourhood Groups\")"
   ]
  },
  {
   "cell_type": "markdown",
   "metadata": {},
   "source": [
    "#### Understanding the Listing Data\n",
    "###### List of neighbourhoods with highest Airbnb reviews in Seattle,WA"
   ]
  },
  {
   "cell_type": "code",
   "execution_count": 19,
   "metadata": {},
   "outputs": [
    {
     "name": "stdout",
     "output_type": "stream",
     "text": [
      "                   neighbourhood_group              neighbourhood\n",
      "number_of_reviews                                                \n",
      "717                           Downtown     International District\n",
      "703                           Downtown     International District\n",
      "683                            Ballard           Whittier Heights\n",
      "636                            Ballard           Whittier Heights\n",
      "513                     Rainier Valley                Mount Baker\n",
      "481                            Ballard                      Adams\n",
      "479                            Ballard                      Adams\n",
      "478                           Downtown  Central Business District\n",
      "477                Other neighborhoods                    Fremont\n",
      "476                       Central Area      Harrison/Denny-Blaine\n",
      "461                           Delridge             South Delridge\n",
      "453                           Downtown                   Belltown\n",
      "448                Other neighborhoods                    Fremont\n",
      "446                     Rainier Valley              Columbia City\n",
      "439                           Interbay                   Interbay\n",
      "434                            Ballard              West Woodland\n",
      "427                       Central Area                      Minor\n",
      "420                            Ballard                      Adams\n",
      "409                       Central Area                   Atlantic\n",
      "406                Other neighborhoods                Sunset Hill\n",
      "403                       Central Area                      Minor\n",
      "399                           Downtown                 First Hill\n",
      "398                            Ballard              Loyal Heights\n",
      "394                         Queen Anne           Lower Queen Anne\n",
      "383                       Central Area                      Minor\n",
      "380                            Cascade                    Stevens\n",
      "376                Other neighborhoods                    Ravenna\n",
      "375                          Northgate              Loyal Heights\n",
      "369                       Capitol Hill                   Broadway\n",
      "366                            Ballard              West Woodland\n",
      "...                                ...                        ...\n",
      "29                        West Seattle             Yesler Terrace\n",
      "28                        West Seattle             Yesler Terrace\n",
      "27                        West Seattle              West Woodland\n",
      "26                        West Seattle             Yesler Terrace\n",
      "25                        West Seattle                   Westlake\n",
      "24                        West Seattle              West Woodland\n",
      "23                        West Seattle           Whittier Heights\n",
      "22                        West Seattle             Yesler Terrace\n",
      "21                        West Seattle           Whittier Heights\n",
      "20                        West Seattle                   Westlake\n",
      "19                        West Seattle           Whittier Heights\n",
      "18                        West Seattle           Whittier Heights\n",
      "17                        West Seattle                   Westlake\n",
      "16                        West Seattle             Yesler Terrace\n",
      "15                        West Seattle           Whittier Heights\n",
      "14                        West Seattle           Whittier Heights\n",
      "13                        West Seattle           Whittier Heights\n",
      "12                        West Seattle             Yesler Terrace\n",
      "11                        West Seattle             Yesler Terrace\n",
      "10                        West Seattle             Yesler Terrace\n",
      "9                         West Seattle             Yesler Terrace\n",
      "8                         West Seattle           Whittier Heights\n",
      "7                         West Seattle           Whittier Heights\n",
      "6                         West Seattle             Yesler Terrace\n",
      "5                         West Seattle             Yesler Terrace\n",
      "4                         West Seattle             Yesler Terrace\n",
      "3                         West Seattle             Yesler Terrace\n",
      "2                         West Seattle             Yesler Terrace\n",
      "1                         West Seattle             Yesler Terrace\n",
      "0                         West Seattle             Yesler Terrace\n",
      "\n",
      "[354 rows x 2 columns]\n",
      "['Central Area', 'Other neighborhoods', 'Delridge', 'Downtown', 'West Seattle', 'Northgate', 'Ballard', 'Capitol Hill', 'Beacon Hill', 'Cascade', 'Seward Park', 'Queen Anne', 'Rainier Valley', 'Magnolia', 'Lake City', 'University District', 'Interbay']\n"
     ]
    }
   ],
   "source": [
    "areas_and_reviews = airbnb_listing_df.groupby(by = [\"number_of_reviews\"])[\"neighbourhood_group\",\"neighbourhood\"].max()[::-1]\n",
    "print(areas_and_reviews)\n",
    "\n",
    "\n",
    "print(airbnb_listing_df.neighbourhood_group.unique().tolist())\n"
   ]
  },
  {
   "cell_type": "markdown",
   "metadata": {},
   "source": [
    "#### Number of Reviews in Neighbourhood Groups  "
   ]
  },
  {
   "cell_type": "code",
   "execution_count": 129,
   "metadata": {},
   "outputs": [],
   "source": [
    "areas_and_reviews_2 = airbnb_listing_df.groupby(by = [\"neighbourhood_group\"])[\"number_of_reviews\"].sum()[::-1].sort_values(ascending = False)"
   ]
  },
  {
   "cell_type": "code",
   "execution_count": 130,
   "metadata": {},
   "outputs": [
    {
     "name": "stdout",
     "output_type": "stream",
     "text": [
      "neighbourhood_group\n",
      "Other neighborhoods    71443\n",
      "Downtown               51333\n",
      "Capitol Hill           50031\n",
      "Central Area           40932\n",
      "Queen Anne             28131\n",
      "Ballard                26850\n",
      "West Seattle           20644\n",
      "Rainier Valley         19982\n",
      "Beacon Hill            16947\n",
      "Delridge               10054\n",
      "Cascade                 7998\n",
      "Northgate               7537\n",
      "University District     6239\n",
      "Magnolia                5676\n",
      "Lake City               5181\n",
      "Seward Park             3917\n",
      "Interbay                 939\n",
      "Name: number_of_reviews, dtype: int64\n"
     ]
    },
    {
     "data": {
      "text/plain": [
       "Text(0.5, 1.0, '# of Airbnb Reviews in Seattle Neighbourhood Groups')"
      ]
     },
     "execution_count": 130,
     "metadata": {},
     "output_type": "execute_result"
    },
    {
     "data": {
      "image/png": "[encoded data removed]",
      "text/plain": [
       "<Figure size 432x288 with 1 Axes>"
      ]
     },
     "metadata": {
      "needs_background": "light"
     },
     "output_type": "display_data"
    }
   ],
   "source": [
    "print(areas_and_reviews_2)\n",
    "\n",
    "areas_and_reviews_2.plot(kind = \"bar\")\n",
    "plt.title(\"# of Airbnb Reviews in Seattle Neighbourhood Groups\")"
   ]
  },
  {
   "cell_type": "markdown",
   "metadata": {},
   "source": [
    "#### Average Price of Airbnb Listing in Seattle Neighbourhood Groups"
   ]
  },
  {
   "cell_type": "code",
   "execution_count": 131,
   "metadata": {},
   "outputs": [],
   "source": [
    "areas_and_prices = airbnb_listing_df.groupby(by = [\"neighbourhood_group\"])[\"price\"].mean()[::-1].sort_values(ascending = False)"
   ]
  },
  {
   "cell_type": "code",
   "execution_count": 108,
   "metadata": {},
   "outputs": [
    {
     "name": "stdout",
     "output_type": "stream",
     "text": [
      "neighbourhood_group\n",
      "Downtown               204.373095\n",
      "Queen Anne             192.838760\n",
      "Cascade                179.384615\n",
      "Magnolia               164.676829\n",
      "Central Area           154.694226\n",
      "Seward Park            152.831325\n",
      "West Seattle           149.571739\n",
      "Capitol Hill           143.418945\n",
      "Ballard                142.504065\n",
      "Other neighborhoods    130.806825\n",
      "Lake City              121.567742\n",
      "Rainier Valley         120.344418\n",
      "University District    113.242915\n",
      "Beacon Hill            108.059701\n",
      "Interbay               104.625000\n",
      "Northgate              103.070093\n",
      "Delridge                97.113360\n",
      "Name: price, dtype: float64\n"
     ]
    },
    {
     "data": {
      "text/plain": [
       "Text(0.5, 1.0, 'Average Price of Airbnb Listing in Seattle Neighbour Groups')"
      ]
     },
     "execution_count": 108,
     "metadata": {},
     "output_type": "execute_result"
    },
    {
     "data": {
      "image/png": "[encoded data removed]",
      "text/plain": [
       "<Figure size 432x288 with 1 Axes>"
      ]
     },
     "metadata": {
      "needs_background": "light"
     },
     "output_type": "display_data"
    }
   ],
   "source": [
    "print(areas_and_prices)\n",
    "\n",
    "areas_and_prices.plot(kind = \"bar\")\n",
    "plt.title(\"Average Price of Airbnb Listing in Seattle Neighbour Groups\")"
   ]
  },
  {
   "cell_type": "markdown",
   "metadata": {},
   "source": [
    "#### Average Prices and Number of Reviews on Airbnb Listings in Seattle Neighbour Groups"
   ]
  },
  {
   "cell_type": "code",
   "execution_count": 24,
   "metadata": {},
   "outputs": [],
   "source": [
    "price_and_review = pd.concat([areas_and_reviews_2,areas_and_prices], axis = 1, sort = True).sort_values(by=\"number_of_reviews\", ascending =  False)"
   ]
  },
  {
   "cell_type": "code",
   "execution_count": 25,
   "metadata": {},
   "outputs": [
    {
     "name": "stdout",
     "output_type": "stream",
     "text": [
      "                     number_of_reviews       price\n",
      "Other neighborhoods              71443  130.806825\n",
      "Downtown                         51333  204.373095\n",
      "Capitol Hill                     50031  143.418945\n",
      "Central Area                     40932  154.694226\n",
      "Queen Anne                       28131  192.838760\n",
      "Ballard                          26850  142.504065\n",
      "West Seattle                     20644  149.571739\n",
      "Rainier Valley                   19982  120.344418\n",
      "Beacon Hill                      16947  108.059701\n",
      "Delridge                         10054   97.113360\n",
      "Cascade                           7998  179.384615\n",
      "Northgate                         7537  103.070093\n",
      "University District               6239  113.242915\n",
      "Magnolia                          5676  164.676829\n",
      "Lake City                         5181  121.567742\n",
      "Seward Park                       3917  152.831325\n",
      "Interbay                           939  104.625000\n"
     ]
    }
   ],
   "source": [
    "print(price_and_review)\n"
   ]
  },
  {
   "cell_type": "markdown",
   "metadata": {},
   "source": [
    "#### Reviews per Month of different Neighbourhood Groups in Seattle\n"
   ]
  },
  {
   "cell_type": "code",
   "execution_count": 27,
   "metadata": {},
   "outputs": [
    {
     "data": {
      "text/plain": [
       "neighbourhood_group\n",
       "Other neighborhoods    3344.85\n",
       "Downtown               2689.21\n",
       "Capitol Hill           2499.18\n",
       "Central Area           2102.11\n",
       "Queen Anne             1458.07\n",
       "Ballard                1167.25\n",
       "West Seattle           1050.06\n",
       "Rainier Valley          985.72\n",
       "Beacon Hill             891.24\n",
       "Delridge                597.68\n",
       "Cascade                 530.29\n",
       "Northgate               443.68\n",
       "Magnolia                360.19\n",
       "University District     307.75\n",
       "Lake City               283.34\n",
       "Seward Park             166.93\n",
       "Interbay                 58.38\n",
       "Name: reviews_per_month, dtype: float64"
      ]
     },
     "execution_count": 27,
     "metadata": {},
     "output_type": "execute_result"
    }
   ],
   "source": [
    "airbnb_listing_df.groupby(by = [\"neighbourhood_group\"])[\"reviews_per_month\"].sum()[::-1].sort_values(ascending = False)"
   ]
  },
  {
   "cell_type": "markdown",
   "metadata": {},
   "source": [
    "#### Finding the neighbourhoods associated with Other Neighbourhood Groups"
   ]
  },
  {
   "cell_type": "code",
   "execution_count": 157,
   "metadata": {},
   "outputs": [],
   "source": [
    "neighbourhoods = airbnb_listing_df.groupby(by = [\"neighbourhood_group\"])[\"neighbourhood\"]\n",
    "#[airbnb_listing_df.neighbourhood_group == \"Other neighborhoods\"]"
   ]
  },
  {
   "cell_type": "code",
   "execution_count": 158,
   "metadata": {},
   "outputs": [
    {
     "name": "stdout",
     "output_type": "stream",
     "text": [
      "Other neighborhoods 1                    Roosevelt\n",
      "3                  Wallingford\n",
      "4                   Georgetown\n",
      "8                  Wallingford\n",
      "13                 Wallingford\n",
      "15                  Green Lake\n",
      "16                  Green Lake\n",
      "17                  Green Lake\n",
      "31                 Wallingford\n",
      "33                 Wallingford\n",
      "34                    Wedgwood\n",
      "35                  Windermere\n",
      "37                    Wedgwood\n",
      "38               Phinney Ridge\n",
      "41                    Wedgwood\n",
      "42                    Wedgwood\n",
      "47                  Green Lake\n",
      "48                  Green Lake\n",
      "52                     Fremont\n",
      "54                     Fremont\n",
      "55                 Wallingford\n",
      "56                  Green Lake\n",
      "76               Phinney Ridge\n",
      "77                  View Ridge\n",
      "80                  Crown Hill\n",
      "84                     Fremont\n",
      "85               Phinney Ridge\n",
      "87               Phinney Ridge\n",
      "90                  Georgetown\n",
      "94                 Wallingford\n",
      "                 ...          \n",
      "8580             Phinney Ridge\n",
      "8583                 Greenwood\n",
      "8585                South Park\n",
      "8589                   Fremont\n",
      "8595                 Roosevelt\n",
      "8598             Phinney Ridge\n",
      "8599                   Fremont\n",
      "8601               Bitter Lake\n",
      "8603                 Greenwood\n",
      "8604                 Greenwood\n",
      "8605                 Greenwood\n",
      "8616               Bitter Lake\n",
      "8624               Wallingford\n",
      "8629                Crown Hill\n",
      "8633                   Fremont\n",
      "8638                   Fremont\n",
      "8640                Windermere\n",
      "8650                   Ravenna\n",
      "8654                   Ravenna\n",
      "8655                  Wedgwood\n",
      "8663                 Roosevelt\n",
      "8666                 Roosevelt\n",
      "8671               Wallingford\n",
      "8673    North Beach/Blue Ridge\n",
      "8674                  Wedgwood\n",
      "8678               Wallingford\n",
      "8682                Green Lake\n",
      "8696               Wallingford\n",
      "8713             Phinney Ridge\n",
      "8714               Wallingford\n",
      "Name: neighbourhood, Length: 1641, dtype: object\n"
     ]
    }
   ],
   "source": [
    "other_neighbourhood_list = []\n",
    "\n",
    "for key, item in neighbourhoods:\n",
    "    if key == \"Other neighborhoods\":\n",
    "        print(key,item)\n",
    "        other_neighborhoods = item\n",
    "        other_neighbourhood_list.append(item.tolist())"
   ]
  },
  {
   "cell_type": "markdown",
   "metadata": {},
   "source": [
    "##### List of the neighbourhoods in Seattle associated with Other Neighbourhood Groups"
   ]
  },
  {
   "cell_type": "code",
   "execution_count": 159,
   "metadata": {},
   "outputs": [
    {
     "data": {
      "text/plain": [
       "['Roosevelt',\n",
       " 'Wallingford',\n",
       " 'Georgetown',\n",
       " 'Green Lake',\n",
       " 'Wedgwood',\n",
       " 'Windermere',\n",
       " 'Phinney Ridge',\n",
       " 'Fremont',\n",
       " 'View Ridge',\n",
       " 'Crown Hill',\n",
       " 'North Beach/Blue Ridge',\n",
       " 'Greenwood',\n",
       " 'Ravenna',\n",
       " 'Broadview',\n",
       " 'Bitter Lake',\n",
       " 'Bryant',\n",
       " 'Industrial District',\n",
       " 'Laurelhurst',\n",
       " 'South Park']"
      ]
     },
     "execution_count": 159,
     "metadata": {},
     "output_type": "execute_result"
    }
   ],
   "source": [
    "other_neighborhoods.unique().tolist()"
   ]
  },
  {
   "cell_type": "code",
   "execution_count": 160,
   "metadata": {},
   "outputs": [
    {
     "data": {
      "text/plain": [
       "{'Bitter Lake',\n",
       " 'Broadview',\n",
       " 'Bryant',\n",
       " 'Crown Hill',\n",
       " 'Fremont',\n",
       " 'Georgetown',\n",
       " 'Green Lake',\n",
       " 'Greenwood',\n",
       " 'Industrial District',\n",
       " 'Laurelhurst',\n",
       " 'North Beach/Blue Ridge',\n",
       " 'Phinney Ridge',\n",
       " 'Ravenna',\n",
       " 'Roosevelt',\n",
       " 'South Park',\n",
       " 'View Ridge',\n",
       " 'Wallingford',\n",
       " 'Wedgwood',\n",
       " 'Windermere'}"
      ]
     },
     "execution_count": 160,
     "metadata": {},
     "output_type": "execute_result"
    }
   ],
   "source": [
    "other_neighbourhood_set = set(other_neighbourhood_list[0])\n",
    "\n",
    "other_neighbourhood_set"
   ]
  },
  {
   "cell_type": "markdown",
   "metadata": {},
   "source": [
    "#### Number of Reviews in all the neighbourhoods in Seattle"
   ]
  },
  {
   "cell_type": "code",
   "execution_count": 161,
   "metadata": {},
   "outputs": [],
   "source": [
    "areas_and_reviews_3 = airbnb_listing_df.groupby(by = [\"neighbourhood\"])[\"number_of_reviews\"].sum()[::-1].sort_values(ascending = False)"
   ]
  },
  {
   "cell_type": "code",
   "execution_count": 162,
   "metadata": {},
   "outputs": [
    {
     "data": {
      "text/plain": [
       "neighbourhood\n",
       "Broadway                     36780\n",
       "Belltown                     21987\n",
       "Minor                        19078\n",
       "Fremont                      16246\n",
       "Wallingford                  14994\n",
       "First Hill                   10496\n",
       "North Beacon Hill            10144\n",
       "Stevens                       8742\n",
       "Columbia City                 8145\n",
       "Lower Queen Anne              8080\n",
       "Greenwood                     8009\n",
       "Adams                         7742\n",
       "West Woodland                 7539\n",
       "East Queen Anne               7228\n",
       "Atlantic                      6927\n",
       "North Queen Anne              6907\n",
       "Mann                          6756\n",
       "University District           6239\n",
       "West Queen Anne               5916\n",
       "Green Lake                    5756\n",
       "Central Business District     5650\n",
       "Phinney Ridge                 5641\n",
       "Pike-Market                   5525\n",
       "Mount Baker                   5445\n",
       "North Admiral                 5385\n",
       "Mid-Beacon Hill               5001\n",
       "Loyal Heights                 4957\n",
       "Ravenna                       4479\n",
       "Whittier Heights              4439\n",
       "Alki                          4090\n",
       "                             ...  \n",
       "Georgetown                    1581\n",
       "Portage Bay                   1511\n",
       "Dunlap                        1478\n",
       "South Beacon Hill             1467\n",
       "Matthews Beach                1444\n",
       "High Point                    1434\n",
       "Victory Heights               1433\n",
       "Seaview                       1357\n",
       "Arbor Heights                 1291\n",
       "Fauntleroy                    1250\n",
       "Highland Park                 1207\n",
       "Bitter Lake                   1085\n",
       "View Ridge                    1000\n",
       "Wedgwood                       975\n",
       "North Beach/Blue Ridge         965\n",
       "Interbay                       939\n",
       "Yesler Terrace                 903\n",
       "Olympic Hills                  860\n",
       "Laurelhurst                    837\n",
       "Roxhill                        787\n",
       "Meadowbrook                    777\n",
       "Pinehurst                      702\n",
       "Rainier View                   692\n",
       "Cedar Park                     667\n",
       "South Park                     666\n",
       "Madison Park                   614\n",
       "Windermere                     557\n",
       "Briarcliff                     540\n",
       "Holly Park                     335\n",
       "Industrial District            161\n",
       "Name: number_of_reviews, Length: 88, dtype: int64"
      ]
     },
     "execution_count": 162,
     "metadata": {},
     "output_type": "execute_result"
    }
   ],
   "source": [
    "areas_and_reviews_3"
   ]
  },
  {
   "cell_type": "markdown",
   "metadata": {},
   "source": [
    "#### Number of Reviews in these neighbourhoods that make up Other Neighbourhood Group"
   ]
  },
  {
   "cell_type": "code",
   "execution_count": 163,
   "metadata": {},
   "outputs": [
    {
     "data": {
      "text/plain": [
       "neighbourhood\n",
       "Crown Hill                 2080\n",
       "Laurelhurst                 837\n",
       "Bitter Lake                1085\n",
       "Industrial District         161\n",
       "Georgetown                 1581\n",
       "Ravenna                    4479\n",
       "Broadview                  1799\n",
       "Greenwood                  8009\n",
       "North Beach/Blue Ridge      965\n",
       "South Park                  666\n",
       "Roosevelt                  2847\n",
       "Bryant                     1765\n",
       "View Ridge                 1000\n",
       "Wallingford               14994\n",
       "Green Lake                 5756\n",
       "Wedgwood                    975\n",
       "Windermere                  557\n",
       "Fremont                   16246\n",
       "Phinney Ridge              5641\n",
       "Name: number_of_reviews, dtype: int64"
      ]
     },
     "execution_count": 163,
     "metadata": {},
     "output_type": "execute_result"
    }
   ],
   "source": [
    "areas_and_reviews_3.loc[other_neighbourhood_set]"
   ]
  },
  {
   "cell_type": "markdown",
   "metadata": {},
   "source": [
    "#### Prices of Airbnb in all the Neighbourhoods in Seattle"
   ]
  },
  {
   "cell_type": "code",
   "execution_count": 164,
   "metadata": {},
   "outputs": [],
   "source": [
    "areas_and_prices_2 = airbnb_listing_df.groupby(by = [\"neighbourhood\"])[\"price\"].mean()[::-1].sort_values(ascending = False)"
   ]
  },
  {
   "cell_type": "code",
   "execution_count": 165,
   "metadata": {},
   "outputs": [
    {
     "data": {
      "text/plain": [
       "neighbourhood\n",
       "Harrison/Denny-Blaine        330.027778\n",
       "Central Business District    250.503676\n",
       "South Lake Union             245.850000\n",
       "West Queen Anne              244.689394\n",
       "Pike-Market                  236.748768\n",
       "Portage Bay                  228.533333\n",
       "Briarcliff                   212.478261\n",
       "Belltown                     195.643911\n",
       "Pioneer Square               193.537313\n",
       "Madison Park                 189.807692\n",
       "Sunset Hill                  189.290909\n",
       "Industrial District          186.333333\n",
       "Madrona                      185.619048\n",
       "First Hill                   182.413249\n",
       "North Beach/Blue Ridge       181.266667\n",
       "Fauntleroy                   181.062500\n",
       "Alki                         180.870000\n",
       "North Queen Anne             180.783439\n",
       "Cedar Park                   179.727273\n",
       "East Queen Anne              179.634483\n",
       "Lower Queen Anne             178.445498\n",
       "Holly Park                   172.250000\n",
       "Lawton Park                  165.146341\n",
       "Green Lake                   160.625000\n",
       "International District       158.602941\n",
       "Windermere                   157.545455\n",
       "North Admiral                154.352381\n",
       "Mann                         153.588235\n",
       "Seward Park                  152.831325\n",
       "Eastlake                     147.564356\n",
       "                                ...    \n",
       "Victory Heights              117.743590\n",
       "Atlantic                     117.609756\n",
       "Ravenna                      116.925926\n",
       "North Beacon Hill            116.285024\n",
       "Roosevelt                    115.035714\n",
       "Yesler Terrace               114.650000\n",
       "University District          113.242915\n",
       "Broadview                    110.450000\n",
       "Greenwood                    109.920398\n",
       "Crown Hill                   107.023810\n",
       "North Delridge               106.810345\n",
       "Interbay                     104.625000\n",
       "Brighton                     103.245614\n",
       "Haller Lake                  102.254545\n",
       "Wedgwood                     100.342105\n",
       "Rainier Beach                 97.142857\n",
       "Highland Park                 96.853659\n",
       "Riverview                     96.104167\n",
       "High Point                    93.878049\n",
       "Mid-Beacon Hill               91.035714\n",
       "Pinehurst                     90.735294\n",
       "Bitter Lake                   88.585366\n",
       "South Park                    87.666667\n",
       "Dunlap                        87.368421\n",
       "South Beacon Hill             86.222222\n",
       "North College Park            84.532258\n",
       "South Delridge                81.613636\n",
       "Meadowbrook                   81.388889\n",
       "Rainier View                  76.437500\n",
       "Olympic Hills                 76.392857\n",
       "Name: price, Length: 88, dtype: float64"
      ]
     },
     "execution_count": 165,
     "metadata": {},
     "output_type": "execute_result"
    }
   ],
   "source": [
    "areas_and_prices_2"
   ]
  },
  {
   "cell_type": "markdown",
   "metadata": {},
   "source": [
    "#### Prices of Airbnb in the Neighbourhoods that make up Other Neighbourhoods"
   ]
  },
  {
   "cell_type": "code",
   "execution_count": 166,
   "metadata": {},
   "outputs": [
    {
     "data": {
      "text/plain": [
       "neighbourhood\n",
       "Crown Hill                107.023810\n",
       "Laurelhurst               134.235294\n",
       "Bitter Lake                88.585366\n",
       "Industrial District       186.333333\n",
       "Georgetown                117.826087\n",
       "Ravenna                   116.925926\n",
       "Broadview                 110.450000\n",
       "Greenwood                 109.920398\n",
       "North Beach/Blue Ridge    181.266667\n",
       "South Park                 87.666667\n",
       "Roosevelt                 115.035714\n",
       "Bryant                    119.272727\n",
       "View Ridge                124.272727\n",
       "Wallingford               139.724458\n",
       "Green Lake                160.625000\n",
       "Wedgwood                  100.342105\n",
       "Windermere                157.545455\n",
       "Fremont                   144.244966\n",
       "Phinney Ridge             131.157534\n",
       "Name: price, dtype: float64"
      ]
     },
     "execution_count": 166,
     "metadata": {},
     "output_type": "execute_result"
    }
   ],
   "source": [
    "areas_and_prices_2.loc[other_neighbourhood_set]"
   ]
  },
  {
   "cell_type": "markdown",
   "metadata": {},
   "source": [
    "#### Dropping Other  Neighbourhoods and adding the individual neighbourhoods in that Group"
   ]
  },
  {
   "cell_type": "markdown",
   "metadata": {},
   "source": [
    "#### Reviews"
   ]
  },
  {
   "cell_type": "code",
   "execution_count": 167,
   "metadata": {},
   "outputs": [],
   "source": [
    "areas_and_reviews_cleaned = areas_and_reviews_2.copy(deep =True)"
   ]
  },
  {
   "cell_type": "code",
   "execution_count": 168,
   "metadata": {},
   "outputs": [
    {
     "data": {
      "text/plain": [
       "neighbourhood_group\n",
       "Downtown               51333\n",
       "Capitol Hill           50031\n",
       "Central Area           40932\n",
       "Queen Anne             28131\n",
       "Ballard                26850\n",
       "West Seattle           20644\n",
       "Rainier Valley         19982\n",
       "Beacon Hill            16947\n",
       "Delridge               10054\n",
       "Cascade                 7998\n",
       "Northgate               7537\n",
       "University District     6239\n",
       "Magnolia                5676\n",
       "Lake City               5181\n",
       "Seward Park             3917\n",
       "Interbay                 939\n",
       "Name: number_of_reviews, dtype: int64"
      ]
     },
     "execution_count": 168,
     "metadata": {},
     "output_type": "execute_result"
    }
   ],
   "source": [
    "\n",
    "areas_and_reviews_cleaned.drop(\"Other neighborhoods\", inplace = True)\n",
    "areas_and_reviews_cleaned"
   ]
  },
  {
   "cell_type": "code",
   "execution_count": 169,
   "metadata": {},
   "outputs": [],
   "source": [
    "areas_and_reviews_cleaned = areas_and_reviews_cleaned.append(areas_and_reviews_3.loc[other_neighbourhood_set]).sort_values(ascending = False)"
   ]
  },
  {
   "cell_type": "code",
   "execution_count": 170,
   "metadata": {},
   "outputs": [
    {
     "data": {
      "text/plain": [
       "Downtown                  51333\n",
       "Capitol Hill              50031\n",
       "Central Area              40932\n",
       "Queen Anne                28131\n",
       "Ballard                   26850\n",
       "West Seattle              20644\n",
       "Rainier Valley            19982\n",
       "Beacon Hill               16947\n",
       "Fremont                   16246\n",
       "Wallingford               14994\n",
       "Delridge                  10054\n",
       "Greenwood                  8009\n",
       "Cascade                    7998\n",
       "Northgate                  7537\n",
       "University District        6239\n",
       "Green Lake                 5756\n",
       "Magnolia                   5676\n",
       "Phinney Ridge              5641\n",
       "Lake City                  5181\n",
       "Ravenna                    4479\n",
       "Seward Park                3917\n",
       "Roosevelt                  2847\n",
       "Crown Hill                 2080\n",
       "Broadview                  1799\n",
       "Bryant                     1765\n",
       "Georgetown                 1581\n",
       "Bitter Lake                1085\n",
       "View Ridge                 1000\n",
       "Wedgwood                    975\n",
       "North Beach/Blue Ridge      965\n",
       "Interbay                    939\n",
       "Laurelhurst                 837\n",
       "South Park                  666\n",
       "Windermere                  557\n",
       "Industrial District         161\n",
       "Name: number_of_reviews, dtype: int64"
      ]
     },
     "execution_count": 170,
     "metadata": {},
     "output_type": "execute_result"
    }
   ],
   "source": [
    "areas_and_reviews_cleaned"
   ]
  },
  {
   "cell_type": "markdown",
   "metadata": {},
   "source": [
    "#### Prices "
   ]
  },
  {
   "cell_type": "code",
   "execution_count": 171,
   "metadata": {},
   "outputs": [],
   "source": [
    "areas_and_prices_cleaned = areas_and_prices.copy(deep =True)"
   ]
  },
  {
   "cell_type": "code",
   "execution_count": 172,
   "metadata": {},
   "outputs": [],
   "source": [
    "areas_and_prices_cleaned.drop(\"Other neighborhoods\", inplace = True)"
   ]
  },
  {
   "cell_type": "code",
   "execution_count": 174,
   "metadata": {},
   "outputs": [
    {
     "data": {
      "text/plain": [
       "neighbourhood_group\n",
       "Downtown               204.373095\n",
       "Queen Anne             192.838760\n",
       "Cascade                179.384615\n",
       "Magnolia               164.676829\n",
       "Central Area           154.694226\n",
       "Seward Park            152.831325\n",
       "West Seattle           149.571739\n",
       "Capitol Hill           143.418945\n",
       "Ballard                142.504065\n",
       "Lake City              121.567742\n",
       "Rainier Valley         120.344418\n",
       "University District    113.242915\n",
       "Beacon Hill            108.059701\n",
       "Interbay               104.625000\n",
       "Northgate              103.070093\n",
       "Delridge                97.113360\n",
       "Name: price, dtype: float64"
      ]
     },
     "execution_count": 174,
     "metadata": {},
     "output_type": "execute_result"
    }
   ],
   "source": [
    "areas_and_prices_cleaned"
   ]
  },
  {
   "cell_type": "code",
   "execution_count": 175,
   "metadata": {},
   "outputs": [],
   "source": [
    "areas_and_prices_cleaned = areas_and_prices_cleaned.append(areas_and_prices_2.loc[other_neighbourhood_set]).sort_values(ascending = False)"
   ]
  },
  {
   "cell_type": "code",
   "execution_count": 176,
   "metadata": {},
   "outputs": [
    {
     "data": {
      "text/plain": [
       "Downtown                  204.373095\n",
       "Queen Anne                192.838760\n",
       "Industrial District       186.333333\n",
       "North Beach/Blue Ridge    181.266667\n",
       "Cascade                   179.384615\n",
       "Magnolia                  164.676829\n",
       "Green Lake                160.625000\n",
       "Windermere                157.545455\n",
       "Central Area              154.694226\n",
       "Seward Park               152.831325\n",
       "West Seattle              149.571739\n",
       "Fremont                   144.244966\n",
       "Capitol Hill              143.418945\n",
       "Ballard                   142.504065\n",
       "Wallingford               139.724458\n",
       "Laurelhurst               134.235294\n",
       "Phinney Ridge             131.157534\n",
       "View Ridge                124.272727\n",
       "Lake City                 121.567742\n",
       "Rainier Valley            120.344418\n",
       "Bryant                    119.272727\n",
       "Georgetown                117.826087\n",
       "Ravenna                   116.925926\n",
       "Roosevelt                 115.035714\n",
       "University District       113.242915\n",
       "Broadview                 110.450000\n",
       "Greenwood                 109.920398\n",
       "Beacon Hill               108.059701\n",
       "Crown Hill                107.023810\n",
       "Interbay                  104.625000\n",
       "Northgate                 103.070093\n",
       "Wedgwood                  100.342105\n",
       "Delridge                   97.113360\n",
       "Bitter Lake                88.585366\n",
       "South Park                 87.666667\n",
       "Name: price, dtype: float64"
      ]
     },
     "execution_count": 176,
     "metadata": {},
     "output_type": "execute_result"
    }
   ],
   "source": [
    "areas_and_prices_cleaned "
   ]
  },
  {
   "cell_type": "markdown",
   "metadata": {},
   "source": [
    "Revised Reviews of Neighbourhood Groups and Prices of Airbnb in Seattle"
   ]
  },
  {
   "cell_type": "code",
   "execution_count": 180,
   "metadata": {},
   "outputs": [
    {
     "data": {
      "text/plain": [
       "Text(0.5, 1.0, '# of Airbnb Reviews in Revised Seattle Neighbourhood Groups')"
      ]
     },
     "execution_count": 180,
     "metadata": {},
     "output_type": "execute_result"
    },
    {
     "data": {
      "image/png": "[encoded data removed]",
      "text/plain": [
       "<Figure size 1440x720 with 1 Axes>"
      ]
     },
     "metadata": {
      "needs_background": "light"
     },
     "output_type": "display_data"
    }
   ],
   "source": [
    "areas_and_reviews_cleaned.plot(kind = \"bar\", figsize = (20,10), legend = )\n",
    "\n",
    "plt.title(\"# of Airbnb Reviews in Revised Seattle Neighbourhood Groups\")\n"
   ]
  },
  {
   "cell_type": "code",
   "execution_count": null,
   "metadata": {},
   "outputs": [],
   "source": []
  }
 ],
 "metadata": {
  "kernelspec": {
   "display_name": "Python 3",
   "language": "python",
   "name": "python3"
  },
  "language_info": {
   "codemirror_mode": {
    "name": "ipython",
    "version": 3
   },
   "file_extension": ".py",
   "mimetype": "text/x-python",
   "name": "python",
   "nbconvert_exporter": "python",
   "pygments_lexer": "ipython3",
   "version": "3.7.1"
  }
 },
 "nbformat": 4,
 "nbformat_minor": 1
}
